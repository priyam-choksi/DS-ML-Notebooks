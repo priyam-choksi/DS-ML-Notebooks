{
 "cells": [
  {
   "cell_type": "markdown",
   "id": "e483403e",
   "metadata": {
    "papermill": {
     "duration": 0.003263,
     "end_time": "2024-04-25T23:20:23.384954",
     "exception": false,
     "start_time": "2024-04-25T23:20:23.381691",
     "status": "completed"
    },
    "tags": []
   },
   "source": [
    "### Decision Tree Classification on the Iris Dataset\n",
    "\n",
    "The provided code snippet demonstrates the application of a Decision Tree classifier to the Iris dataset. This dataset includes measurements of 150 iris flowers from three different species. The code utilizes the Decision Tree algorithm to predict the species based on features such as sepal length, sepal width, petal length, and petal width. The code makes use of two criteria for splitting the data: entropy and Gini impurity.\n",
    "\n",
    "#### Steps and Concepts:\n",
    "\n",
    "1. **Splitting the Dataset**: The dataset is split into training and test sets using `train_test_split()`, where 70% of the data is used for training and 30% for testing. The dimensions of the training and test sets are printed to confirm the sizes.\n",
    "\n",
    "2. **Training the Decision Tree**: Two Decision Tree models are trained:\n",
    "   - **Using Entropy**: A tree (`clf_entropy`) is trained using entropy as the criterion for splitting. Entropy measures the impurity of a node and is given by \\(-\\sum p_i \\log_2 p_i\\), where \\(p_i\\) is the proportion of the samples that belong to class \\(i\\) at a given node.\n",
    "   - **Using Gini Impurity**: Another tree (`clf_gini`) is trained using the Gini impurity as the criterion, calculated as \\(1 - \\sum p_i^2\\). Gini impurity is a measure of how often a randomly chosen element from the set would be incorrectly labeled if it was randomly labeled according to the distribution of labels in the subset.\n",
    "\n",
    "3. **Making Predictions and Evaluating the Model**: Each model makes predictions on the test set. The predicted species for each sample are printed.\n",
    "\n",
    "4. **Accuracy and Metrics**: The accuracy of the model, along with a confusion matrix and a classification report (which includes precision, recall, and F1-score), is printed for each classifier. This provides a detailed view of the model's performance:\n",
    "   - **Confusion Matrix**: Shows the correct and incorrect predictions for each class.\n",
    "   - **Accuracy**: Gives the percentage of total correct predictions.\n",
    "   - **Precision and Recall**: Precision is the ratio of correct positive observations to the total predicted positives. Recall is the ratio of correct positive observations to all actual positives.\n",
    "   - **F1-Score**: The harmonic mean of precision and recall, providing a balance between them.\n",
    "\n",
    "#### Summary:\n",
    "The Decision Tree classifier is applied here to effectively distinguish between different species of iris plants based on their physical characteristics. By using both entropy and Gini impurity, the code demonstrates two approaches to manage decision-making in tree structures. This is particularly useful in educational settings or in practical scenarios where the trade-offs between different decision criteria are being evaluated.\n"
   ]
  },
  {
   "cell_type": "code",
   "execution_count": 1,
   "id": "6b5da249",
   "metadata": {
    "execution": {
     "iopub.execute_input": "2024-04-25T23:20:23.392363Z",
     "iopub.status.busy": "2024-04-25T23:20:23.392008Z",
     "iopub.status.idle": "2024-04-25T23:20:24.748603Z",
     "shell.execute_reply": "2024-04-25T23:20:24.747719Z"
    },
    "id": "92d3ce84",
    "papermill": {
     "duration": 1.363239,
     "end_time": "2024-04-25T23:20:24.751186",
     "exception": false,
     "start_time": "2024-04-25T23:20:23.387947",
     "status": "completed"
    },
    "tags": []
   },
   "outputs": [],
   "source": [
    "from sklearn.metrics import confusion_matrix\n",
    "from sklearn.model_selection import train_test_split\n",
    "from sklearn.tree import DecisionTreeClassifier\n",
    "from sklearn.metrics import accuracy_score\n",
    "from sklearn.metrics import classification_report\n",
    "from sklearn.datasets import load_iris\n",
    "iris=load_iris()"
   ]
  },
  {
   "cell_type": "code",
   "execution_count": 2,
   "id": "116da8b0",
   "metadata": {
    "execution": {
     "iopub.execute_input": "2024-04-25T23:20:24.758343Z",
     "iopub.status.busy": "2024-04-25T23:20:24.757998Z",
     "iopub.status.idle": "2024-04-25T23:20:24.762467Z",
     "shell.execute_reply": "2024-04-25T23:20:24.761494Z"
    },
    "id": "dd4c544d",
    "papermill": {
     "duration": 0.010515,
     "end_time": "2024-04-25T23:20:24.764636",
     "exception": false,
     "start_time": "2024-04-25T23:20:24.754121",
     "status": "completed"
    },
    "tags": []
   },
   "outputs": [],
   "source": [
    "X,y=iris.data,iris.target"
   ]
  },
  {
   "cell_type": "code",
   "execution_count": 3,
   "id": "8c44af12",
   "metadata": {
    "execution": {
     "iopub.execute_input": "2024-04-25T23:20:24.771845Z",
     "iopub.status.busy": "2024-04-25T23:20:24.771245Z",
     "iopub.status.idle": "2024-04-25T23:20:24.776197Z",
     "shell.execute_reply": "2024-04-25T23:20:24.775247Z"
    },
    "id": "abe99084",
    "papermill": {
     "duration": 0.010759,
     "end_time": "2024-04-25T23:20:24.778217",
     "exception": false,
     "start_time": "2024-04-25T23:20:24.767458",
     "status": "completed"
    },
    "tags": []
   },
   "outputs": [],
   "source": [
    "def train_using_gini(X_train, y_train):\n",
    "    clf_gini = DecisionTreeClassifier(criterion = \"gini\", random_state = 100,max_depth=3, min_samples_leaf=4)\n",
    "    clf_gini.fit(X_train, y_train)\n",
    "    return clf_gini"
   ]
  },
  {
   "cell_type": "code",
   "execution_count": 4,
   "id": "3747308a",
   "metadata": {
    "execution": {
     "iopub.execute_input": "2024-04-25T23:20:24.785688Z",
     "iopub.status.busy": "2024-04-25T23:20:24.784906Z",
     "iopub.status.idle": "2024-04-25T23:20:24.789870Z",
     "shell.execute_reply": "2024-04-25T23:20:24.788976Z"
    },
    "id": "3e9ddda5",
    "papermill": {
     "duration": 0.0109,
     "end_time": "2024-04-25T23:20:24.791944",
     "exception": false,
     "start_time": "2024-04-25T23:20:24.781044",
     "status": "completed"
    },
    "tags": []
   },
   "outputs": [],
   "source": [
    "def train_using_entropy(X_train,y_train):\n",
    "    clf_entropy = DecisionTreeClassifier(criterion=\"entropy\",random_state = 100,max_depth=3,min_samples_leaf=4)\n",
    "    clf_entropy.fit(X_train,y_train)\n",
    "    return clf_entropy"
   ]
  },
  {
   "cell_type": "code",
   "execution_count": 5,
   "id": "75570a0a",
   "metadata": {
    "execution": {
     "iopub.execute_input": "2024-04-25T23:20:24.799309Z",
     "iopub.status.busy": "2024-04-25T23:20:24.798951Z",
     "iopub.status.idle": "2024-04-25T23:20:24.803755Z",
     "shell.execute_reply": "2024-04-25T23:20:24.802768Z"
    },
    "id": "74fd9b39",
    "papermill": {
     "duration": 0.010799,
     "end_time": "2024-04-25T23:20:24.805780",
     "exception": false,
     "start_time": "2024-04-25T23:20:24.794981",
     "status": "completed"
    },
    "tags": []
   },
   "outputs": [],
   "source": [
    "def prediction(X_test,clf_object):\n",
    "    y_pred=clf_object.predict(X_test)\n",
    "    print(\"Predicted values:\",y_pred)\n",
    "    return y_pred"
   ]
  },
  {
   "cell_type": "code",
   "execution_count": 6,
   "id": "6355b526",
   "metadata": {
    "execution": {
     "iopub.execute_input": "2024-04-25T23:20:24.813928Z",
     "iopub.status.busy": "2024-04-25T23:20:24.813125Z",
     "iopub.status.idle": "2024-04-25T23:20:24.818259Z",
     "shell.execute_reply": "2024-04-25T23:20:24.817324Z"
    },
    "id": "0b47818b",
    "papermill": {
     "duration": 0.011398,
     "end_time": "2024-04-25T23:20:24.820231",
     "exception": false,
     "start_time": "2024-04-25T23:20:24.808833",
     "status": "completed"
    },
    "tags": []
   },
   "outputs": [],
   "source": [
    "def cal_accuracy(y_test,y_pred):\n",
    "    print(\"Confusion Matrix: \",confusion_matrix(y_test,y_pred))\n",
    "    print(\"Accuracy:\",accuracy_score(y_test,y_pred)*100)\n",
    "    print(\"Report :\",classification_report(y_test,y_pred))"
   ]
  },
  {
   "cell_type": "code",
   "execution_count": 7,
   "id": "4821031f",
   "metadata": {
    "execution": {
     "iopub.execute_input": "2024-04-25T23:20:24.827831Z",
     "iopub.status.busy": "2024-04-25T23:20:24.827237Z",
     "iopub.status.idle": "2024-04-25T23:20:24.834761Z",
     "shell.execute_reply": "2024-04-25T23:20:24.833698Z"
    },
    "id": "q3_dukTN6OL-",
    "outputId": "d0ffaf5b-a17c-4fa8-9b5d-8f843860717d",
    "papermill": {
     "duration": 0.013513,
     "end_time": "2024-04-25T23:20:24.836792",
     "exception": false,
     "start_time": "2024-04-25T23:20:24.823279",
     "status": "completed"
    },
    "tags": []
   },
   "outputs": [
    {
     "name": "stdout",
     "output_type": "stream",
     "text": [
      "Dimensions for training data (105, 4)\n",
      "Dimensions for testing data (105,)\n"
     ]
    }
   ],
   "source": [
    "X_train, X_test, y_train, y_test = train_test_split( X, y, test_size = 0.3, random_state = 100)\n",
    "print(\"Dimensions for training data\",X_train.shape)\n",
    "print(\"Dimensions for testing data\",y_train.shape)"
   ]
  },
  {
   "cell_type": "code",
   "execution_count": 8,
   "id": "021cc261",
   "metadata": {
    "execution": {
     "iopub.execute_input": "2024-04-25T23:20:24.844545Z",
     "iopub.status.busy": "2024-04-25T23:20:24.843879Z",
     "iopub.status.idle": "2024-04-25T23:20:24.864177Z",
     "shell.execute_reply": "2024-04-25T23:20:24.863058Z"
    },
    "id": "a7ed365c",
    "outputId": "fea336b3-af9a-4d5c-d6b5-78b02c38f2cf",
    "papermill": {
     "duration": 0.026336,
     "end_time": "2024-04-25T23:20:24.866201",
     "exception": false,
     "start_time": "2024-04-25T23:20:24.839865",
     "status": "completed"
    },
    "tags": []
   },
   "outputs": [
    {
     "name": "stdout",
     "output_type": "stream",
     "text": [
      "Result:\n",
      "Predicted values: [2 0 2 0 2 2 0 0 2 0 0 2 0 0 2 1 1 2 2 2 2 0 2 0 1 2 1 0 1 2 1 1 1 0 0 1 0\n",
      " 1 2 2 0 1 2 2 0]\n",
      "Confusion Matrix:  [[16  0  0]\n",
      " [ 0 10  1]\n",
      " [ 0  1 17]]\n",
      "Accuracy: 95.55555555555556\n",
      "Report :               precision    recall  f1-score   support\n",
      "\n",
      "           0       1.00      1.00      1.00        16\n",
      "           1       0.91      0.91      0.91        11\n",
      "           2       0.94      0.94      0.94        18\n",
      "\n",
      "    accuracy                           0.96        45\n",
      "   macro avg       0.95      0.95      0.95        45\n",
      "weighted avg       0.96      0.96      0.96        45\n",
      "\n"
     ]
    }
   ],
   "source": [
    "clf_gini = train_using_gini(X_train, y_train)\n",
    "print(\"Result:\")\n",
    "y_pred_gini = prediction(X_test, clf_gini)\n",
    "cal_accuracy(y_test, y_pred_gini)"
   ]
  },
  {
   "cell_type": "code",
   "execution_count": 9,
   "id": "c02a37ec",
   "metadata": {
    "execution": {
     "iopub.execute_input": "2024-04-25T23:20:24.874045Z",
     "iopub.status.busy": "2024-04-25T23:20:24.873478Z",
     "iopub.status.idle": "2024-04-25T23:20:24.888172Z",
     "shell.execute_reply": "2024-04-25T23:20:24.887041Z"
    },
    "id": "0cd3759c",
    "outputId": "9b59c220-ec6e-4249-a9d9-beb7f7f26c2e",
    "papermill": {
     "duration": 0.020786,
     "end_time": "2024-04-25T23:20:24.890212",
     "exception": false,
     "start_time": "2024-04-25T23:20:24.869426",
     "status": "completed"
    },
    "tags": []
   },
   "outputs": [
    {
     "name": "stdout",
     "output_type": "stream",
     "text": [
      "Predicted values: [2 0 2 0 2 2 0 0 2 0 0 2 0 0 2 1 1 2 2 2 2 0 2 0 1 2 1 0 1 2 1 1 1 0 0 1 0\n",
      " 1 2 2 0 1 2 2 0]\n",
      "Confusion Matrix:  [[16  0  0]\n",
      " [ 0 10  1]\n",
      " [ 0  1 17]]\n",
      "Accuracy: 95.55555555555556\n",
      "Report :               precision    recall  f1-score   support\n",
      "\n",
      "           0       1.00      1.00      1.00        16\n",
      "           1       0.91      0.91      0.91        11\n",
      "           2       0.94      0.94      0.94        18\n",
      "\n",
      "    accuracy                           0.96        45\n",
      "   macro avg       0.95      0.95      0.95        45\n",
      "weighted avg       0.96      0.96      0.96        45\n",
      "\n"
     ]
    }
   ],
   "source": [
    "clf_entropy = train_using_entropy(X_train,y_train)\n",
    "y_pred_entropy = prediction(X_test, clf_entropy)\n",
    "cal_accuracy(y_test, y_pred_entropy)"
   ]
  }
 ],
 "metadata": {
  "colab": {
   "provenance": []
  },
  "kaggle": {
   "accelerator": "none",
   "dataSources": [],
   "isGpuEnabled": false,
   "isInternetEnabled": true,
   "language": "python",
   "sourceType": "notebook"
  },
  "kernelspec": {
   "display_name": "Python 3 (ipykernel)",
   "language": "python",
   "name": "python3"
  },
  "language_info": {
   "codemirror_mode": {
    "name": "ipython",
    "version": 3
   },
   "file_extension": ".py",
   "mimetype": "text/x-python",
   "name": "python",
   "nbconvert_exporter": "python",
   "pygments_lexer": "ipython3",
   "version": "3.10.13"
  },
  "papermill": {
   "default_parameters": {},
   "duration": 4.443266,
   "end_time": "2024-04-25T23:20:25.312022",
   "environment_variables": {},
   "exception": null,
   "input_path": "__notebook__.ipynb",
   "output_path": "__notebook__.ipynb",
   "parameters": {},
   "start_time": "2024-04-25T23:20:20.868756",
   "version": "2.5.0"
  }
 },
 "nbformat": 4,
 "nbformat_minor": 5
}
