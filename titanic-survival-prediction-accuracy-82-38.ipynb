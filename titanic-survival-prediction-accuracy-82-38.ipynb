{
 "cells": [
  {
   "cell_type": "code",
   "execution_count": 1,
   "id": "21fab5cd",
   "metadata": {
    "_cell_guid": "b1076dfc-b9ad-4769-8c92-a6c4dae69d19",
    "_uuid": "8f2839f25d086af736a60e9eeb907d3b93b6e0e5",
    "execution": {
     "iopub.execute_input": "2024-03-29T01:09:50.238731Z",
     "iopub.status.busy": "2024-03-29T01:09:50.238168Z",
     "iopub.status.idle": "2024-03-29T01:09:51.391995Z",
     "shell.execute_reply": "2024-03-29T01:09:51.390782Z"
    },
    "papermill": {
     "duration": 1.162607,
     "end_time": "2024-03-29T01:09:51.395149",
     "exception": false,
     "start_time": "2024-03-29T01:09:50.232542",
     "status": "completed"
    },
    "tags": []
   },
   "outputs": [
    {
     "name": "stdout",
     "output_type": "stream",
     "text": [
      "/kaggle/input/titanic/train.csv\n",
      "/kaggle/input/titanic/test.csv\n",
      "/kaggle/input/titanic/gender_submission.csv\n"
     ]
    }
   ],
   "source": [
    "# This Python 3 environment comes with many helpful analytics libraries installed\n",
    "# It is defined by the kaggle/python Docker image: https://github.com/kaggle/docker-python\n",
    "# For example, here's several helpful packages to load\n",
    "\n",
    "import numpy as np # linear algebra\n",
    "import pandas as pd # data processing, CSV file I/O (e.g. pd.read_csv)\n",
    "\n",
    "# Input data files are available in the read-only \"../input/\" directory\n",
    "# For example, running this (by clicking run or pressing Shift+Enter) will list all files under the input directory\n",
    "\n",
    "import os\n",
    "for dirname, _, filenames in os.walk('/kaggle/input'):\n",
    "    for filename in filenames:\n",
    "        print(os.path.join(dirname, filename))\n",
    "\n",
    "# You can write up to 20GB to the current directory (/kaggle/working/) that gets preserved as output when you create a version using \"Save & Run All\" \n",
    "# You can also write temporary files to /kaggle/temp/, but they won't be saved outside of the current session"
   ]
  },
  {
   "cell_type": "markdown",
   "id": "df6f7d71",
   "metadata": {
    "papermill": {
     "duration": 0.00402,
     "end_time": "2024-03-29T01:09:51.404156",
     "exception": false,
     "start_time": "2024-03-29T01:09:51.400136",
     "status": "completed"
    },
    "tags": []
   },
   "source": [
    "This Python script is designed for a Kaggle competition focused on the Titanic dataset, with the goal of predicting passenger survival. "
   ]
  },
  {
   "cell_type": "code",
   "execution_count": 2,
   "id": "8c396b70",
   "metadata": {
    "execution": {
     "iopub.execute_input": "2024-03-29T01:09:51.415371Z",
     "iopub.status.busy": "2024-03-29T01:09:51.414811Z",
     "iopub.status.idle": "2024-03-29T01:09:55.107724Z",
     "shell.execute_reply": "2024-03-29T01:09:55.106542Z"
    },
    "papermill": {
     "duration": 3.701674,
     "end_time": "2024-03-29T01:09:55.110276",
     "exception": false,
     "start_time": "2024-03-29T01:09:51.408602",
     "status": "completed"
    },
    "tags": []
   },
   "outputs": [
    {
     "name": "stdout",
     "output_type": "stream",
     "text": [
      "% of females who survived: 0.7420\n",
      "% of males who survived: 0.1889\n",
      "Cross-validated accuracy: 0.8238\n",
      "Finished!\n"
     ]
    }
   ],
   "source": [
    "import pandas as pd\n",
    "from sklearn.ensemble import RandomForestClassifier\n",
    "from sklearn.model_selection import train_test_split, cross_val_score\n",
    "from sklearn.metrics import accuracy_score\n",
    "from sklearn.impute import SimpleImputer\n",
    "\n",
    "# Load datasets\n",
    "def load_data(file_paths):\n",
    "    data = {name: pd.read_csv(path) for name, path in file_paths.items()}\n",
    "    return data['train'], data['test']\n",
    "\n",
    "# Analyze survival rates by gender\n",
    "def survival_rate_by_gender(data):\n",
    "    rates = {}\n",
    "    for gender in ['female', 'male']:\n",
    "        survived = data[data['Sex'] == gender]['Survived']\n",
    "        rates[gender] = survived.mean()\n",
    "        print(f\"% of {gender}s who survived: {rates[gender]:.4f}\")\n",
    "\n",
    "# Feature engineering\n",
    "def feature_engineering(df):\n",
    "    df['FamilySize'] = df['SibSp'] + df['Parch'] + 1\n",
    "    df['IsAlone'] = (df['FamilySize'] == 1).astype(int)\n",
    "    imputer = SimpleImputer(strategy='median')\n",
    "    df['Age'] = imputer.fit_transform(df[['Age']])\n",
    "    return df\n",
    "\n",
    "# Prepare data for modeling\n",
    "def prepare_data(train, test, features):\n",
    "    train_fe = feature_engineering(train.copy())\n",
    "    test_fe = feature_engineering(test.copy())\n",
    "    \n",
    "    # Additional features to include after engineering\n",
    "    engineered_features = ['FamilySize', 'IsAlone', 'Age']\n",
    "    \n",
    "    X = pd.get_dummies(train_fe[features + engineered_features], drop_first=True)\n",
    "    y = train_fe['Survived']\n",
    "    X_test = pd.get_dummies(test_fe[features + engineered_features], drop_first=True)\n",
    "    \n",
    "    # Align X_test columns to match X\n",
    "    X_test = X_test.reindex(columns=X.columns, fill_value=0)\n",
    "    \n",
    "    return X, y, X_test\n",
    "\n",
    "# Train and evaluate the model using cross-validation\n",
    "def train_and_evaluate(X, y):\n",
    "    model = RandomForestClassifier(n_estimators=100, max_depth=5, random_state=1)\n",
    "    scores = cross_val_score(model, X, y, cv=5, scoring='accuracy')\n",
    "    print(f\"Cross-validated accuracy: {scores.mean():.4f}\")\n",
    "    # Train the model on the entire dataset for prediction\n",
    "    model.fit(X, y)\n",
    "    return model\n",
    "\n",
    "# Predict on test data\n",
    "def predict_test_data(model, X_test, test_data):\n",
    "    predictions = model.predict(X_test)\n",
    "    return pd.DataFrame({'PassengerId': test_data['PassengerId'], 'Survived': predictions})\n",
    "\n",
    "# Main function orchestrates the workflow\n",
    "def main():\n",
    "    train_data, test_data = load_data({\n",
    "        'train': \"/kaggle/input/titanic/train.csv\", \n",
    "        'test': \"/kaggle/input/titanic/test.csv\"\n",
    "    })\n",
    "    \n",
    "    survival_rate_by_gender(train_data)\n",
    "    \n",
    "    features = [\"Pclass\", \"Sex\", \"SibSp\", \"Parch\"]\n",
    "    X, y, X_test = prepare_data(train_data, test_data, features)\n",
    "    \n",
    "    model = train_and_evaluate(X, y)\n",
    "    \n",
    "    output = predict_test_data(model, X_test, test_data)\n",
    "    output.to_csv('submission.csv', index=False)\n",
    "    print(\"Finished!\")\n",
    "\n",
    "if __name__ == \"__main__\":\n",
    "    main()\n"
   ]
  },
  {
   "cell_type": "markdown",
   "id": "63a3d9ef",
   "metadata": {
    "papermill": {
     "duration": 0.003226,
     "end_time": "2024-03-29T01:09:55.117069",
     "exception": false,
     "start_time": "2024-03-29T01:09:55.113843",
     "status": "completed"
    },
    "tags": []
   },
   "source": [
    "- **Survival Rates by Gender**: The script first prints the survival rates by gender, showing that 74.20% of females survived while only 18.89% of males did. This significant difference underscores the importance of gender as a feature in predicting survival, reflecting historical accounts where women and children were given priority for lifeboat spots.\n",
    "- **Cross-validated Accuracy**: The model achieves a cross-validated accuracy of 82.38%, which is a robust estimate of how well the model is expected to perform on unseen data. This high accuracy indicates that the RandomForestClassifier, combined with the chosen features"
   ]
  },
  {
   "cell_type": "markdown",
   "id": "05a89075",
   "metadata": {
    "papermill": {
     "duration": 0.003181,
     "end_time": "2024-03-29T01:09:55.123788",
     "exception": false,
     "start_time": "2024-03-29T01:09:55.120607",
     "status": "completed"
    },
    "tags": []
   },
   "source": [
    "# Conclusion\n",
    "\n",
    "1. **Predictive Power of Features**: The analysis of survival rates by gender demonstrates the significant impact of certain features on survival outcomes. This highlights the importance of feature selection and engineering in building effective predictive models. In this case, gender plays a critical role, with females having a substantially higher survival rate compared to males, reflecting historical accounts of the \"women and children first\" protocol during the disaster.\n",
    "\n",
    "2. **Efficiency of Machine Learning Models**: The use of the RandomForestClassifier model showcases how machine learning can efficiently handle complex patterns in data that may not be immediately apparent through simple statistical analysis. RandomForest, a powerful ensemble method, is particularly suited for this task due to its ability to handle categorical data and its robustness against overfitting.\n",
    "\n",
    "3. **Validation and Model Evaluation**: By partitioning the data into training and validation sets, the script demonstrates the necessity of model evaluation using unseen data. The accuracy score obtained on the validation set serves as a proxy for the model's expected performance on real-world, unseen data, ensuring the model's generalizability.\n",
    "\n",
    "In conclusion, the notebook follows a structured approach to tackling predictive modeling challenges, emphasizing the importance of understanding the data, selecting appropriate features, evaluating model performance, and preparing for deployment. \n"
   ]
  },
  {
   "cell_type": "code",
   "execution_count": null,
   "id": "0cb2b610",
   "metadata": {
    "papermill": {
     "duration": 0.003267,
     "end_time": "2024-03-29T01:09:55.131268",
     "exception": false,
     "start_time": "2024-03-29T01:09:55.128001",
     "status": "completed"
    },
    "tags": []
   },
   "outputs": [],
   "source": []
  }
 ],
 "metadata": {
  "kaggle": {
   "accelerator": "none",
   "dataSources": [
    {
     "databundleVersionId": 26502,
     "sourceId": 3136,
     "sourceType": "competition"
    }
   ],
   "dockerImageVersionId": 30673,
   "isGpuEnabled": false,
   "isInternetEnabled": true,
   "language": "python",
   "sourceType": "notebook"
  },
  "kernelspec": {
   "display_name": "Python 3",
   "language": "python",
   "name": "python3"
  },
  "language_info": {
   "codemirror_mode": {
    "name": "ipython",
    "version": 3
   },
   "file_extension": ".py",
   "mimetype": "text/x-python",
   "name": "python",
   "nbconvert_exporter": "python",
   "pygments_lexer": "ipython3",
   "version": "3.10.13"
  },
  "papermill": {
   "default_parameters": {},
   "duration": 8.984984,
   "end_time": "2024-03-29T01:09:55.856804",
   "environment_variables": {},
   "exception": null,
   "input_path": "__notebook__.ipynb",
   "output_path": "__notebook__.ipynb",
   "parameters": {},
   "start_time": "2024-03-29T01:09:46.871820",
   "version": "2.5.0"
  }
 },
 "nbformat": 4,
 "nbformat_minor": 5
}
