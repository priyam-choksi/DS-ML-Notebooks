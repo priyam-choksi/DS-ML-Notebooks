{
 "cells": [
  {
   "cell_type": "code",
   "execution_count": 1,
   "id": "21e1b0d4",
   "metadata": {
    "_cell_guid": "b1076dfc-b9ad-4769-8c92-a6c4dae69d19",
    "_uuid": "8f2839f25d086af736a60e9eeb907d3b93b6e0e5",
    "execution": {
     "iopub.execute_input": "2023-04-16T11:56:07.782591Z",
     "iopub.status.busy": "2023-04-16T11:56:07.782139Z",
     "iopub.status.idle": "2023-04-16T11:56:07.799215Z",
     "shell.execute_reply": "2023-04-16T11:56:07.797729Z"
    },
    "papermill": {
     "duration": 0.025239,
     "end_time": "2023-04-16T11:56:07.801397",
     "exception": false,
     "start_time": "2023-04-16T11:56:07.776158",
     "status": "completed"
    },
    "tags": []
   },
   "outputs": [
    {
     "name": "stdout",
     "output_type": "stream",
     "text": [
      "/kaggle/input/tmnist-alphabet-94-characters/94_character_TMNIST.csv\n"
     ]
    }
   ],
   "source": [
    "# This Python 3 environment comes with many helpful analytics libraries installed\n",
    "# It is defined by the kaggle/python Docker image: https://github.com/kaggle/docker-python\n",
    "# For example, here's several helpful packages to load\n",
    "\n",
    "import numpy as np # linear algebra\n",
    "import pandas as pd # data processing, CSV file I/O (e.g. pd.read_csv)\n",
    "\n",
    "# Input data files are available in the read-only \"../input/\" directory\n",
    "# For example, running this (by clicking run or pressing Shift+Enter) will list all files under the input directory\n",
    "\n",
    "import os\n",
    "for dirname, _, filenames in os.walk('/kaggle/input'):\n",
    "    for filename in filenames:\n",
    "        print(os.path.join(dirname, filename))\n",
    "\n",
    "# You can write up to 20GB to the current directory (/kaggle/working/) that gets preserved as output when you create a version using \"Save & Run All\" \n",
    "# You can also write temporary files to /kaggle/temp/, but they won't be saved outside of the current session"
   ]
  },
  {
   "cell_type": "code",
   "execution_count": 2,
   "id": "f8d78ded",
   "metadata": {
    "execution": {
     "iopub.execute_input": "2023-04-16T11:56:07.809562Z",
     "iopub.status.busy": "2023-04-16T11:56:07.809298Z",
     "iopub.status.idle": "2023-04-16T11:56:10.856498Z",
     "shell.execute_reply": "2023-04-16T11:56:10.855494Z"
    },
    "papermill": {
     "duration": 3.054079,
     "end_time": "2023-04-16T11:56:10.859003",
     "exception": false,
     "start_time": "2023-04-16T11:56:07.804924",
     "status": "completed"
    },
    "tags": []
   },
   "outputs": [],
   "source": [
    "import torch\n",
    "import torch.nn as nn\n",
    "import torch.nn.functional as F\n",
    "\n",
    "from sklearn.model_selection import train_test_split\n",
    "import pandas as pd\n",
    "import numpy as np\n",
    "import matplotlib.pyplot as plt\n",
    "%matplotlib inline"
   ]
  },
  {
   "cell_type": "code",
   "execution_count": 3,
   "id": "b97bf252",
   "metadata": {
    "execution": {
     "iopub.execute_input": "2023-04-16T11:56:10.869166Z",
     "iopub.status.busy": "2023-04-16T11:56:10.868707Z",
     "iopub.status.idle": "2023-04-16T11:56:10.939822Z",
     "shell.execute_reply": "2023-04-16T11:56:10.938836Z"
    },
    "papermill": {
     "duration": 0.078129,
     "end_time": "2023-04-16T11:56:10.941968",
     "exception": false,
     "start_time": "2023-04-16T11:56:10.863839",
     "status": "completed"
    },
    "tags": []
   },
   "outputs": [
    {
     "name": "stdout",
     "output_type": "stream",
     "text": [
      "cuda\n"
     ]
    }
   ],
   "source": [
    "# Hyperparameters\n",
    "batch_size = 128 # How many independent images should we process in parallel.\n",
    "n_hidden = 128 # Define the number of hidden layers in dense neural net layer.\n",
    "max_iters = 10000 # Number of training iterations of the model.\n",
    "device = 'cuda' if torch.cuda.is_available() else 'cpu'\n",
    "print(device)"
   ]
  },
  {
   "cell_type": "code",
   "execution_count": 4,
   "id": "a2c41ba3",
   "metadata": {
    "execution": {
     "iopub.execute_input": "2023-04-16T11:56:10.950537Z",
     "iopub.status.busy": "2023-04-16T11:56:10.949930Z",
     "iopub.status.idle": "2023-04-16T11:56:41.068000Z",
     "shell.execute_reply": "2023-04-16T11:56:41.066966Z"
    },
    "papermill": {
     "duration": 30.128363,
     "end_time": "2023-04-16T11:56:41.073883",
     "exception": false,
     "start_time": "2023-04-16T11:56:10.945520",
     "status": "completed"
    },
    "tags": []
   },
   "outputs": [
    {
     "data": {
      "text/html": [
       "<div>\n",
       "<style scoped>\n",
       "    .dataframe tbody tr th:only-of-type {\n",
       "        vertical-align: middle;\n",
       "    }\n",
       "\n",
       "    .dataframe tbody tr th {\n",
       "        vertical-align: top;\n",
       "    }\n",
       "\n",
       "    .dataframe thead th {\n",
       "        text-align: right;\n",
       "    }\n",
       "</style>\n",
       "<table border=\"1\" class=\"dataframe\">\n",
       "  <thead>\n",
       "    <tr style=\"text-align: right;\">\n",
       "      <th></th>\n",
       "      <th>names</th>\n",
       "      <th>labels</th>\n",
       "      <th>1</th>\n",
       "      <th>2</th>\n",
       "      <th>3</th>\n",
       "      <th>4</th>\n",
       "      <th>5</th>\n",
       "      <th>6</th>\n",
       "      <th>7</th>\n",
       "      <th>8</th>\n",
       "      <th>...</th>\n",
       "      <th>775</th>\n",
       "      <th>776</th>\n",
       "      <th>777</th>\n",
       "      <th>778</th>\n",
       "      <th>779</th>\n",
       "      <th>780</th>\n",
       "      <th>781</th>\n",
       "      <th>782</th>\n",
       "      <th>783</th>\n",
       "      <th>784</th>\n",
       "    </tr>\n",
       "  </thead>\n",
       "  <tbody>\n",
       "    <tr>\n",
       "      <th>0</th>\n",
       "      <td>Salsa-Regular</td>\n",
       "      <td>6</td>\n",
       "      <td>0.0</td>\n",
       "      <td>0.0</td>\n",
       "      <td>0.0</td>\n",
       "      <td>0.0</td>\n",
       "      <td>0.0</td>\n",
       "      <td>0.0</td>\n",
       "      <td>0.0</td>\n",
       "      <td>0.0</td>\n",
       "      <td>...</td>\n",
       "      <td>0.0</td>\n",
       "      <td>0.0</td>\n",
       "      <td>0.0</td>\n",
       "      <td>0.0</td>\n",
       "      <td>0.0</td>\n",
       "      <td>0.0</td>\n",
       "      <td>0.0</td>\n",
       "      <td>0.0</td>\n",
       "      <td>0.0</td>\n",
       "      <td>0.0</td>\n",
       "    </tr>\n",
       "    <tr>\n",
       "      <th>1</th>\n",
       "      <td>MouseMemoirs-Regular</td>\n",
       "      <td>D</td>\n",
       "      <td>0.0</td>\n",
       "      <td>0.0</td>\n",
       "      <td>0.0</td>\n",
       "      <td>0.0</td>\n",
       "      <td>0.0</td>\n",
       "      <td>0.0</td>\n",
       "      <td>0.0</td>\n",
       "      <td>0.0</td>\n",
       "      <td>...</td>\n",
       "      <td>0.0</td>\n",
       "      <td>0.0</td>\n",
       "      <td>0.0</td>\n",
       "      <td>0.0</td>\n",
       "      <td>0.0</td>\n",
       "      <td>0.0</td>\n",
       "      <td>0.0</td>\n",
       "      <td>0.0</td>\n",
       "      <td>0.0</td>\n",
       "      <td>0.0</td>\n",
       "    </tr>\n",
       "    <tr>\n",
       "      <th>2</th>\n",
       "      <td>Creepster-Regular</td>\n",
       "      <td>f</td>\n",
       "      <td>0.0</td>\n",
       "      <td>0.0</td>\n",
       "      <td>0.0</td>\n",
       "      <td>0.0</td>\n",
       "      <td>0.0</td>\n",
       "      <td>0.0</td>\n",
       "      <td>0.0</td>\n",
       "      <td>0.0</td>\n",
       "      <td>...</td>\n",
       "      <td>0.0</td>\n",
       "      <td>0.0</td>\n",
       "      <td>0.0</td>\n",
       "      <td>0.0</td>\n",
       "      <td>0.0</td>\n",
       "      <td>0.0</td>\n",
       "      <td>0.0</td>\n",
       "      <td>0.0</td>\n",
       "      <td>0.0</td>\n",
       "      <td>0.0</td>\n",
       "    </tr>\n",
       "    <tr>\n",
       "      <th>3</th>\n",
       "      <td>SeoulNamsan-Light</td>\n",
       "      <td>/</td>\n",
       "      <td>0.0</td>\n",
       "      <td>0.0</td>\n",
       "      <td>0.0</td>\n",
       "      <td>0.0</td>\n",
       "      <td>0.0</td>\n",
       "      <td>0.0</td>\n",
       "      <td>0.0</td>\n",
       "      <td>0.0</td>\n",
       "      <td>...</td>\n",
       "      <td>0.0</td>\n",
       "      <td>0.0</td>\n",
       "      <td>0.0</td>\n",
       "      <td>0.0</td>\n",
       "      <td>0.0</td>\n",
       "      <td>0.0</td>\n",
       "      <td>0.0</td>\n",
       "      <td>0.0</td>\n",
       "      <td>0.0</td>\n",
       "      <td>0.0</td>\n",
       "    </tr>\n",
       "    <tr>\n",
       "      <th>4</th>\n",
       "      <td>HachiMaruPop-Regular</td>\n",
       "      <td>F</td>\n",
       "      <td>0.0</td>\n",
       "      <td>0.0</td>\n",
       "      <td>0.0</td>\n",
       "      <td>0.0</td>\n",
       "      <td>0.0</td>\n",
       "      <td>0.0</td>\n",
       "      <td>0.0</td>\n",
       "      <td>0.0</td>\n",
       "      <td>...</td>\n",
       "      <td>0.0</td>\n",
       "      <td>0.0</td>\n",
       "      <td>0.0</td>\n",
       "      <td>0.0</td>\n",
       "      <td>0.0</td>\n",
       "      <td>0.0</td>\n",
       "      <td>0.0</td>\n",
       "      <td>0.0</td>\n",
       "      <td>0.0</td>\n",
       "      <td>0.0</td>\n",
       "    </tr>\n",
       "  </tbody>\n",
       "</table>\n",
       "<p>5 rows × 786 columns</p>\n",
       "</div>"
      ],
      "text/plain": [
       "                  names labels    1    2    3    4    5    6    7    8  ...  \\\n",
       "0         Salsa-Regular      6  0.0  0.0  0.0  0.0  0.0  0.0  0.0  0.0  ...   \n",
       "1  MouseMemoirs-Regular      D  0.0  0.0  0.0  0.0  0.0  0.0  0.0  0.0  ...   \n",
       "2     Creepster-Regular      f  0.0  0.0  0.0  0.0  0.0  0.0  0.0  0.0  ...   \n",
       "3     SeoulNamsan-Light      /  0.0  0.0  0.0  0.0  0.0  0.0  0.0  0.0  ...   \n",
       "4  HachiMaruPop-Regular      F  0.0  0.0  0.0  0.0  0.0  0.0  0.0  0.0  ...   \n",
       "\n",
       "   775  776  777  778  779  780  781  782  783  784  \n",
       "0  0.0  0.0  0.0  0.0  0.0  0.0  0.0  0.0  0.0  0.0  \n",
       "1  0.0  0.0  0.0  0.0  0.0  0.0  0.0  0.0  0.0  0.0  \n",
       "2  0.0  0.0  0.0  0.0  0.0  0.0  0.0  0.0  0.0  0.0  \n",
       "3  0.0  0.0  0.0  0.0  0.0  0.0  0.0  0.0  0.0  0.0  \n",
       "4  0.0  0.0  0.0  0.0  0.0  0.0  0.0  0.0  0.0  0.0  \n",
       "\n",
       "[5 rows x 786 columns]"
      ]
     },
     "execution_count": 4,
     "metadata": {},
     "output_type": "execute_result"
    }
   ],
   "source": [
    "# load data\n",
    "df = pd.read_csv(\"/kaggle/input/tmnist-alphabet-94-characters/94_character_TMNIST.csv\")\n",
    "df.head()"
   ]
  },
  {
   "cell_type": "code",
   "execution_count": 5,
   "id": "79621bbb",
   "metadata": {
    "execution": {
     "iopub.execute_input": "2023-04-16T11:56:41.082984Z",
     "iopub.status.busy": "2023-04-16T11:56:41.082490Z",
     "iopub.status.idle": "2023-04-16T11:56:42.070548Z",
     "shell.execute_reply": "2023-04-16T11:56:42.069472Z"
    },
    "papermill": {
     "duration": 0.995321,
     "end_time": "2023-04-16T11:56:42.073243",
     "exception": false,
     "start_time": "2023-04-16T11:56:41.077922",
     "status": "completed"
    },
    "tags": []
   },
   "outputs": [],
   "source": [
    "# input(X) and output labels(y)\n",
    "\n",
    "# Dividing by 255 to normalize the data bring to the range(0, 1)\n",
    "X=df.drop(['names','labels'],axis=1).values.reshape(df.shape[0], 1, 28, 28) / 255\n",
    "y=df['labels']"
   ]
  },
  {
   "cell_type": "code",
   "execution_count": 6,
   "id": "7f934763",
   "metadata": {
    "execution": {
     "iopub.execute_input": "2023-04-16T11:56:42.082749Z",
     "iopub.status.busy": "2023-04-16T11:56:42.082447Z",
     "iopub.status.idle": "2023-04-16T11:56:42.167963Z",
     "shell.execute_reply": "2023-04-16T11:56:42.166694Z"
    },
    "papermill": {
     "duration": 0.092636,
     "end_time": "2023-04-16T11:56:42.169882",
     "exception": false,
     "start_time": "2023-04-16T11:56:42.077246",
     "status": "completed"
    },
    "tags": []
   },
   "outputs": [
    {
     "name": "stdout",
     "output_type": "stream",
     "text": [
      "94\n"
     ]
    }
   ],
   "source": [
    "chars = sorted(list(df['labels'].unique()))\n",
    "vocab_size = len(chars) # Number of unique characters in the input.\n",
    "\n",
    "itos = {i:ch for i,ch in enumerate(chars)}\n",
    "stoi = {ch:i for i,ch in enumerate(chars)}\n",
    "\n",
    "# Map the labels for string to integer.\n",
    "y_upd = np.array([stoi[ch] for ch in y])\n",
    "\n",
    "print(vocab_size)"
   ]
  },
  {
   "cell_type": "code",
   "execution_count": 7,
   "id": "b6d0d0a0",
   "metadata": {
    "execution": {
     "iopub.execute_input": "2023-04-16T11:56:42.179491Z",
     "iopub.status.busy": "2023-04-16T11:56:42.178603Z",
     "iopub.status.idle": "2023-04-16T11:56:44.575510Z",
     "shell.execute_reply": "2023-04-16T11:56:44.574430Z"
    },
    "papermill": {
     "duration": 2.40436,
     "end_time": "2023-04-16T11:56:44.578090",
     "exception": false,
     "start_time": "2023-04-16T11:56:42.173730",
     "status": "completed"
    },
    "tags": []
   },
   "outputs": [],
   "source": [
    "X_train, X_test, y_train, y_test = train_test_split(X, y_upd, test_size = 0.2, random_state = 1337)"
   ]
  },
  {
   "cell_type": "code",
   "execution_count": 8,
   "id": "7832657a",
   "metadata": {
    "execution": {
     "iopub.execute_input": "2023-04-16T11:56:44.587634Z",
     "iopub.status.busy": "2023-04-16T11:56:44.587033Z",
     "iopub.status.idle": "2023-04-16T11:56:44.676247Z",
     "shell.execute_reply": "2023-04-16T11:56:44.675160Z"
    },
    "papermill": {
     "duration": 0.096246,
     "end_time": "2023-04-16T11:56:44.678398",
     "exception": false,
     "start_time": "2023-04-16T11:56:44.582152",
     "status": "completed"
    },
    "tags": []
   },
   "outputs": [],
   "source": [
    "# Convert the data to torch tensors\n",
    "X_train = torch.from_numpy(X_train)\n",
    "X_test = torch.from_numpy(X_test)\n",
    "\n",
    "# Convert the label data to one hot encoding vectors.\n",
    "y_train_one_hot = F.one_hot(torch.from_numpy(y_train), num_classes=vocab_size)\n",
    "y_test_one_hot = F.one_hot(torch.from_numpy(y_test), num_classes=vocab_size)"
   ]
  },
  {
   "cell_type": "code",
   "execution_count": 9,
   "id": "11308071",
   "metadata": {
    "execution": {
     "iopub.execute_input": "2023-04-16T11:56:44.687370Z",
     "iopub.status.busy": "2023-04-16T11:56:44.687078Z",
     "iopub.status.idle": "2023-04-16T11:56:44.693323Z",
     "shell.execute_reply": "2023-04-16T11:56:44.692276Z"
    },
    "papermill": {
     "duration": 0.013139,
     "end_time": "2023-04-16T11:56:44.695450",
     "exception": false,
     "start_time": "2023-04-16T11:56:44.682311",
     "status": "completed"
    },
    "tags": []
   },
   "outputs": [],
   "source": [
    "# Get batch_size rows of train/test data for their respective purposes.\n",
    "def get_batch(split):\n",
    "    X_c = X_train if split == \"train\" else X_test\n",
    "    y_c = y_train_one_hot if split == \"train\" else y_test_one_hot\n",
    "    ix = torch.randint(len(X_c), (batch_size, ))\n",
    "    x_batch = torch.tensor(torch.stack([X_c[i] for i in ix], dim=0), dtype=torch.float32)\n",
    "    y_batch = torch.tensor(torch.stack([y_c[i] for i in ix], dim=0), dtype=torch.float32)\n",
    "    return x_batch.to(device), y_batch.to(device)"
   ]
  },
  {
   "cell_type": "code",
   "execution_count": 10,
   "id": "3143ad68",
   "metadata": {
    "execution": {
     "iopub.execute_input": "2023-04-16T11:56:44.703987Z",
     "iopub.status.busy": "2023-04-16T11:56:44.703715Z",
     "iopub.status.idle": "2023-04-16T11:56:44.711160Z",
     "shell.execute_reply": "2023-04-16T11:56:44.710283Z"
    },
    "papermill": {
     "duration": 0.014043,
     "end_time": "2023-04-16T11:56:44.713164",
     "exception": false,
     "start_time": "2023-04-16T11:56:44.699121",
     "status": "completed"
    },
    "tags": []
   },
   "outputs": [],
   "source": [
    "# Estimate the loss of the model on a small slice of test set(batch_size(128) rows).\n",
    "@torch.no_grad()\n",
    "def estimate_loss():\n",
    "    correct = 0\n",
    "    model.eval()\n",
    "    x_t, y_t = get_batch(\"test\")\n",
    "    for inp, label in zip(x_t, y_t):\n",
    "        inp = inp.view(1, -1, inp.shape[1], inp.shape[2])\n",
    "        out = model(inp)\n",
    "        predicted = torch.argmax(out, dim=1)\n",
    "        label_predicted = torch.argmax(label)\n",
    "        correct += (predicted==label_predicted).sum().item()\n",
    "    total = y_t.shape[0]\n",
    "    accuracy = correct * 100.0 / total\n",
    "    model.train()\n",
    "    return accuracy"
   ]
  },
  {
   "cell_type": "code",
   "execution_count": 11,
   "id": "cb705d75",
   "metadata": {
    "execution": {
     "iopub.execute_input": "2023-04-16T11:56:44.722218Z",
     "iopub.status.busy": "2023-04-16T11:56:44.721371Z",
     "iopub.status.idle": "2023-04-16T11:56:47.033553Z",
     "shell.execute_reply": "2023-04-16T11:56:47.032490Z"
    },
    "papermill": {
     "duration": 2.31931,
     "end_time": "2023-04-16T11:56:47.036083",
     "exception": false,
     "start_time": "2023-04-16T11:56:44.716773",
     "status": "completed"
    },
    "tags": []
   },
   "outputs": [],
   "source": [
    "## CREATE A CONVOLUTIONAL NEURAL NET LAYER ##\n",
    "\n",
    "class ConvNet(nn.Module):\n",
    "    \"\"\" Convolution neural network \"\"\"\n",
    "    \n",
    "    def __init__(self):\n",
    "        super().__init__()\n",
    "        self.net = nn.Sequential(\n",
    "            nn.Conv2d(in_channels=1, out_channels=32, kernel_size=3), # (B, 1, 28, 28) --> (B, 32, 26, 26)\n",
    "            nn.ReLU(), # (B, 32, 26, 26) --> (B, 32, 26, 26)\n",
    "            nn.Conv2d(in_channels=32, out_channels=64, kernel_size=3), # (B, 32, 26, 26) --> (B, 64, 24, 24)\n",
    "            nn.ReLU(),\n",
    "            nn.MaxPool2d(kernel_size=2, stride=2), # (B, 64, 24, 24) --> (B, 64, 12, 12)\n",
    "            nn.Flatten(start_dim=1, end_dim=-1), # (B, 64, 12, 12) --> (B, 64 * 12 * 12)\n",
    "            nn.Linear(64 * 12 * 12, n_hidden), # (B, 9216) --> (B, n_hidden)\n",
    "            nn.BatchNorm1d(n_hidden), # Applied batch norm to make the model more resilient.\n",
    "            nn.ReLU(),\n",
    "            nn.Linear(n_hidden, vocab_size), # (B, n_hidden) --> (B, vocab_size)\n",
    "        )\n",
    "        \n",
    "    \n",
    "    def forward(self, x):\n",
    "        return self.net(x)\n",
    "    \n",
    "model = ConvNet()\n",
    "model = model.to(device)"
   ]
  },
  {
   "cell_type": "code",
   "execution_count": 12,
   "id": "c909bce0",
   "metadata": {
    "execution": {
     "iopub.execute_input": "2023-04-16T11:56:47.046407Z",
     "iopub.status.busy": "2023-04-16T11:56:47.046091Z",
     "iopub.status.idle": "2023-04-16T11:57:36.226272Z",
     "shell.execute_reply": "2023-04-16T11:57:36.225223Z"
    },
    "papermill": {
     "duration": 49.187986,
     "end_time": "2023-04-16T11:57:36.229133",
     "exception": false,
     "start_time": "2023-04-16T11:56:47.041147",
     "status": "completed"
    },
    "tags": []
   },
   "outputs": [
    {
     "name": "stderr",
     "output_type": "stream",
     "text": [
      "/opt/conda/lib/python3.7/site-packages/ipykernel_launcher.py:6: UserWarning: To copy construct from a tensor, it is recommended to use sourceTensor.clone().detach() or sourceTensor.clone().detach().requires_grad_(True), rather than torch.tensor(sourceTensor).\n",
      "  \n",
      "/opt/conda/lib/python3.7/site-packages/ipykernel_launcher.py:7: UserWarning: To copy construct from a tensor, it is recommended to use sourceTensor.clone().detach() or sourceTensor.clone().detach().requires_grad_(True), rather than torch.tensor(sourceTensor).\n",
      "  import sys\n"
     ]
    },
    {
     "name": "stdout",
     "output_type": "stream",
     "text": [
      "step: 0, train loss: 4.6487, test accuracy: 1.5625%\n",
      "step: 500, train loss: 0.4294, test accuracy: 91.4062%\n",
      "step: 1000, train loss: 0.2834, test accuracy: 86.7188%\n",
      "step: 1500, train loss: 0.1422, test accuracy: 92.9688%\n",
      "step: 2000, train loss: 0.1643, test accuracy: 94.5312%\n",
      "step: 2500, train loss: 0.1450, test accuracy: 96.0938%\n",
      "step: 3000, train loss: 0.0942, test accuracy: 92.9688%\n",
      "step: 3500, train loss: 0.2073, test accuracy: 89.8438%\n",
      "step: 4000, train loss: 0.1415, test accuracy: 92.1875%\n",
      "step: 4500, train loss: 0.1124, test accuracy: 94.5312%\n",
      "step: 5000, train loss: 0.1082, test accuracy: 92.9688%\n",
      "step: 5500, train loss: 0.0883, test accuracy: 96.0938%\n",
      "step: 6000, train loss: 0.1173, test accuracy: 92.1875%\n",
      "step: 6500, train loss: 0.0905, test accuracy: 94.5312%\n",
      "step: 7000, train loss: 0.0836, test accuracy: 95.3125%\n",
      "step: 7500, train loss: 0.1085, test accuracy: 94.5312%\n",
      "step: 8000, train loss: 0.1580, test accuracy: 96.0938%\n",
      "step: 8500, train loss: 0.1296, test accuracy: 94.5312%\n",
      "step: 9000, train loss: 0.1019, test accuracy: 95.3125%\n",
      "step: 9500, train loss: 0.1218, test accuracy: 92.1875%\n"
     ]
    }
   ],
   "source": [
    "optimizer = torch.optim.AdamW(model.parameters(), lr = 3e-4)\n",
    "\n",
    "for i in range(max_iters):\n",
    "    xb, yb = get_batch(\"train\")\n",
    "    logits = model(xb)\n",
    "    loss = F.cross_entropy(logits, yb)\n",
    "    \n",
    "    optimizer.zero_grad(set_to_none=True)\n",
    "    loss.backward()\n",
    "    optimizer.step()\n",
    "    if (i % 500 == 0):\n",
    "        accuracy = estimate_loss()\n",
    "        print(f\"step: {i}, train loss: {loss:.4f}, test accuracy: {accuracy:.4f}%\")"
   ]
  },
  {
   "cell_type": "code",
   "execution_count": 13,
   "id": "6a5e4d9d",
   "metadata": {
    "execution": {
     "iopub.execute_input": "2023-04-16T11:57:36.240631Z",
     "iopub.status.busy": "2023-04-16T11:57:36.240316Z",
     "iopub.status.idle": "2023-04-16T11:59:41.065914Z",
     "shell.execute_reply": "2023-04-16T11:59:41.064845Z"
    },
    "papermill": {
     "duration": 124.838755,
     "end_time": "2023-04-16T11:59:41.073137",
     "exception": false,
     "start_time": "2023-04-16T11:57:36.234382",
     "status": "completed"
    },
    "tags": []
   },
   "outputs": [
    {
     "name": "stderr",
     "output_type": "stream",
     "text": [
      "/opt/conda/lib/python3.7/site-packages/ipykernel_launcher.py:7: UserWarning: To copy construct from a tensor, it is recommended to use sourceTensor.clone().detach() or sourceTensor.clone().detach().requires_grad_(True), rather than torch.tensor(sourceTensor).\n",
      "  import sys\n"
     ]
    },
    {
     "name": "stdout",
     "output_type": "stream",
     "text": [
      "Accuracy on the entire test set: 97.22%\n"
     ]
    }
   ],
   "source": [
    "# Loss on the entire test set. \n",
    "# Accuracy comes to 96.82%\n",
    "\n",
    "with torch.no_grad():\n",
    "    correct = 0\n",
    "    model.eval()\n",
    "    x_t, y_t = torch.tensor(X_train, dtype=torch.float32).to(device), y_train_one_hot.to(device)\n",
    "    for inp, label in zip(x_t, y_t):\n",
    "        inp = inp.view(1, -1, inp.shape[1], inp.shape[2])\n",
    "        out = model(inp)\n",
    "        predicted = torch.argmax(out, dim=1)\n",
    "        label_predicted = torch.argmax(label)\n",
    "        correct += (predicted==label_predicted).sum().item()\n",
    "    total = y_t.shape[0]\n",
    "    accuracy = correct * 100.0 / total\n",
    "    model.train()\n",
    "    print(f\"Accuracy on the entire test set: {accuracy:.2f}%\")"
   ]
  },
  {
   "cell_type": "code",
   "execution_count": null,
   "id": "15db1bbc",
   "metadata": {
    "papermill": {
     "duration": 0.004852,
     "end_time": "2023-04-16T11:59:41.082849",
     "exception": false,
     "start_time": "2023-04-16T11:59:41.077997",
     "status": "completed"
    },
    "tags": []
   },
   "outputs": [],
   "source": []
  }
 ],
 "metadata": {
  "kernelspec": {
   "display_name": "Python 3",
   "language": "python",
   "name": "python3"
  },
  "language_info": {
   "codemirror_mode": {
    "name": "ipython",
    "version": 3
   },
   "file_extension": ".py",
   "mimetype": "text/x-python",
   "name": "python",
   "nbconvert_exporter": "python",
   "pygments_lexer": "ipython3",
   "version": "3.7.12"
  },
  "papermill": {
   "default_parameters": {},
   "duration": 223.852422,
   "end_time": "2023-04-16T11:59:42.712932",
   "environment_variables": {},
   "exception": null,
   "input_path": "__notebook__.ipynb",
   "output_path": "__notebook__.ipynb",
   "parameters": {},
   "start_time": "2023-04-16T11:55:58.860510",
   "version": "2.4.0"
  }
 },
 "nbformat": 4,
 "nbformat_minor": 5
}
