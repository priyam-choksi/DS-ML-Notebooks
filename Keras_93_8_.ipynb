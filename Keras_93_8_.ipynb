{
  "metadata": {
    "kernelspec": {
      "display_name": "Python 3",
      "name": "python3"
    },
    "language_info": {
      "name": "python",
      "version": "3.10.13",
      "mimetype": "text/x-python",
      "codemirror_mode": {
        "name": "ipython",
        "version": 3
      },
      "pygments_lexer": "ipython3",
      "nbconvert_exporter": "python",
      "file_extension": ".py"
    },
    "kaggle": {
      "accelerator": "nvidiaTeslaT4",
      "dataSources": [
        {
          "sourceId": 2830968,
          "sourceType": "datasetVersion",
          "datasetId": 1564532
        }
      ],
      "dockerImageVersionId": 30684,
      "isInternetEnabled": true,
      "language": "python",
      "sourceType": "notebook",
      "isGpuEnabled": true
    },
    "colab": {
      "name": "Keras 93.8%",
      "provenance": []
    }
  },
  "nbformat_minor": 0,
  "nbformat": 4,
  "cells": [
    {
      "source": [
        "\n",
        "# IMPORTANT: RUN THIS CELL IN ORDER TO IMPORT YOUR KAGGLE DATA SOURCES\n",
        "# TO THE CORRECT LOCATION (/kaggle/input) IN YOUR NOTEBOOK,\n",
        "# THEN FEEL FREE TO DELETE THIS CELL.\n",
        "# NOTE: THIS NOTEBOOK ENVIRONMENT DIFFERS FROM KAGGLE'S PYTHON\n",
        "# ENVIRONMENT SO THERE MAY BE MISSING LIBRARIES USED BY YOUR\n",
        "# NOTEBOOK.\n",
        "\n",
        "import os\n",
        "import sys\n",
        "from tempfile import NamedTemporaryFile\n",
        "from urllib.request import urlopen\n",
        "from urllib.parse import unquote, urlparse\n",
        "from urllib.error import HTTPError\n",
        "from zipfile import ZipFile\n",
        "import tarfile\n",
        "import shutil\n",
        "\n",
        "CHUNK_SIZE = 40960\n",
        "DATA_SOURCE_MAPPING = 'tmnist-alphabet-94-characters:https%3A%2F%2Fstorage.googleapis.com%2Fkaggle-data-sets%2F1564532%2F2830968%2Fbundle%2Farchive.zip%3FX-Goog-Algorithm%3DGOOG4-RSA-SHA256%26X-Goog-Credential%3Dgcp-kaggle-com%2540kaggle-161607.iam.gserviceaccount.com%252F20240409%252Fauto%252Fstorage%252Fgoog4_request%26X-Goog-Date%3D20240409T182841Z%26X-Goog-Expires%3D259200%26X-Goog-SignedHeaders%3Dhost%26X-Goog-Signature%3Dd8ca16ade07ec9d295ea309a8ae60f201b97187be5d48f6b5193d087c7c6a27c1d85af811fa153e614729985b11c770d05bce3d4f6fd0b2a2abd97446e5a293ec608fc3ffc0dc62d4acc579fd73a70b97d5264a8e15a16d51bed82aa5fb352427297e6f8c604dbb5be90a8342b31026280a9c4d2ceb8bc3cb0feccd31996d771495eb8204395282d3650851d9ff96b81ac7422c43ed17749bee03c8e25b65e1b6001cf97b2f84450b2c0df63df813ebc8843a570c33ea35f03a485a04fa34f80a04e9dc26d18f8584258c786857ca51ed67135f54339ba71fb36dafae6a1d1249e94d2977b15cafae3bba2d2d0c1804ec558b39d3b82f65969165cdc39005c7e'\n",
        "\n",
        "KAGGLE_INPUT_PATH='/kaggle/input'\n",
        "KAGGLE_WORKING_PATH='/kaggle/working'\n",
        "KAGGLE_SYMLINK='kaggle'\n",
        "\n",
        "!umount /kaggle/input/ 2> /dev/null\n",
        "shutil.rmtree('/kaggle/input', ignore_errors=True)\n",
        "os.makedirs(KAGGLE_INPUT_PATH, 0o777, exist_ok=True)\n",
        "os.makedirs(KAGGLE_WORKING_PATH, 0o777, exist_ok=True)\n",
        "\n",
        "try:\n",
        "  os.symlink(KAGGLE_INPUT_PATH, os.path.join(\"..\", 'input'), target_is_directory=True)\n",
        "except FileExistsError:\n",
        "  pass\n",
        "try:\n",
        "  os.symlink(KAGGLE_WORKING_PATH, os.path.join(\"..\", 'working'), target_is_directory=True)\n",
        "except FileExistsError:\n",
        "  pass\n",
        "\n",
        "for data_source_mapping in DATA_SOURCE_MAPPING.split(','):\n",
        "    directory, download_url_encoded = data_source_mapping.split(':')\n",
        "    download_url = unquote(download_url_encoded)\n",
        "    filename = urlparse(download_url).path\n",
        "    destination_path = os.path.join(KAGGLE_INPUT_PATH, directory)\n",
        "    try:\n",
        "        with urlopen(download_url) as fileres, NamedTemporaryFile() as tfile:\n",
        "            total_length = fileres.headers['content-length']\n",
        "            print(f'Downloading {directory}, {total_length} bytes compressed')\n",
        "            dl = 0\n",
        "            data = fileres.read(CHUNK_SIZE)\n",
        "            while len(data) > 0:\n",
        "                dl += len(data)\n",
        "                tfile.write(data)\n",
        "                done = int(50 * dl / int(total_length))\n",
        "                sys.stdout.write(f\"\\r[{'=' * done}{' ' * (50-done)}] {dl} bytes downloaded\")\n",
        "                sys.stdout.flush()\n",
        "                data = fileres.read(CHUNK_SIZE)\n",
        "            if filename.endswith('.zip'):\n",
        "              with ZipFile(tfile) as zfile:\n",
        "                zfile.extractall(destination_path)\n",
        "            else:\n",
        "              with tarfile.open(tfile.name) as tarfile:\n",
        "                tarfile.extractall(destination_path)\n",
        "            print(f'\\nDownloaded and uncompressed: {directory}')\n",
        "    except HTTPError as e:\n",
        "        print(f'Failed to load (likely expired) {download_url} to path {destination_path}')\n",
        "        continue\n",
        "    except OSError as e:\n",
        "        print(f'Failed to load {download_url} to path {destination_path}')\n",
        "        continue\n",
        "\n",
        "print('Data source import complete.')\n"
      ],
      "metadata": {
        "id": "jql2LU5IHpfD",
        "outputId": "4228a8d8-f852-40dd-cad8-b98d964115a0",
        "colab": {
          "base_uri": "https://localhost:8080/"
        }
      },
      "cell_type": "code",
      "outputs": [
        {
          "output_type": "stream",
          "name": "stdout",
          "text": [
            "Downloading tmnist-alphabet-94-characters, 88850214 bytes compressed\n",
            "[==================================================] 88850214 bytes downloaded\n",
            "Downloaded and uncompressed: tmnist-alphabet-94-characters\n",
            "Data source import complete.\n"
          ]
        }
      ],
      "execution_count": 2
    },
    {
      "cell_type": "code",
      "source": [
        "# This Python 3 environment comes with many helpful analytics libraries installed\n",
        "# It is defined by the kaggle/python Docker image: https://github.com/kaggle/docker-python\n",
        "# For example, here's several helpful packages to load\n",
        "\n",
        "import numpy as np # linear algebra\n",
        "import pandas as pd # data processing, CSV file I/O (e.g. pd.read_csv)\n",
        "\n",
        "# Input data files are available in the read-only \"../input/\" directory\n",
        "# For example, running this (by clicking run or pressing Shift+Enter) will list all files under the input directory\n",
        "\n",
        "import os\n",
        "for dirname, _, filenames in os.walk('/kaggle/input'):\n",
        "    for filename in filenames:\n",
        "        print(os.path.join(dirname, filename))\n",
        "\n",
        "# You can write up to 20GB to the current directory (/kaggle/working/) that gets preserved as output when you create a version using \"Save & Run All\"\n",
        "# You can also write temporary files to /kaggle/temp/, but they won't be saved outside of the current session"
      ],
      "metadata": {
        "execution": {
          "iopub.status.busy": "2024-04-08T17:57:42.517048Z",
          "iopub.execute_input": "2024-04-08T17:57:42.517477Z",
          "iopub.status.idle": "2024-04-08T17:57:43.796772Z",
          "shell.execute_reply.started": "2024-04-08T17:57:42.517443Z",
          "shell.execute_reply": "2024-04-08T17:57:43.795576Z"
        },
        "trusted": true,
        "id": "IgWJiatBHpfG",
        "outputId": "03f88228-6281-4c7b-fd9c-014cc4889e49",
        "colab": {
          "base_uri": "https://localhost:8080/"
        }
      },
      "execution_count": 3,
      "outputs": [
        {
          "output_type": "stream",
          "name": "stdout",
          "text": [
            "/kaggle/input/tmnist-alphabet-94-characters/94_character_TMNIST.csv\n"
          ]
        }
      ]
    },
    {
      "cell_type": "code",
      "source": [
        "pip install h2o"
      ],
      "metadata": {
        "id": "JJikF23VVavh",
        "outputId": "ca47cac8-4cd2-4bcd-b733-234c9ebf9c9a",
        "colab": {
          "base_uri": "https://localhost:8080/"
        }
      },
      "execution_count": 4,
      "outputs": [
        {
          "output_type": "stream",
          "name": "stdout",
          "text": [
            "Collecting h2o\n",
            "  Downloading h2o-3.46.0.1-py2.py3-none-any.whl (265.6 MB)\n",
            "\u001b[2K     \u001b[90m━━━━━━━━━━━━━━━━━━━━━━━━━━━━━━━━━━━━━━━━\u001b[0m \u001b[32m265.6/265.6 MB\u001b[0m \u001b[31m4.2 MB/s\u001b[0m eta \u001b[36m0:00:00\u001b[0m\n",
            "\u001b[?25hRequirement already satisfied: requests in /usr/local/lib/python3.10/dist-packages (from h2o) (2.31.0)\n",
            "Requirement already satisfied: tabulate in /usr/local/lib/python3.10/dist-packages (from h2o) (0.9.0)\n",
            "Requirement already satisfied: charset-normalizer<4,>=2 in /usr/local/lib/python3.10/dist-packages (from requests->h2o) (3.3.2)\n",
            "Requirement already satisfied: idna<4,>=2.5 in /usr/local/lib/python3.10/dist-packages (from requests->h2o) (3.6)\n",
            "Requirement already satisfied: urllib3<3,>=1.21.1 in /usr/local/lib/python3.10/dist-packages (from requests->h2o) (2.0.7)\n",
            "Requirement already satisfied: certifi>=2017.4.17 in /usr/local/lib/python3.10/dist-packages (from requests->h2o) (2024.2.2)\n",
            "Installing collected packages: h2o\n",
            "Successfully installed h2o-3.46.0.1\n"
          ]
        }
      ]
    },
    {
      "cell_type": "code",
      "source": [
        "import numpy as np\n",
        "import pandas as pd\n",
        "from sklearn.model_selection import train_test_split\n",
        "from tensorflow.keras.models import Sequential\n",
        "from tensorflow.keras.layers import Conv2D, MaxPooling2D, Flatten, Dense, BatchNormalization, ReLU\n",
        "from tensorflow.keras.optimizers import Adam\n",
        "from tensorflow.keras.utils import to_categorical"
      ],
      "metadata": {
        "id": "svDY9SfDVdoy"
      },
      "execution_count": 5,
      "outputs": []
    },
    {
      "cell_type": "code",
      "source": [
        "\n",
        "\n",
        "\n",
        "# Load and preprocess data\n",
        "df = pd.read_csv(\"/kaggle/input/tmnist-alphabet-94-characters/94_character_TMNIST.csv\")\n",
        "X = df.drop(['names', 'labels'], axis=1).values.reshape(df.shape[0], 28, 28, 1) / 255\n",
        "y = df['labels']\n",
        "\n",
        "chars = sorted(list(df['labels'].unique()))\n",
        "vocab_size = len(chars)\n",
        "\n",
        "itos = {i: ch for i, ch in enumerate(chars)}\n",
        "stoi = {ch: i for i, ch in enumerate(chars)}\n",
        "\n",
        "y_upd = np.array([stoi[ch] for ch in y])\n",
        "\n",
        "# Split the data\n",
        "X_train, X_test, y_train, y_test = train_test_split(X, y_upd, test_size=0.2, random_state=1337)\n",
        "\n",
        "# Convert labels to one-hot encoding\n",
        "y_train_one_hot = to_categorical(y_train, num_classes=vocab_size)\n",
        "y_test_one_hot = to_categorical(y_test, num_classes=vocab_size)\n",
        "\n",
        "# Define the model\n",
        "model = Sequential([\n",
        "    Conv2D(32, kernel_size=(3, 3), activation='relu', input_shape=(28, 28, 1)),\n",
        "    Conv2D(64, (3, 3), activation='relu'),\n",
        "    MaxPooling2D(pool_size=(2, 2)),\n",
        "    Flatten(),\n",
        "    Dense(128),\n",
        "    BatchNormalization(),\n",
        "    ReLU(),\n",
        "    Dense(vocab_size, activation='softmax')\n",
        "])\n",
        "\n",
        "# Compile the model\n",
        "model.compile(optimizer=Adam(learning_rate=3e-4),\n",
        "              loss='categorical_crossentropy',\n",
        "              metrics=['accuracy'])\n",
        "\n",
        "# Train the model\n",
        "history = model.fit(X_train, y_train_one_hot, batch_size=128, epochs=10, validation_data=(X_test, y_test_one_hot))\n",
        "\n",
        "# Evaluate the model\n",
        "test_loss, test_accuracy = model.evaluate(X_test, y_test_one_hot)\n",
        "print(f\"Test accuracy: {test_accuracy * 100:.2f}%\")\n"
      ],
      "metadata": {
        "trusted": true,
        "id": "YHaxqRznHpfG",
        "outputId": "5e6d44cc-558f-4315-bef0-e401282308c7",
        "colab": {
          "base_uri": "https://localhost:8080/"
        }
      },
      "execution_count": null,
      "outputs": [
        {
          "output_type": "stream",
          "name": "stdout",
          "text": [
            "Epoch 1/10\n",
            " 824/1714 [=============>................] - ETA: 3:46 - loss: 0.8351 - accuracy: 0.8444"
          ]
        }
      ]
    },
    {
      "cell_type": "code",
      "source": [
        "import h2o\n",
        "from h2o.automl import H2OAutoML\n",
        "\n",
        "# Initialize H2O cluster\n",
        "h2o.init()\n",
        "\n",
        "# Convert Pandas DataFrame to H2OFrame\n",
        "h2o_df = h2o.H2OFrame(df)\n",
        "\n",
        "# Define the target column as categorical\n",
        "h2o_df['labels'] = h2o_df['labels'].asfactor()\n",
        "\n",
        "# Split the data\n",
        "train, test = h2o_df.split_frame(ratios=[0.8], seed=1337)\n",
        "\n",
        "# Define predictor columns\n",
        "predictors = h2o_df.columns[:-1]"
      ],
      "metadata": {
        "id": "C6xl_w9aO0fb"
      },
      "execution_count": null,
      "outputs": []
    },
    {
      "cell_type": "code",
      "source": [
        "# Run AutoML with only the neural network algorithm\n",
        "aml = H2OAutoML(max_runtime_secs=60, exclude_algos=[\"DRF\", \"GLM\", \"XGBoost\", \"GBM\", \"StackedEnsemble\"])\n",
        "aml.train(x=predictors, y='labels', training_frame=train)\n",
        "\n",
        "# View the AutoML leaderboard\n",
        "lb = aml.leaderboard\n",
        "print(lb)\n",
        "\n"
      ],
      "metadata": {
        "id": "3vqJIH77Sn_U"
      },
      "execution_count": null,
      "outputs": []
    },
    {
      "cell_type": "code",
      "source": [],
      "metadata": {
        "id": "kH-Pgbm5UeqY"
      },
      "execution_count": null,
      "outputs": []
    },
    {
      "cell_type": "code",
      "source": [
        "# Get the best model from AutoML\n",
        "best_model = aml.leader\n",
        "\n",
        "# Evaluate the best model on the test set\n",
        "perf = best_model.model_performance(test)\n",
        "print(perf)\n"
      ],
      "metadata": {
        "id": "a_p3qKvTUXOp"
      },
      "execution_count": null,
      "outputs": []
    },
    {
      "cell_type": "code",
      "source": [
        "# Get the best model from AutoML\n",
        "best_model = aml.leader\n",
        "\n",
        "# Make predictions on the test set\n",
        "predictions = best_model.predict(test)\n",
        "\n",
        "# Calculate accuracy\n",
        "accuracy = (predictions['predict'] == test['labels']).mean()\n",
        "print(f\"Test accuracy: {accuracy * 100:.2f}%\")\n"
      ],
      "metadata": {
        "id": "Y2AlHGJ_VAQ0"
      },
      "execution_count": null,
      "outputs": []
    },
    {
      "cell_type": "code",
      "source": [],
      "metadata": {
        "id": "_86c915-VUMT"
      },
      "execution_count": null,
      "outputs": []
    }
  ]
}