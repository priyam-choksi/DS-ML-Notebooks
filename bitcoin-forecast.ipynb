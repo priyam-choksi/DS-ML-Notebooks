{
 "cells": [
  {
   "cell_type": "markdown",
   "id": "58195151",
   "metadata": {
    "id": "VisGp7dgy5gQ",
    "papermill": {
     "duration": 0.004687,
     "end_time": "2024-04-26T13:16:31.304849",
     "exception": false,
     "start_time": "2024-04-26T13:16:31.300162",
     "status": "completed"
    },
    "tags": []
   },
   "source": [
    "Data set taken from here : https://www.kaggle.com/datasets/priyamchoksi/bitcoin-historical-prices-and-activity-2010-2024/data"
   ]
  },
  {
   "cell_type": "markdown",
   "id": "d2185067",
   "metadata": {
    "id": "Rw_hwvk_17h4",
    "papermill": {
     "duration": 0.00383,
     "end_time": "2024-04-26T13:16:31.313327",
     "exception": false,
     "start_time": "2024-04-26T13:16:31.309497",
     "status": "completed"
    },
    "tags": []
   },
   "source": [
    "This project aims to develop a robust model for predicting Bitcoin prices using historical data from July 2010 to April 2024. The dataset includes daily Bitcoin prices along with trading volume and market capitalization. Various machine learning models, including Linear Regression, Random Forest, and Gradient Boosting Machines, were employed to forecast the future prices for varying time horizons—weeks, months, and years. The project incorporated advanced feature engineering techniques such as lagged features, rolling averages, and exponential moving averages to enrich the models' input data. Model performance was evaluated based on Mean Squared Error (MSE) and R-squared metrics to identify the most accurate forecasting method."
   ]
  },
  {
   "cell_type": "code",
   "execution_count": 1,
   "id": "e500cc4b",
   "metadata": {
    "execution": {
     "iopub.execute_input": "2024-04-26T13:16:31.323815Z",
     "iopub.status.busy": "2024-04-26T13:16:31.323017Z",
     "iopub.status.idle": "2024-04-26T13:16:33.774750Z",
     "shell.execute_reply": "2024-04-26T13:16:33.773520Z"
    },
    "id": "tz31BZk30VH_",
    "papermill": {
     "duration": 2.459887,
     "end_time": "2024-04-26T13:16:33.777230",
     "exception": false,
     "start_time": "2024-04-26T13:16:31.317343",
     "status": "completed"
    },
    "tags": []
   },
   "outputs": [],
   "source": [
    "import pandas as pd\n",
    "import numpy as np\n",
    "from sklearn.linear_model import LinearRegression\n",
    "from sklearn.ensemble import RandomForestRegressor, GradientBoostingRegressor\n",
    "from sklearn.metrics import mean_squared_error, r2_score"
   ]
  },
  {
   "cell_type": "code",
   "execution_count": 2,
   "id": "2ca0cb6e",
   "metadata": {
    "execution": {
     "iopub.execute_input": "2024-04-26T13:16:33.787535Z",
     "iopub.status.busy": "2024-04-26T13:16:33.786993Z",
     "iopub.status.idle": "2024-04-26T13:16:33.843787Z",
     "shell.execute_reply": "2024-04-26T13:16:33.842694Z"
    },
    "id": "p9HSlGx6i6ZR",
    "outputId": "f2632d11-1fd6-4a36-bb47-eb15c12322b5",
    "papermill": {
     "duration": 0.064662,
     "end_time": "2024-04-26T13:16:33.846222",
     "exception": false,
     "start_time": "2024-04-26T13:16:33.781560",
     "status": "completed"
    },
    "tags": []
   },
   "outputs": [
    {
     "data": {
      "text/plain": [
       "(        Start         End      Open      High       Low     Close  \\\n",
       " 0  2024-04-24  2024-04-25  66553.54  67070.40  63742.73  64291.07   \n",
       " 1  2024-04-23  2024-04-24  66761.02  67174.02  65884.15  66386.61   \n",
       " 2  2024-04-22  2024-04-23  64952.02  67180.03  64598.00  66818.89   \n",
       " 3  2024-04-21  2024-04-22  64875.75  65638.74  64302.47  64896.87   \n",
       " 4  2024-04-20  2024-04-21  63824.06  65351.33  63321.19  64857.99   \n",
       " \n",
       "          Volume    Market Cap  \n",
       " 0  1.384736e+11  1.294489e+12  \n",
       " 1  1.408621e+11  1.308576e+12  \n",
       " 2  1.400725e+11  1.299703e+12  \n",
       " 3  1.326574e+11  1.278730e+12  \n",
       " 4  1.537410e+11  1.263725e+12  ,\n",
       " Start          object\n",
       " End            object\n",
       " Open          float64\n",
       " High          float64\n",
       " Low           float64\n",
       " Close         float64\n",
       " Volume        float64\n",
       " Market Cap    float64\n",
       " dtype: object)"
      ]
     },
     "execution_count": 2,
     "metadata": {},
     "output_type": "execute_result"
    }
   ],
   "source": [
    "import pandas as pd\n",
    "\n",
    "# Load the data from the uploaded CSV file\n",
    "bitcoin_data = pd.read_csv(\"/kaggle/input/bitcoin-historical-prices-and-activity-2010-2024/bitcoin_2010-07-27_2024-04-25.csv\")\n",
    "\n",
    "# Display the first few rows of the dataframe and the data types of the columns\n",
    "bitcoin_data.head(), bitcoin_data.dtypes\n"
   ]
  },
  {
   "cell_type": "code",
   "execution_count": 3,
   "id": "2f0faf27",
   "metadata": {
    "execution": {
     "iopub.execute_input": "2024-04-26T13:16:33.856572Z",
     "iopub.status.busy": "2024-04-26T13:16:33.856184Z",
     "iopub.status.idle": "2024-04-26T13:16:33.888265Z",
     "shell.execute_reply": "2024-04-26T13:16:33.887135Z"
    },
    "id": "uYQq4pSOi-MQ",
    "outputId": "acec8aa7-9050-43fc-90c9-fdf66b6a919b",
    "papermill": {
     "duration": 0.039778,
     "end_time": "2024-04-26T13:16:33.890462",
     "exception": false,
     "start_time": "2024-04-26T13:16:33.850684",
     "status": "completed"
    },
    "tags": []
   },
   "outputs": [
    {
     "data": {
      "text/plain": [
       "(          Start        End    Open    High     Low   Close  Volume  Market Cap\n",
       " 5020 2010-07-27 2010-07-28  0.0600  0.0600  0.0600  0.0600     0.0         0.0\n",
       " 5019 2010-07-28 2010-07-29  0.0589  0.0589  0.0589  0.0589     0.0         0.0\n",
       " 5018 2010-07-29 2010-07-30  0.0699  0.0699  0.0699  0.0699     0.0         0.0\n",
       " 5017 2010-07-30 2010-07-31  0.0627  0.0627  0.0627  0.0627     0.0         0.0\n",
       " 5016 2010-07-31 2010-08-01  0.0679  0.0679  0.0679  0.0679     0.0         0.0,\n",
       "        Start        End      Open      High       Low     Close        Volume  \\\n",
       " 4 2024-04-20 2024-04-21  63824.06  65351.33  63321.19  64857.99  1.537410e+11   \n",
       " 3 2024-04-21 2024-04-22  64875.75  65638.74  64302.47  64896.87  1.326574e+11   \n",
       " 2 2024-04-22 2024-04-23  64952.02  67180.03  64598.00  66818.89  1.400725e+11   \n",
       " 1 2024-04-23 2024-04-24  66761.02  67174.02  65884.15  66386.61  1.408621e+11   \n",
       " 0 2024-04-24 2024-04-25  66553.54  67070.40  63742.73  64291.07  1.384736e+11   \n",
       " \n",
       "      Market Cap  \n",
       " 4  1.263725e+12  \n",
       " 3  1.278730e+12  \n",
       " 2  1.299703e+12  \n",
       " 1  1.308576e+12  \n",
       " 0  1.294489e+12  )"
      ]
     },
     "execution_count": 3,
     "metadata": {},
     "output_type": "execute_result"
    }
   ],
   "source": [
    "# Convert 'Start' and 'End' columns to datetime format\n",
    "bitcoin_data['Start'] = pd.to_datetime(bitcoin_data['Start'])\n",
    "bitcoin_data['End'] = pd.to_datetime(bitcoin_data['End'])\n",
    "\n",
    "# Sort the data by the 'Start' date to ensure time series consistency\n",
    "bitcoin_data.sort_values('Start', inplace=True)\n",
    "\n",
    "# Checking the data after conversion and sorting\n",
    "bitcoin_data.head(), bitcoin_data.tail()\n"
   ]
  },
  {
   "cell_type": "code",
   "execution_count": 4,
   "id": "c8b51498",
   "metadata": {
    "execution": {
     "iopub.execute_input": "2024-04-26T13:16:33.902302Z",
     "iopub.status.busy": "2024-04-26T13:16:33.901172Z",
     "iopub.status.idle": "2024-04-26T13:16:33.921418Z",
     "shell.execute_reply": "2024-04-26T13:16:33.920342Z"
    },
    "id": "W-HpOKAPjBgW",
    "outputId": "fed9e5ff-07d2-4e45-bf29-1d6ca9e48ae1",
    "papermill": {
     "duration": 0.028384,
     "end_time": "2024-04-26T13:16:33.923782",
     "exception": false,
     "start_time": "2024-04-26T13:16:33.895398",
     "status": "completed"
    },
    "tags": []
   },
   "outputs": [
    {
     "data": {
      "text/plain": [
       "(      Close_lag_1  Close_lag_7  Close_lag_30\n",
       " 4990       0.0648       0.0667        0.0600\n",
       " 4989       0.0640       0.0655        0.0589\n",
       " 4988       0.0650       0.0664        0.0699\n",
       " 4987       0.0641       0.0660        0.0627\n",
       " 4986       0.0640       0.0649        0.0679,\n",
       " 4990    0.0640\n",
       " 4989    0.0650\n",
       " 4988    0.0641\n",
       " 4987    0.0640\n",
       " 4986    0.0650\n",
       " Name: Close, dtype: float64)"
      ]
     },
     "execution_count": 4,
     "metadata": {},
     "output_type": "execute_result"
    }
   ],
   "source": [
    "# Creating lagged features for historical prices\n",
    "for lag in [1, 7, 30]:\n",
    "    bitcoin_data[f'Close_lag_{lag}'] = bitcoin_data['Close'].shift(lag)\n",
    "\n",
    "# Drop rows with missing values resulting from lagging\n",
    "bitcoin_data.dropna(inplace=True)\n",
    "\n",
    "# Prepare features and target variable\n",
    "features = bitcoin_data[[f'Close_lag_{lag}' for lag in [1, 7, 30]]]\n",
    "target = bitcoin_data['Close']\n",
    "\n",
    "# Splitting data into training and testing sets - let's use the last 20% of data as test set\n",
    "split_index = int(len(bitcoin_data) * 0.8)\n",
    "X_train, X_test = features[:split_index], features[split_index:]\n",
    "y_train, y_test = target[:split_index], target[split_index:]\n",
    "\n",
    "# Review the first few rows of the features in the training data\n",
    "X_train.head(), y_train.head()\n"
   ]
  },
  {
   "cell_type": "code",
   "execution_count": 5,
   "id": "8692080a",
   "metadata": {
    "execution": {
     "iopub.execute_input": "2024-04-26T13:16:33.935384Z",
     "iopub.status.busy": "2024-04-26T13:16:33.934522Z",
     "iopub.status.idle": "2024-04-26T13:16:35.818124Z",
     "shell.execute_reply": "2024-04-26T13:16:35.816885Z"
    },
    "id": "hmojm3bEjF3H",
    "outputId": "81f20a91-0df7-440b-c217-b60a1dcacc0c",
    "papermill": {
     "duration": 1.892055,
     "end_time": "2024-04-26T13:16:35.820632",
     "exception": false,
     "start_time": "2024-04-26T13:16:33.928577",
     "status": "completed"
    },
    "tags": []
   },
   "outputs": [
    {
     "data": {
      "text/plain": [
       "{'Linear Regression': {'MSE': 1424935.6814849433, 'R^2': 0.9928613639375479},\n",
       " 'Random Forest': {'MSE': 9422638.29055948, 'R^2': 0.9527945110937688},\n",
       " 'GBM': {'MSE': 10172110.482893495, 'R^2': 0.949039808836313}}"
      ]
     },
     "execution_count": 5,
     "metadata": {},
     "output_type": "execute_result"
    }
   ],
   "source": [
    "from sklearn.linear_model import LinearRegression\n",
    "from sklearn.ensemble import RandomForestRegressor, GradientBoostingRegressor\n",
    "from sklearn.metrics import mean_squared_error, r2_score\n",
    "\n",
    "# Initialize the models\n",
    "lr_model = LinearRegression()\n",
    "rf_model = RandomForestRegressor(n_estimators=100, random_state=42)\n",
    "gbm_model = GradientBoostingRegressor(n_estimators=100, random_state=42)\n",
    "\n",
    "# Function to train and evaluate a model\n",
    "def train_evaluate(model, X_train, y_train, X_test, y_test):\n",
    "    model.fit(X_train, y_train)\n",
    "    predictions = model.predict(X_test)\n",
    "    mse = mean_squared_error(y_test, predictions)\n",
    "    r2 = r2_score(y_test, predictions)\n",
    "    return mse, r2\n",
    "\n",
    "# Train and evaluate each model\n",
    "results = {}\n",
    "models = {'Linear Regression': lr_model, 'Random Forest': rf_model, 'GBM': gbm_model}\n",
    "for name, model in models.items():\n",
    "    mse, r2 = train_evaluate(model, X_train, y_train, X_test, y_test)\n",
    "    results[name] = {'MSE': mse, 'R^2': r2}\n",
    "\n",
    "results\n"
   ]
  },
  {
   "cell_type": "code",
   "execution_count": 6,
   "id": "af946ece",
   "metadata": {
    "execution": {
     "iopub.execute_input": "2024-04-26T13:16:35.832166Z",
     "iopub.status.busy": "2024-04-26T13:16:35.831769Z",
     "iopub.status.idle": "2024-04-26T13:16:35.846208Z",
     "shell.execute_reply": "2024-04-26T13:16:35.844998Z"
    },
    "id": "Sg2wGdOIjZU_",
    "papermill": {
     "duration": 0.023221,
     "end_time": "2024-04-26T13:16:35.848850",
     "exception": false,
     "start_time": "2024-04-26T13:16:35.825629",
     "status": "completed"
    },
    "tags": []
   },
   "outputs": [],
   "source": [
    "# Create lagged features\n",
    "for lag in [1, 7, 30]:\n",
    "    bitcoin_data[f'Close_lag_{lag}'] = bitcoin_data['Close'].shift(lag)\n",
    "\n",
    "# Create rolling mean and exponential moving averages\n",
    "for window in [7, 14, 30]:\n",
    "    bitcoin_data[f'Rolling_Mean_{window}'] = bitcoin_data['Close'].rolling(window).mean()\n",
    "    bitcoin_data[f'EMA_{window}'] = bitcoin_data['Close'].ewm(span=window, adjust=False).mean()\n"
   ]
  },
  {
   "cell_type": "code",
   "execution_count": 7,
   "id": "4f55dd9f",
   "metadata": {
    "execution": {
     "iopub.execute_input": "2024-04-26T13:16:35.860256Z",
     "iopub.status.busy": "2024-04-26T13:16:35.859860Z",
     "iopub.status.idle": "2024-04-26T13:16:35.869947Z",
     "shell.execute_reply": "2024-04-26T13:16:35.868601Z"
    },
    "id": "WKx7xpIh05ef",
    "papermill": {
     "duration": 0.018511,
     "end_time": "2024-04-26T13:16:35.872304",
     "exception": false,
     "start_time": "2024-04-26T13:16:35.853793",
     "status": "completed"
    },
    "tags": []
   },
   "outputs": [],
   "source": [
    "# Drop rows with missing values\n",
    "bitcoin_data.dropna(inplace=True)\n",
    "\n",
    "# Define features and target\n",
    "features = bitcoin_data[[col for col in bitcoin_data.columns if 'lag' in col or 'Rolling_Mean' in col or 'EMA' in col]]\n",
    "target = bitcoin_data['Close']\n",
    "\n"
   ]
  },
  {
   "cell_type": "code",
   "execution_count": 8,
   "id": "64fc57e5",
   "metadata": {
    "execution": {
     "iopub.execute_input": "2024-04-26T13:16:35.883881Z",
     "iopub.status.busy": "2024-04-26T13:16:35.883420Z",
     "iopub.status.idle": "2024-04-26T13:16:35.888913Z",
     "shell.execute_reply": "2024-04-26T13:16:35.888044Z"
    },
    "id": "ifc1-eXC08Gq",
    "papermill": {
     "duration": 0.013741,
     "end_time": "2024-04-26T13:16:35.891096",
     "exception": false,
     "start_time": "2024-04-26T13:16:35.877355",
     "status": "completed"
    },
    "tags": []
   },
   "outputs": [],
   "source": [
    "# Split data into training and test sets\n",
    "split_index = int(len(bitcoin_data) * 0.8)\n",
    "X_train, X_test = features.iloc[:split_index], features.iloc[split_index:]\n",
    "y_train, y_test = target.iloc[:split_index], target.iloc[split_index:]"
   ]
  },
  {
   "cell_type": "code",
   "execution_count": 9,
   "id": "3e5fd42b",
   "metadata": {
    "execution": {
     "iopub.execute_input": "2024-04-26T13:16:35.902386Z",
     "iopub.status.busy": "2024-04-26T13:16:35.902003Z",
     "iopub.status.idle": "2024-04-26T13:16:35.906927Z",
     "shell.execute_reply": "2024-04-26T13:16:35.905997Z"
    },
    "id": "fqAAcU7H0_CC",
    "papermill": {
     "duration": 0.013193,
     "end_time": "2024-04-26T13:16:35.909199",
     "exception": false,
     "start_time": "2024-04-26T13:16:35.896006",
     "status": "completed"
    },
    "tags": []
   },
   "outputs": [],
   "source": [
    "# Initialize and train models\n",
    "models = {\n",
    "    'Linear Regression': LinearRegression(),\n",
    "    'Random Forest': RandomForestRegressor(n_estimators=100, random_state=42),\n",
    "    'Gradient Boosting': GradientBoostingRegressor(n_estimators=100, random_state=42)\n",
    "}"
   ]
  },
  {
   "cell_type": "code",
   "execution_count": 10,
   "id": "e9b2eaf2",
   "metadata": {
    "execution": {
     "iopub.execute_input": "2024-04-26T13:16:35.920897Z",
     "iopub.status.busy": "2024-04-26T13:16:35.920514Z",
     "iopub.status.idle": "2024-04-26T13:16:40.560337Z",
     "shell.execute_reply": "2024-04-26T13:16:40.559184Z"
    },
    "id": "_ymwC1WC1BlQ",
    "outputId": "887e6f07-ddf5-410e-dad8-e3d11e0f9938",
    "papermill": {
     "duration": 4.648866,
     "end_time": "2024-04-26T13:16:40.563179",
     "exception": false,
     "start_time": "2024-04-26T13:16:35.914313",
     "status": "completed"
    },
    "tags": []
   },
   "outputs": [
    {
     "name": "stdout",
     "output_type": "stream",
     "text": [
      "Linear Regression - MSE: 199217.66577476592, R^2: 0.9990072626169023\n",
      "Random Forest - MSE: 10416997.93489433, R^2: 0.9480902297022572\n",
      "Gradient Boosting - MSE: 10565049.433656957, R^2: 0.9473524625124164\n"
     ]
    }
   ],
   "source": [
    "# Train and evaluate models\n",
    "results = {}\n",
    "for name, model in models.items():\n",
    "    model.fit(X_train, y_train)\n",
    "    predictions = model.predict(X_test)\n",
    "    mse = mean_squared_error(y_test, predictions)\n",
    "    r2 = r2_score(y_test, predictions)\n",
    "    results[name] = {'MSE': mse, 'R^2': r2}\n",
    "\n",
    "# Print results\n",
    "for model_name, metrics in results.items():\n",
    "    print(f\"{model_name} - MSE: {metrics['MSE']}, R^2: {metrics['R^2']}\")"
   ]
  },
  {
   "cell_type": "code",
   "execution_count": 11,
   "id": "c114d757",
   "metadata": {
    "execution": {
     "iopub.execute_input": "2024-04-26T13:16:40.576119Z",
     "iopub.status.busy": "2024-04-26T13:16:40.575116Z",
     "iopub.status.idle": "2024-04-26T13:16:40.583943Z",
     "shell.execute_reply": "2024-04-26T13:16:40.582707Z"
    },
    "id": "iE7Jqcyz1DtY",
    "outputId": "1c56254c-4189-40eb-dc6a-4ab444016fd2",
    "papermill": {
     "duration": 0.017323,
     "end_time": "2024-04-26T13:16:40.586135",
     "exception": false,
     "start_time": "2024-04-26T13:16:40.568812",
     "status": "completed"
    },
    "tags": []
   },
   "outputs": [
    {
     "name": "stdout",
     "output_type": "stream",
     "text": [
      "Forecast Values: [68770.13700368 70385.39020429 71909.90167035 70187.92939185\n",
      " 69510.64439676 70551.52334343 69541.19593579 66605.50026123\n",
      " 67084.32774    68059.31011471 66924.48129682 68390.1037432\n",
      " 69639.89601373 72272.61141183 69441.99197373 70738.75995728\n",
      " 69958.87263806 67316.36022593 64894.74355176 65386.03325494\n",
      " 63086.08487439 63095.28639137 61149.86335783 63898.91033616\n",
      " 63566.73822207 64230.91839503 64966.62134747 66910.82322144\n",
      " 66570.92271902 64647.46127633]\n"
     ]
    }
   ],
   "source": [
    "# Example forecast\n",
    "# Adjust the index for your forecast horizon\n",
    "forecast_index = -30  # Example: last 30 days from the dataset\n",
    "forecast_values = models['Linear Regression'].predict(features.iloc[forecast_index:])\n",
    "print(\"Forecast Values:\", forecast_values)"
   ]
  },
  {
   "cell_type": "markdown",
   "id": "ab85cbc3",
   "metadata": {
    "id": "1yQK0SSw2Jb5",
    "papermill": {
     "duration": 0.004872,
     "end_time": "2024-04-26T13:16:40.596949",
     "exception": false,
     "start_time": "2024-04-26T13:16:40.592077",
     "status": "completed"
    },
    "tags": []
   },
   "source": [
    "The Linear Regression model significantly outperformed the Random Forest and Gradient Boosting models in terms of accuracy. The forecast values predicted by the Linear Regression model for upcoming prices appear reasonable and closely follow the trends indicated by historical data. This is evidenced by the very high R-squared value (0.999) and the low Mean Squared Error (MSE) of approximately 199,217.67, suggesting that the model can explain nearly all the variability of the response data around its mean with very little error.\n",
    "\n",
    "The predictions by Linear Regression for the next 30 days in the dataset show an interesting trend of price fluctuations, with values peaking at around 72,272.61 before decreasing towards the end of the period. This may reflect typical market volatility or specific economic events affecting the cryptocurrency market, illustrating the model's sensitivity to underlying trends."
   ]
  },
  {
   "cell_type": "markdown",
   "id": "bcf02890",
   "metadata": {
    "id": "MRmbPc4h2BIz",
    "papermill": {
     "duration": 0.004796,
     "end_time": "2024-04-26T13:16:40.606602",
     "exception": false,
     "start_time": "2024-04-26T13:16:40.601806",
     "status": "completed"
    },
    "tags": []
   },
   "source": [
    "The Bitcoin price prediction project demonstrated that Linear Regression provided the most accurate forecasts among the models tested, achieving the highest R-squared value and the lowest MSE. The addition of rolling and exponential moving averages as features helped improve the prediction accuracy by capturing more complex patterns in price movements over time. Although ensemble models like Random Forest and GBM showed higher errors, their potential could be further explored with additional parameter tuning and feature engineering. This study underscores the importance of feature engineering in time series forecasting and highlights the potential of simple linear models in understanding and predicting market behaviors. The findings could assist investors and analysts in making informed decisions in the cryptocurrency market."
   ]
  }
 ],
 "metadata": {
  "colab": {
   "provenance": []
  },
  "kaggle": {
   "accelerator": "none",
   "dataSources": [
    {
     "datasetId": 4885742,
     "sourceId": 8237015,
     "sourceType": "datasetVersion"
    }
   ],
   "dockerImageVersionId": 30698,
   "isGpuEnabled": false,
   "isInternetEnabled": true,
   "language": "python",
   "sourceType": "notebook"
  },
  "kernelspec": {
   "display_name": "Python 3",
   "language": "python",
   "name": "python3"
  },
  "language_info": {
   "codemirror_mode": {
    "name": "ipython",
    "version": 3
   },
   "file_extension": ".py",
   "mimetype": "text/x-python",
   "name": "python",
   "nbconvert_exporter": "python",
   "pygments_lexer": "ipython3",
   "version": "3.10.13"
  },
  "papermill": {
   "default_parameters": {},
   "duration": 12.656273,
   "end_time": "2024-04-26T13:16:41.232189",
   "environment_variables": {},
   "exception": null,
   "input_path": "__notebook__.ipynb",
   "output_path": "__notebook__.ipynb",
   "parameters": {},
   "start_time": "2024-04-26T13:16:28.575916",
   "version": "2.5.0"
  }
 },
 "nbformat": 4,
 "nbformat_minor": 5
}
