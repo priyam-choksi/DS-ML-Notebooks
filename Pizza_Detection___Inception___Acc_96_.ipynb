{
  "metadata": {
    "kernelspec": {
      "language": "python",
      "display_name": "Python 3",
      "name": "python3"
    },
    "language_info": {
      "pygments_lexer": "ipython3",
      "nbconvert_exporter": "python",
      "version": "3.6.4",
      "file_extension": ".py",
      "codemirror_mode": {
        "name": "ipython",
        "version": 3
      },
      "name": "python",
      "mimetype": "text/x-python"
    },
    "colab": {
      "name": "Pizza Detection | Inception | Acc : 96%",
      "provenance": []
    }
  },
  "nbformat_minor": 0,
  "nbformat": 4,
  "cells": [
    {
      "source": [
        "\n",
        "# IMPORTANT: RUN THIS CELL IN ORDER TO IMPORT YOUR KAGGLE DATA SOURCES\n",
        "# TO THE CORRECT LOCATION (/kaggle/input) IN YOUR NOTEBOOK,\n",
        "# THEN FEEL FREE TO DELETE THIS CELL.\n",
        "# NOTE: THIS NOTEBOOK ENVIRONMENT DIFFERS FROM KAGGLE'S PYTHON\n",
        "# ENVIRONMENT SO THERE MAY BE MISSING LIBRARIES USED BY YOUR\n",
        "# NOTEBOOK.\n",
        "\n",
        "import os\n",
        "import sys\n",
        "from tempfile import NamedTemporaryFile\n",
        "from urllib.request import urlopen\n",
        "from urllib.parse import unquote, urlparse\n",
        "from urllib.error import HTTPError\n",
        "from zipfile import ZipFile\n",
        "import tarfile\n",
        "import shutil\n",
        "\n",
        "CHUNK_SIZE = 40960\n",
        "DATA_SOURCE_MAPPING = 'pizza-not-pizza:https%3A%2F%2Fstorage.googleapis.com%2Fkaggle-data-sets%2F2296957%2F3863171%2Fbundle%2Farchive.zip%3FX-Goog-Algorithm%3DGOOG4-RSA-SHA256%26X-Goog-Credential%3Dgcp-kaggle-com%2540kaggle-161607.iam.gserviceaccount.com%252F20240425%252Fauto%252Fstorage%252Fgoog4_request%26X-Goog-Date%3D20240425T034138Z%26X-Goog-Expires%3D259200%26X-Goog-SignedHeaders%3Dhost%26X-Goog-Signature%3D649aa22de8c7b2cd600ec02b963ee3399bda8889eaba3f4bb0f631c8b7bb4208b395bc20b1c2f164883f447d1cee2644e78596a556fe85ff105dbb153fd6725c0abc5e53ddad4f8e49977296b5f831e7a11a7becea057d369fb7d63f6843220af452b44028624ba70c7a8263c968ae87d45387888712afed6b2a79787cf512470ccef0bce305f0f9e531e76d9431fd10823f44583d242069cd2d386f4d1c8b96dcd58f6f53cb1e59c5c100191f68d413e1a3363d919944ae0ddab4cbcfe1f2a687a417b132db5051ea5af72de675d0e5542fc2e93033ae0a10de40bbd549b02655758bb95ea825abd67fcdb0df58aae0e42762bfd9475973fdd89fac30f28d5e,pizza-detector:https%3A%2F%2Fstorage.googleapis.com%2Fkaggle-data-sets%2F2535894%2F4304910%2Fbundle%2Farchive.zip%3FX-Goog-Algorithm%3DGOOG4-RSA-SHA256%26X-Goog-Credential%3Dgcp-kaggle-com%2540kaggle-161607.iam.gserviceaccount.com%252F20240425%252Fauto%252Fstorage%252Fgoog4_request%26X-Goog-Date%3D20240425T034138Z%26X-Goog-Expires%3D259200%26X-Goog-SignedHeaders%3Dhost%26X-Goog-Signature%3D38d659fab598e9c62d03ffea25a0d3c1a465eb85e83e51177c06ba7f3799a649bb7a1ec35ceb00318569ee81550bcfe1d4bda68e7eb6aa3a184f5d29129b30013916d7cce4080ae798f47a7bf0d69f25e2855e0357152763c1291f1ba2db8967a8eeb522a73440bdab68dd67479e4f1c4ac480d9a66d40301f68a0225e113671e6853fe6f2db4793955f4c9c44fd6ea931df49e40715e772c201e5a52fca3319b38ffe89b24aa7fe41fd9a055390e7f3afdc811419c3eab5392e966d83b0aa165f073dc685c8e7f81a59b9ea68716a7a56b7deb61d7464ce7e6f1062fc10fc66e073be741a92172601110ea679e6866f57389f58ec92cae30b45ebddcc9c6ebb'\n",
        "\n",
        "KAGGLE_INPUT_PATH='/kaggle/input'\n",
        "KAGGLE_WORKING_PATH='/kaggle/working'\n",
        "KAGGLE_SYMLINK='kaggle'\n",
        "\n",
        "!umount /kaggle/input/ 2> /dev/null\n",
        "shutil.rmtree('/kaggle/input', ignore_errors=True)\n",
        "os.makedirs(KAGGLE_INPUT_PATH, 0o777, exist_ok=True)\n",
        "os.makedirs(KAGGLE_WORKING_PATH, 0o777, exist_ok=True)\n",
        "\n",
        "try:\n",
        "  os.symlink(KAGGLE_INPUT_PATH, os.path.join(\"..\", 'input'), target_is_directory=True)\n",
        "except FileExistsError:\n",
        "  pass\n",
        "try:\n",
        "  os.symlink(KAGGLE_WORKING_PATH, os.path.join(\"..\", 'working'), target_is_directory=True)\n",
        "except FileExistsError:\n",
        "  pass\n",
        "\n",
        "for data_source_mapping in DATA_SOURCE_MAPPING.split(','):\n",
        "    directory, download_url_encoded = data_source_mapping.split(':')\n",
        "    download_url = unquote(download_url_encoded)\n",
        "    filename = urlparse(download_url).path\n",
        "    destination_path = os.path.join(KAGGLE_INPUT_PATH, directory)\n",
        "    try:\n",
        "        with urlopen(download_url) as fileres, NamedTemporaryFile() as tfile:\n",
        "            total_length = fileres.headers['content-length']\n",
        "            print(f'Downloading {directory}, {total_length} bytes compressed')\n",
        "            dl = 0\n",
        "            data = fileres.read(CHUNK_SIZE)\n",
        "            while len(data) > 0:\n",
        "                dl += len(data)\n",
        "                tfile.write(data)\n",
        "                done = int(50 * dl / int(total_length))\n",
        "                sys.stdout.write(f\"\\r[{'=' * done}{' ' * (50-done)}] {dl} bytes downloaded\")\n",
        "                sys.stdout.flush()\n",
        "                data = fileres.read(CHUNK_SIZE)\n",
        "            if filename.endswith('.zip'):\n",
        "              with ZipFile(tfile) as zfile:\n",
        "                zfile.extractall(destination_path)\n",
        "            else:\n",
        "              with tarfile.open(tfile.name) as tarfile:\n",
        "                tarfile.extractall(destination_path)\n",
        "            print(f'\\nDownloaded and uncompressed: {directory}')\n",
        "    except HTTPError as e:\n",
        "        print(f'Failed to load (likely expired) {download_url} to path {destination_path}')\n",
        "        continue\n",
        "    except OSError as e:\n",
        "        print(f'Failed to load {download_url} to path {destination_path}')\n",
        "        continue\n",
        "\n",
        "print('Data source import complete.')\n"
      ],
      "metadata": {
        "id": "6ziew6TJWDY3"
      },
      "cell_type": "code",
      "outputs": [],
      "execution_count": null
    },
    {
      "cell_type": "markdown",
      "source": [
        "# **Imports**"
      ],
      "metadata": {
        "id": "ajL4znb2WDY5"
      }
    },
    {
      "cell_type": "code",
      "source": [
        "# Common\n",
        "import os\n",
        "import numpy as np\n",
        "import pandas as pd\n",
        "import tensorflow as tf\n",
        "\n",
        "# Data\n",
        "from keras.preprocessing.image import ImageDataGenerator\n",
        "\n",
        "# Data Visualization\n",
        "import seaborn as sns\n",
        "import plotly.express as px\n",
        "import matplotlib.pyplot as plt\n",
        "\n",
        "# Model\n",
        "from keras.models import Sequential, load_model\n",
        "from keras.layers import Dense, GlobalAvgPool2D, Dropout\n",
        "\n",
        "# Callbacks\n",
        "from keras.callbacks import EarlyStopping, ModelCheckpoint\n",
        "\n",
        "# Pretrained model\n",
        "from tensorflow.keras.applications import ResNet50V2, InceptionV3, Xception, ResNet152V2"
      ],
      "metadata": {
        "_uuid": "8f2839f25d086af736a60e9eeb907d3b93b6e0e5",
        "_cell_guid": "b1076dfc-b9ad-4769-8c92-a6c4dae69d19",
        "execution": {
          "iopub.status.busy": "2022-10-10T00:24:49.165749Z",
          "iopub.execute_input": "2022-10-10T00:24:49.166334Z",
          "iopub.status.idle": "2022-10-10T00:24:58.119863Z",
          "shell.execute_reply.started": "2022-10-10T00:24:49.166224Z",
          "shell.execute_reply": "2022-10-10T00:24:58.118296Z"
        },
        "trusted": true,
        "id": "WsrzVAzLWDY6"
      },
      "execution_count": null,
      "outputs": []
    },
    {
      "cell_type": "markdown",
      "source": [
        "# **Data - Info**"
      ],
      "metadata": {
        "id": "udSWG6cNWDY6"
      }
    },
    {
      "cell_type": "code",
      "source": [
        "rootpath = '../input/pizza-not-pizza/pizza_not_pizza/'\n",
        "\n",
        "# Get Class Names\n",
        "class_names = os.listdir(rootpath)[:2]\n",
        "class_names"
      ],
      "metadata": {
        "execution": {
          "iopub.status.busy": "2022-10-10T00:24:58.122584Z",
          "iopub.execute_input": "2022-10-10T00:24:58.123107Z",
          "iopub.status.idle": "2022-10-10T00:24:58.137852Z",
          "shell.execute_reply.started": "2022-10-10T00:24:58.123072Z",
          "shell.execute_reply": "2022-10-10T00:24:58.136313Z"
        },
        "trusted": true,
        "id": "I-2NmzGpWDY6"
      },
      "execution_count": null,
      "outputs": []
    },
    {
      "cell_type": "markdown",
      "source": [
        "There are **2 class**, but we are more interested in the **class distribution**."
      ],
      "metadata": {
        "id": "hwZirEuTWDY6"
      }
    },
    {
      "cell_type": "code",
      "source": [
        "# Calculate Class Distributiona\n",
        "class_dis = [len(os.listdir(rootpath + name)) for name in class_names]\n",
        "\n",
        "# Plot\n",
        "fig = px.pie(names=class_names, values=class_dis, title=\"Class Distribution\")\n",
        "fig.update_layout({'title':{'x':0.5}})\n",
        "fig.show()"
      ],
      "metadata": {
        "_kg_hide-input": true,
        "execution": {
          "iopub.status.busy": "2022-10-10T00:24:58.140449Z",
          "iopub.execute_input": "2022-10-10T00:24:58.141032Z",
          "iopub.status.idle": "2022-10-10T00:24:59.580447Z",
          "shell.execute_reply.started": "2022-10-10T00:24:58.14098Z",
          "shell.execute_reply": "2022-10-10T00:24:59.579321Z"
        },
        "trusted": true,
        "id": "yp0YT3rlWDY6"
      },
      "execution_count": null,
      "outputs": []
    },
    {
      "cell_type": "code",
      "source": [
        "# Plot\n",
        "fig = px.bar(x=class_names, y=class_dis, title=\"Class Distribution\")\n",
        "fig.update_layout({'title':{'x':0.5}})\n",
        "fig.show()"
      ],
      "metadata": {
        "_kg_hide-input": true,
        "execution": {
          "iopub.status.busy": "2022-10-10T00:24:59.58289Z",
          "iopub.execute_input": "2022-10-10T00:24:59.583271Z",
          "iopub.status.idle": "2022-10-10T00:24:59.670664Z",
          "shell.execute_reply.started": "2022-10-10T00:24:59.583238Z",
          "shell.execute_reply": "2022-10-10T00:24:59.669377Z"
        },
        "trusted": true,
        "id": "oU4X3IQdWDY6"
      },
      "execution_count": null,
      "outputs": []
    },
    {
      "cell_type": "markdown",
      "source": [
        "**Superb!!**. Both the **classes are equally distributed** this ensures that the **model cannot be biased towards any class**."
      ],
      "metadata": {
        "id": "qHq-wzi5WDY6"
      }
    },
    {
      "cell_type": "markdown",
      "source": [
        "# **Data Loading**"
      ],
      "metadata": {
        "id": "_JGiola8WDY7"
      }
    },
    {
      "cell_type": "code",
      "source": [
        "# Initialize Generator\n",
        "gen = ImageDataGenerator(\n",
        "    rescale=1./255,\n",
        "    rotation_range=20,\n",
        "    validation_split=0.2\n",
        ")\n",
        "\n",
        "# Load Data\n",
        "train_ds = gen.flow_from_directory(\n",
        "    rootpath,\n",
        "    target_size=(256,256),\n",
        "    subset='training',\n",
        "    batch_size=32,\n",
        "    shuffle=True,\n",
        "    class_mode='binary'\n",
        ")\n",
        "\n",
        "valid_ds = gen.flow_from_directory(\n",
        "    rootpath,\n",
        "    target_size=(256,256),\n",
        "    subset='validation',\n",
        "    batch_size=32,\n",
        "    shuffle=True,\n",
        "    class_mode='binary'\n",
        ")"
      ],
      "metadata": {
        "execution": {
          "iopub.status.busy": "2022-10-10T00:24:59.672147Z",
          "iopub.execute_input": "2022-10-10T00:24:59.672907Z",
          "iopub.status.idle": "2022-10-10T00:24:59.891993Z",
          "shell.execute_reply.started": "2022-10-10T00:24:59.672859Z",
          "shell.execute_reply": "2022-10-10T00:24:59.890541Z"
        },
        "trusted": true,
        "id": "Rd_aw8xhWDY7"
      },
      "execution_count": null,
      "outputs": []
    },
    {
      "cell_type": "markdown",
      "source": [
        "# **Data Visualization**"
      ],
      "metadata": {
        "id": "VXLxRQ1cWDY7"
      }
    },
    {
      "cell_type": "markdown",
      "source": [
        "The best way to understand the **data is to Visualize it**."
      ],
      "metadata": {
        "id": "sTOeKAnDWDY7"
      }
    },
    {
      "cell_type": "code",
      "source": [
        "i=1\n",
        "plt.figure(figsize=(20,10))\n",
        "for images, labels in train_ds:\n",
        "\n",
        "    id = np.random.randint(len(images))\n",
        "    image, label = images[id], int(labels[id])\n",
        "\n",
        "    plt.subplot(4,10,i)\n",
        "    plt.imshow(image)\n",
        "    plt.title(f\"Class : {class_names[label]}\")\n",
        "    plt.axis('off')\n",
        "\n",
        "    i+=1\n",
        "    if i>=41:\n",
        "        break\n",
        "plt.tight_layout()\n",
        "plt.show()"
      ],
      "metadata": {
        "_kg_hide-input": true,
        "execution": {
          "iopub.status.busy": "2022-10-10T00:31:18.813611Z",
          "iopub.execute_input": "2022-10-10T00:31:18.81488Z",
          "iopub.status.idle": "2022-10-10T00:31:49.403313Z",
          "shell.execute_reply.started": "2022-10-10T00:31:18.814827Z",
          "shell.execute_reply": "2022-10-10T00:31:49.400637Z"
        },
        "trusted": true,
        "id": "rzS070ZWWDY7"
      },
      "execution_count": null,
      "outputs": []
    },
    {
      "cell_type": "markdown",
      "source": [
        "This will be a **tough task**, this is because the **\"not pizza\"** contains a **wide variety of food items**."
      ],
      "metadata": {
        "id": "3tSR1rn8WDY7"
      }
    },
    {
      "cell_type": "markdown",
      "source": [
        "# **Inception**"
      ],
      "metadata": {
        "id": "BzQ1l-kUWDY7"
      }
    },
    {
      "cell_type": "code",
      "source": [
        "base_model = InceptionV3(include_top=False, input_shape=(256,256,3))\n",
        "\n",
        "# Freeze Weights\n",
        "base_model.trainable = False\n",
        "\n",
        "# Model Architecture\n",
        "model = Sequential([\n",
        "    base_model,\n",
        "    GlobalAvgPool2D(),\n",
        "    Dense(256, activation='relu', kernel_initializer='he_normal'),\n",
        "    Dropout(0.2),\n",
        "    Dense(1, activation='sigmoid')\n",
        "], name=\"Inception-TL\")\n",
        "\n",
        "# Compile Model\n",
        "model.compile(\n",
        "    loss='binary_crossentropy',\n",
        "    optimizer='adam',\n",
        "    metrics=['accuracy']\n",
        ")\n",
        "\n",
        "# Callbacks\n",
        "cbs = [EarlyStopping(patience=3, restore_best_weights=True), ModelCheckpoint(\"Inception-TL.h5\", save_best_only=True)]\n",
        "\n",
        "# Model Training\n",
        "# model.fit(train_ds, validation_data=valid_ds, epochs=50, callbacks=cbs)"
      ],
      "metadata": {
        "execution": {
          "iopub.status.busy": "2022-10-10T00:25:09.322683Z",
          "iopub.execute_input": "2022-10-10T00:25:09.323141Z",
          "iopub.status.idle": "2022-10-10T00:25:13.782545Z",
          "shell.execute_reply.started": "2022-10-10T00:25:09.323094Z",
          "shell.execute_reply": "2022-10-10T00:25:13.781308Z"
        },
        "trusted": true,
        "id": "x1ElQ2DiWDY7"
      },
      "execution_count": null,
      "outputs": []
    },
    {
      "cell_type": "code",
      "source": [
        "model.evaluate(train_ds)"
      ],
      "metadata": {
        "execution": {
          "iopub.status.busy": "2022-10-10T00:44:58.966303Z",
          "iopub.execute_input": "2022-10-10T00:44:58.966857Z",
          "iopub.status.idle": "2022-10-10T00:46:55.48841Z",
          "shell.execute_reply.started": "2022-10-10T00:44:58.966818Z",
          "shell.execute_reply": "2022-10-10T00:46:55.487406Z"
        },
        "trusted": true,
        "id": "-Xy90J-1WDY7"
      },
      "execution_count": null,
      "outputs": []
    },
    {
      "cell_type": "code",
      "source": [
        "model.evaluate(valid_ds)"
      ],
      "metadata": {
        "execution": {
          "iopub.status.busy": "2022-10-10T00:46:55.49022Z",
          "iopub.execute_input": "2022-10-10T00:46:55.491004Z",
          "iopub.status.idle": "2022-10-10T00:47:37.298637Z",
          "shell.execute_reply.started": "2022-10-10T00:46:55.490967Z",
          "shell.execute_reply": "2022-10-10T00:47:37.297267Z"
        },
        "trusted": true,
        "id": "mvHapy0BWDY7"
      },
      "execution_count": null,
      "outputs": []
    },
    {
      "cell_type": "markdown",
      "source": [
        "# **Prediction**"
      ],
      "metadata": {
        "id": "BbR9v32cWDY7"
      }
    },
    {
      "cell_type": "code",
      "source": [
        "model = load_model('../input/pizza-detector/Inception-Pizza-Detector.h5')"
      ],
      "metadata": {
        "execution": {
          "iopub.status.busy": "2022-10-10T00:25:13.784541Z",
          "iopub.execute_input": "2022-10-10T00:25:13.785059Z",
          "iopub.status.idle": "2022-10-10T00:25:18.281392Z",
          "shell.execute_reply.started": "2022-10-10T00:25:13.785012Z",
          "shell.execute_reply": "2022-10-10T00:25:18.280103Z"
        },
        "trusted": true,
        "id": "C-SjxftqWDY8"
      },
      "execution_count": null,
      "outputs": []
    },
    {
      "cell_type": "code",
      "source": [
        "model.summary()"
      ],
      "metadata": {
        "execution": {
          "iopub.status.busy": "2022-10-10T00:33:06.033092Z",
          "iopub.execute_input": "2022-10-10T00:33:06.033494Z",
          "iopub.status.idle": "2022-10-10T00:33:06.056728Z",
          "shell.execute_reply.started": "2022-10-10T00:33:06.033445Z",
          "shell.execute_reply": "2022-10-10T00:33:06.055432Z"
        },
        "trusted": true,
        "id": "72_QVJKRWDY8"
      },
      "execution_count": null,
      "outputs": []
    },
    {
      "cell_type": "code",
      "source": [
        "i=1\n",
        "plt.figure(figsize=(20,20))\n",
        "for images, labels in valid_ds:\n",
        "\n",
        "    id = np.random.randint(len(images))\n",
        "    image, label = images[id], int(labels[id])\n",
        "    pred_label = int(np.round(model.predict(image.reshape(-1,256,256,3))))\n",
        "\n",
        "    plt.subplot(4,5,i)\n",
        "    plt.imshow(image)\n",
        "    plt.title(f\"Class : {class_names[label]}, Pred : {class_names[pred_label]}\")\n",
        "    plt.axis('off')\n",
        "\n",
        "    i+=1\n",
        "    if i>=21:\n",
        "        break\n",
        "plt.tight_layout()\n",
        "plt.show()"
      ],
      "metadata": {
        "execution": {
          "iopub.status.busy": "2022-10-10T00:51:00.035066Z",
          "iopub.execute_input": "2022-10-10T00:51:00.035559Z",
          "iopub.status.idle": "2022-10-10T00:51:19.559573Z",
          "shell.execute_reply.started": "2022-10-10T00:51:00.035522Z",
          "shell.execute_reply": "2022-10-10T00:51:19.557224Z"
        },
        "_kg_hide-input": true,
        "trusted": true,
        "id": "IjarLidiWDY8"
      },
      "execution_count": null,
      "outputs": []
    }
  ]
}