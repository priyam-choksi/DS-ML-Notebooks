{
  "cells": [
    {
      "cell_type": "code",
      "execution_count": null,
      "id": "10de6534",
      "metadata": {
        "execution": {
          "iopub.execute_input": "2024-04-10T01:18:20.009107Z",
          "iopub.status.busy": "2024-04-10T01:18:20.008814Z",
          "iopub.status.idle": "2024-04-10T01:18:20.848123Z",
          "shell.execute_reply": "2024-04-10T01:18:20.847081Z"
        },
        "id": "10de6534",
        "outputId": "03f88228-6281-4c7b-fd9c-014cc4889e49",
        "papermill": {
          "duration": 0.855415,
          "end_time": "2024-04-10T01:18:20.850395",
          "exception": false,
          "start_time": "2024-04-10T01:18:19.994980",
          "status": "completed"
        },
        "tags": []
      },
      "outputs": [
        {
          "name": "stdout",
          "output_type": "stream",
          "text": [
            "/kaggle/input/94_character_TMNIST.csv\n"
          ]
        }
      ],
      "source": [
        "# This Python 3 environment comes with many helpful analytics libraries installed\n",
        "# It is defined by the kaggle/python Docker image: https://github.com/kaggle/docker-python\n",
        "# For example, here's several helpful packages to load\n",
        "\n",
        "import numpy as np # linear algebra\n",
        "import pandas as pd # data processing, CSV file I/O (e.g. pd.read_csv)\n",
        "\n",
        "# Input data files are available in the read-only \"../input/\" directory\n",
        "# For example, running this (by clicking run or pressing Shift+Enter) will list all files under the input directory\n",
        "\n",
        "import os\n",
        "for dirname, _, filenames in os.walk('/kaggle/input'):\n",
        "    for filename in filenames:\n",
        "        print(os.path.join(dirname, filename))\n",
        "\n",
        "# You can write up to 20GB to the current directory (/kaggle/working/) that gets preserved as output when you create a version using \"Save & Run All\"\n",
        "# You can also write temporary files to /kaggle/temp/, but they won't be saved outside of the current session"
      ]
    },
    {
      "cell_type": "markdown",
      "id": "84005630",
      "metadata": {
        "papermill": {
          "duration": 0.011681,
          "end_time": "2024-04-10T01:18:20.874472",
          "exception": false,
          "start_time": "2024-04-10T01:18:20.862791",
          "status": "completed"
        },
        "tags": [],
        "id": "84005630"
      },
      "source": [
        "# **Dataset**"
      ]
    },
    {
      "cell_type": "markdown",
      "id": "2001fc6e",
      "metadata": {
        "papermill": {
          "duration": 0.011693,
          "end_time": "2024-04-10T01:18:20.898147",
          "exception": false,
          "start_time": "2024-04-10T01:18:20.886454",
          "status": "completed"
        },
        "tags": [],
        "id": "2001fc6e"
      },
      "source": [
        "Typography MNIST (TMNIST)\n",
        "\n",
        "MNIST style images of the following 94 alphabetic characters:\n",
        "\n",
        "{'0', '1', '2', '3', '4', '5', '6', '7', '8', '9', 'a', 'b', 'c', 'd', 'e', 'f', 'g', 'h', 'i', 'j', 'k', 'l', 'm', 'n', 'o', 'p', 'q', 'r', 's', 't', 'u', 'v', 'w', 'x', 'y', 'z', 'A', 'B', 'C', 'D', 'E', 'F', 'G', 'H', 'I', 'J', 'K', 'L', 'M', 'N', 'O', 'P', 'Q', 'R', 'S', 'T', 'U', 'V', 'W', 'X', 'Y', 'Z', '!', '\"', '#', '$', '%', '&', \"'\", '(', ')', '*', '+', ',', '-', '.', '/', ':', ';', '<', '=', '>', '?', '@', '[', '\\', ']', '^', '_', '`', '{', '|', '}', '~'}\n",
        "\n",
        "This repository contains a single csv .file.\n",
        "The structure of the csv file is:\n",
        "\n",
        "the first row contains column headers ['names', 'labels','1','2',…..'784']\n",
        "The 'names' column contains font file names such as 'Acme-Regular' and 'ZillaSlab-Bold'\n",
        "The 'labels' column contains characters such as '@','E' or '+'\n",
        "The remaining 784 columns contain the grayscale pixel values for the image of the corresponding character in the 'name' font-style\n",
        "This dataset contains over 281,000 images and is part of the Warhol.ai Computational Creativity and Cognitive Type projects."
      ]
    },
    {
      "cell_type": "markdown",
      "id": "2ed2a564",
      "metadata": {
        "papermill": {
          "duration": 0.012084,
          "end_time": "2024-04-10T01:18:20.922010",
          "exception": false,
          "start_time": "2024-04-10T01:18:20.909926",
          "status": "completed"
        },
        "tags": [],
        "id": "2ed2a564"
      },
      "source": [
        "# **Abstract**"
      ]
    },
    {
      "cell_type": "markdown",
      "id": "0d40b56b",
      "metadata": {
        "papermill": {
          "duration": 0.012061,
          "end_time": "2024-04-10T01:18:20.946297",
          "exception": false,
          "start_time": "2024-04-10T01:18:20.934236",
          "status": "completed"
        },
        "tags": [],
        "id": "0d40b56b"
      },
      "source": [
        "This notebook presents a detailed exploration of character recognition using deep learning techniques. The dataset consists of 94 unique characters from various fonts and styles. The study begins with an exploratory data analysis (EDA) to understand the dataset's structure and characteristics. Subsequently, we preprocess the data, including normalization and one-hot encoding of labels, to prepare it for model training.\n",
        "\n",
        "The primary focus is on two main approaches: Convolutional Neural Networks (CNN) and Automated Machine Learning (AutoML) using H2O. CNNs are widely used for image recognition tasks due to their ability to capture spatial hierarchies in images. We delve into the architecture of CNNs, including convolutional layers, pooling layers, and activation functions like ReLU (Rectified Linear Unit), explaining their roles in enhancing model performance.\n",
        "\n",
        "For the AutoML approach, we leverage the H2O AutoML framework to automate the model selection and hyperparameter tuning process. This allows us to compare the performance of neural networks trained using AutoML with manually tuned models.\n",
        "\n",
        "Experimental results and evaluations are presented, comparing the performance of different models and techniques. Finally, we discuss insights gained from the study and potential avenues for future research in the field of deep learning for character recognition."
      ]
    },
    {
      "cell_type": "markdown",
      "id": "3aea6fc4",
      "metadata": {
        "papermill": {
          "duration": 0.012188,
          "end_time": "2024-04-10T01:18:20.971908",
          "exception": false,
          "start_time": "2024-04-10T01:18:20.959720",
          "status": "completed"
        },
        "tags": [],
        "id": "3aea6fc4"
      },
      "source": [
        "# Objective"
      ]
    },
    {
      "cell_type": "markdown",
      "id": "e8751845",
      "metadata": {
        "papermill": {
          "duration": 0.011919,
          "end_time": "2024-04-10T01:18:20.996346",
          "exception": false,
          "start_time": "2024-04-10T01:18:20.984427",
          "status": "completed"
        },
        "tags": [],
        "id": "e8751845"
      },
      "source": [
        "Find a  \"Hello World\"  Handwritten Digit Classification (MNIST) tutorial and create a similar tutorial for one of the TMNIST data sets.\n",
        "\n",
        "The tutorial must be posted on Kaggle associated with the data set you use (see  https://www.kaggle.com/datasets/nikbearbrown/tmnist-alphabet-94-charactersLinks to an external site. )   Your notebook MUST not be identical to the other notebooks associated with the data."
      ]
    },
    {
      "cell_type": "markdown",
      "id": "59121270",
      "metadata": {
        "papermill": {
          "duration": 0.012416,
          "end_time": "2024-04-10T01:18:21.021343",
          "exception": false,
          "start_time": "2024-04-10T01:18:21.008927",
          "status": "completed"
        },
        "tags": [],
        "id": "59121270"
      },
      "source": [
        "# Importing Libraries"
      ]
    },
    {
      "cell_type": "code",
      "execution_count": null,
      "id": "08387ef9",
      "metadata": {
        "collapsed": true,
        "execution": {
          "iopub.execute_input": "2024-04-10T01:18:21.047801Z",
          "iopub.status.busy": "2024-04-10T01:18:21.047297Z",
          "iopub.status.idle": "2024-04-10T01:18:34.489718Z",
          "shell.execute_reply": "2024-04-10T01:18:34.488538Z"
        },
        "id": "08387ef9",
        "jupyter": {
          "outputs_hidden": true
        },
        "outputId": "ca47cac8-4cd2-4bcd-b733-234c9ebf9c9a",
        "papermill": {
          "duration": 13.458172,
          "end_time": "2024-04-10T01:18:34.491945",
          "exception": false,
          "start_time": "2024-04-10T01:18:21.033773",
          "status": "completed"
        },
        "tags": []
      },
      "outputs": [
        {
          "name": "stdout",
          "output_type": "stream",
          "text": [
            "Requirement already satisfied: h2o in /opt/conda/lib/python3.10/site-packages (3.46.0.1)\r\n",
            "Requirement already satisfied: requests in /opt/conda/lib/python3.10/site-packages (from h2o) (2.31.0)\r\n",
            "Requirement already satisfied: tabulate in /opt/conda/lib/python3.10/site-packages (from h2o) (0.9.0)\r\n",
            "Requirement already satisfied: charset-normalizer<4,>=2 in /opt/conda/lib/python3.10/site-packages (from requests->h2o) (3.3.2)\r\n",
            "Requirement already satisfied: idna<4,>=2.5 in /opt/conda/lib/python3.10/site-packages (from requests->h2o) (3.6)\r\n",
            "Requirement already satisfied: urllib3<3,>=1.21.1 in /opt/conda/lib/python3.10/site-packages (from requests->h2o) (1.26.18)\r\n",
            "Requirement already satisfied: certifi>=2017.4.17 in /opt/conda/lib/python3.10/site-packages (from requests->h2o) (2024.2.2)\r\n",
            "Note: you may need to restart the kernel to use updated packages.\n"
          ]
        }
      ],
      "source": [
        "pip install h2o"
      ]
    },
    {
      "cell_type": "code",
      "execution_count": null,
      "id": "b2fe0d06",
      "metadata": {
        "execution": {
          "iopub.execute_input": "2024-04-10T01:18:34.518033Z",
          "iopub.status.busy": "2024-04-10T01:18:34.517659Z",
          "iopub.status.idle": "2024-04-10T01:18:48.693352Z",
          "shell.execute_reply": "2024-04-10T01:18:48.692548Z"
        },
        "id": "b2fe0d06",
        "papermill": {
          "duration": 14.19153,
          "end_time": "2024-04-10T01:18:48.695814",
          "exception": false,
          "start_time": "2024-04-10T01:18:34.504284",
          "status": "completed"
        },
        "tags": [],
        "outputId": "54bdd118-8639-4efa-fb54-da7c145ab669"
      },
      "outputs": [
        {
          "name": "stderr",
          "output_type": "stream",
          "text": [
            "2024-04-10 01:18:36.713731: E external/local_xla/xla/stream_executor/cuda/cuda_dnn.cc:9261] Unable to register cuDNN factory: Attempting to register factory for plugin cuDNN when one has already been registered\n",
            "2024-04-10 01:18:36.713836: E external/local_xla/xla/stream_executor/cuda/cuda_fft.cc:607] Unable to register cuFFT factory: Attempting to register factory for plugin cuFFT when one has already been registered\n",
            "2024-04-10 01:18:36.880631: E external/local_xla/xla/stream_executor/cuda/cuda_blas.cc:1515] Unable to register cuBLAS factory: Attempting to register factory for plugin cuBLAS when one has already been registered\n"
          ]
        }
      ],
      "source": [
        "import numpy as np\n",
        "import pandas as pd\n",
        "import tensorflow as tf\n",
        "from sklearn.model_selection import train_test_split\n",
        "from tensorflow.keras.models import Sequential\n",
        "from tensorflow.keras.layers import Conv2D, MaxPooling2D, Flatten, Dense, BatchNormalization, ReLU\n",
        "from tensorflow.keras.optimizers import Adam\n",
        "from tensorflow.keras.utils import to_categorical"
      ]
    },
    {
      "cell_type": "markdown",
      "id": "dd1a7735",
      "metadata": {
        "papermill": {
          "duration": 0.011666,
          "end_time": "2024-04-10T01:18:48.720069",
          "exception": false,
          "start_time": "2024-04-10T01:18:48.708403",
          "status": "completed"
        },
        "tags": [],
        "id": "dd1a7735"
      },
      "source": [
        "# Data Exploration"
      ]
    },
    {
      "cell_type": "code",
      "execution_count": null,
      "id": "29aa44f6",
      "metadata": {
        "execution": {
          "iopub.execute_input": "2024-04-10T01:18:48.745236Z",
          "iopub.status.busy": "2024-04-10T01:18:48.744693Z",
          "iopub.status.idle": "2024-04-10T01:19:29.362455Z",
          "shell.execute_reply": "2024-04-10T01:19:29.361189Z"
        },
        "papermill": {
          "duration": 40.633226,
          "end_time": "2024-04-10T01:19:29.365195",
          "exception": false,
          "start_time": "2024-04-10T01:18:48.731969",
          "status": "completed"
        },
        "tags": [],
        "id": "29aa44f6"
      },
      "outputs": [],
      "source": [
        "# Load and preprocess data\n",
        "df = pd.read_csv(\"/kaggle/input/94_character_TMNIST.csv\")\n",
        "X = df.drop(['names', 'labels'], axis=1).values.reshape(df.shape[0], 28, 28, 1) / 255\n",
        "y = df['labels']"
      ]
    },
    {
      "cell_type": "code",
      "execution_count": null,
      "id": "2bb1698a",
      "metadata": {
        "execution": {
          "iopub.execute_input": "2024-04-10T01:19:29.393878Z",
          "iopub.status.busy": "2024-04-10T01:19:29.393271Z",
          "iopub.status.idle": "2024-04-10T01:19:29.415079Z",
          "shell.execute_reply": "2024-04-10T01:19:29.413930Z"
        },
        "papermill": {
          "duration": 0.038433,
          "end_time": "2024-04-10T01:19:29.417118",
          "exception": false,
          "start_time": "2024-04-10T01:19:29.378685",
          "status": "completed"
        },
        "tags": [],
        "id": "2bb1698a",
        "outputId": "af848d47-1038-43a4-c438-3b04c5959cbf"
      },
      "outputs": [
        {
          "name": "stdout",
          "output_type": "stream",
          "text": [
            "                  names labels    1    2    3    4    5    6    7    8  ...  \\\n",
            "0         Salsa-Regular      6  0.0  0.0  0.0  0.0  0.0  0.0  0.0  0.0  ...   \n",
            "1  MouseMemoirs-Regular      D  0.0  0.0  0.0  0.0  0.0  0.0  0.0  0.0  ...   \n",
            "2     Creepster-Regular      f  0.0  0.0  0.0  0.0  0.0  0.0  0.0  0.0  ...   \n",
            "3     SeoulNamsan-Light      /  0.0  0.0  0.0  0.0  0.0  0.0  0.0  0.0  ...   \n",
            "4  HachiMaruPop-Regular      F  0.0  0.0  0.0  0.0  0.0  0.0  0.0  0.0  ...   \n",
            "\n",
            "   775  776  777  778  779  780  781  782  783  784  \n",
            "0  0.0  0.0  0.0  0.0  0.0  0.0  0.0  0.0  0.0  0.0  \n",
            "1  0.0  0.0  0.0  0.0  0.0  0.0  0.0  0.0  0.0  0.0  \n",
            "2  0.0  0.0  0.0  0.0  0.0  0.0  0.0  0.0  0.0  0.0  \n",
            "3  0.0  0.0  0.0  0.0  0.0  0.0  0.0  0.0  0.0  0.0  \n",
            "4  0.0  0.0  0.0  0.0  0.0  0.0  0.0  0.0  0.0  0.0  \n",
            "\n",
            "[5 rows x 786 columns]\n"
          ]
        }
      ],
      "source": [
        "# Check the first few rows\n",
        "print(df.head())"
      ]
    },
    {
      "cell_type": "code",
      "execution_count": null,
      "id": "dabc7b3a",
      "metadata": {
        "execution": {
          "iopub.execute_input": "2024-04-10T01:19:29.442780Z",
          "iopub.status.busy": "2024-04-10T01:19:29.442437Z",
          "iopub.status.idle": "2024-04-10T01:19:36.375159Z",
          "shell.execute_reply": "2024-04-10T01:19:36.374195Z"
        },
        "papermill": {
          "duration": 6.948335,
          "end_time": "2024-04-10T01:19:36.377629",
          "exception": false,
          "start_time": "2024-04-10T01:19:29.429294",
          "status": "completed"
        },
        "tags": [],
        "id": "dabc7b3a",
        "outputId": "5edd2702-d4cc-4142-e91b-db4c6c065918"
      },
      "outputs": [
        {
          "name": "stdout",
          "output_type": "stream",
          "text": [
            "              1         2         3         4         5         6  \\\n",
            "count  274093.0  274093.0  274093.0  274093.0  274093.0  274093.0   \n",
            "mean        0.0       0.0       0.0       0.0       0.0       0.0   \n",
            "std         0.0       0.0       0.0       0.0       0.0       0.0   \n",
            "min         0.0       0.0       0.0       0.0       0.0       0.0   \n",
            "25%         0.0       0.0       0.0       0.0       0.0       0.0   \n",
            "50%         0.0       0.0       0.0       0.0       0.0       0.0   \n",
            "75%         0.0       0.0       0.0       0.0       0.0       0.0   \n",
            "max         0.0       0.0       0.0       0.0       0.0       0.0   \n",
            "\n",
            "                   7              8              9             10  ...  \\\n",
            "count  274093.000000  274093.000000  274093.000000  274093.000000  ...   \n",
            "mean        0.000004       0.000011       0.001043       0.001518  ...   \n",
            "std         0.001910       0.004271       0.475743       0.494410  ...   \n",
            "min         0.000000       0.000000       0.000000       0.000000  ...   \n",
            "25%         0.000000       0.000000       0.000000       0.000000  ...   \n",
            "50%         0.000000       0.000000       0.000000       0.000000  ...   \n",
            "75%         0.000000       0.000000       0.000000       0.000000  ...   \n",
            "max         1.000000       2.000000     248.000000     245.000000  ...   \n",
            "\n",
            "                 775            776            777            778  \\\n",
            "count  274093.000000  274093.000000  274093.000000  274093.000000   \n",
            "mean        0.002638       0.001562       0.001131       0.000894   \n",
            "std         0.320080       0.179093       0.150590       0.189578   \n",
            "min         0.000000       0.000000       0.000000       0.000000   \n",
            "25%         0.000000       0.000000       0.000000       0.000000   \n",
            "50%         0.000000       0.000000       0.000000       0.000000   \n",
            "75%         0.000000       0.000000       0.000000       0.000000   \n",
            "max       103.000000      59.000000      41.000000      88.000000   \n",
            "\n",
            "                 779            780            781            782  \\\n",
            "count  274093.000000  274093.000000  274093.000000  274093.000000   \n",
            "mean        0.000489       0.000317       0.000204       0.000033   \n",
            "std         0.083345       0.067396       0.053345       0.012813   \n",
            "min         0.000000       0.000000       0.000000       0.000000   \n",
            "25%         0.000000       0.000000       0.000000       0.000000   \n",
            "50%         0.000000       0.000000       0.000000       0.000000   \n",
            "75%         0.000000       0.000000       0.000000       0.000000   \n",
            "max        21.000000      20.000000      19.000000       6.000000   \n",
            "\n",
            "                 783       784  \n",
            "count  274093.000000  274093.0  \n",
            "mean        0.000033       0.0  \n",
            "std         0.012813       0.0  \n",
            "min         0.000000       0.0  \n",
            "25%         0.000000       0.0  \n",
            "50%         0.000000       0.0  \n",
            "75%         0.000000       0.0  \n",
            "max         6.000000       0.0  \n",
            "\n",
            "[8 rows x 784 columns]\n"
          ]
        }
      ],
      "source": [
        "# Data Statistics\n",
        "data_stats = df.describe()\n",
        "print(data_stats)"
      ]
    },
    {
      "cell_type": "markdown",
      "id": "b0393f9e",
      "metadata": {
        "papermill": {
          "duration": 0.011887,
          "end_time": "2024-04-10T01:19:36.402110",
          "exception": false,
          "start_time": "2024-04-10T01:19:36.390223",
          "status": "completed"
        },
        "tags": [],
        "id": "b0393f9e"
      },
      "source": []
    },
    {
      "cell_type": "markdown",
      "id": "a56068cc",
      "metadata": {
        "papermill": {
          "duration": 0.012254,
          "end_time": "2024-04-10T01:19:36.426626",
          "exception": false,
          "start_time": "2024-04-10T01:19:36.414372",
          "status": "completed"
        },
        "tags": [],
        "id": "a56068cc"
      },
      "source": [
        "# Data Processing"
      ]
    },
    {
      "cell_type": "markdown",
      "id": "989c1444",
      "metadata": {
        "papermill": {
          "duration": 0.012343,
          "end_time": "2024-04-10T01:19:36.451308",
          "exception": false,
          "start_time": "2024-04-10T01:19:36.438965",
          "status": "completed"
        },
        "tags": [],
        "id": "989c1444"
      },
      "source": [
        "**Label Encoding:**\n",
        "\n",
        "Unique characters (labels) are mapped to integers using a dictionary.\n",
        "This mapping allows the model to work with the labels during training and prediction.\n",
        "\n",
        "\n",
        "**Data Splitting:**\n",
        "\n",
        "The dataset is split into training and testing sets (80% training, 20% testing).\n",
        "This allows us to evaluate the model's performance on unseen data.\n",
        "\n",
        "\n",
        "**One-Hot Encoding:**\n",
        "\n",
        "Labels are converted to one-hot encoded vectors.\n",
        "Each vector represents a single character, enabling multi-class classification.\n",
        "\n",
        "\n",
        "**Input Data Normalization:**\n",
        "\n",
        "Pixel values in the input images are normalized to a range of 0 to 1.\n",
        "Normalization helps in reducing the effect of varying pixel intensities."
      ]
    },
    {
      "cell_type": "code",
      "execution_count": null,
      "id": "4e321a25",
      "metadata": {
        "execution": {
          "iopub.execute_input": "2024-04-10T01:19:36.477891Z",
          "iopub.status.busy": "2024-04-10T01:19:36.477507Z",
          "iopub.status.idle": "2024-04-10T01:19:39.099581Z",
          "shell.execute_reply": "2024-04-10T01:19:39.098578Z"
        },
        "id": "4e321a25",
        "papermill": {
          "duration": 2.638265,
          "end_time": "2024-04-10T01:19:39.101981",
          "exception": false,
          "start_time": "2024-04-10T01:19:36.463716",
          "status": "completed"
        },
        "tags": []
      },
      "outputs": [],
      "source": [
        "chars = sorted(list(df['labels'].unique()))\n",
        "vocab_size = len(chars)\n",
        "\n",
        "itos = {i: ch for i, ch in enumerate(chars)} #index to string\n",
        "stoi = {ch: i for i, ch in enumerate(chars)} #string to index\n",
        "\n",
        "y_upd = np.array([stoi[ch] for ch in y])\n",
        "\n",
        "# Split the data\n",
        "X_train, X_test, y_train, y_test = train_test_split(X, y_upd, test_size=0.2, random_state=1337)\n",
        "\n",
        "# Convert labels to one-hot encoding\n",
        "y_train_one_hot = to_categorical(y_train, num_classes=vocab_size)\n",
        "y_test_one_hot = to_categorical(y_test, num_classes=vocab_size)\n",
        "\n"
      ]
    },
    {
      "cell_type": "markdown",
      "id": "53d18022",
      "metadata": {
        "papermill": {
          "duration": 0.012249,
          "end_time": "2024-04-10T01:19:39.126880",
          "exception": false,
          "start_time": "2024-04-10T01:19:39.114631",
          "status": "completed"
        },
        "tags": [],
        "id": "53d18022"
      },
      "source": [
        "I performed these steps to prepare the labels for training my neural network model. Neural networks require input data, including the labels, in numerical format. First, I sorted the unique characters in the labels and calculated the vocabulary size. Then, I created two dictionaries, `itos` and `stoi`, to map characters to indices and vice versa. Next, I converted the original labels into numerical indices using the `stoi` dictionary. Finally, I converted these numerical indices into one-hot encoded vectors. This encoding allows the model to output a probability distribution over the possible classes, making it suitable for multi-class classification tasks like mine."
      ]
    },
    {
      "cell_type": "markdown",
      "id": "ee1eb615",
      "metadata": {
        "papermill": {
          "duration": 0.01244,
          "end_time": "2024-04-10T01:19:39.151965",
          "exception": false,
          "start_time": "2024-04-10T01:19:39.139525",
          "status": "completed"
        },
        "tags": [],
        "id": "ee1eb615"
      },
      "source": [
        "# Implementing the model (CNN)"
      ]
    },
    {
      "cell_type": "markdown",
      "id": "edb46b93",
      "metadata": {
        "papermill": {
          "duration": 0.012505,
          "end_time": "2024-04-10T01:19:39.177218",
          "exception": false,
          "start_time": "2024-04-10T01:19:39.164713",
          "status": "completed"
        },
        "tags": [],
        "id": "edb46b93"
      },
      "source": [
        "**Model Architecture**\n",
        "\n",
        "The CNN model consists of:\n",
        "Two convolutional layers with ReLU activation.\n",
        "Max pooling layers for downsampling.\n",
        "Flatten layer to convert 2D feature maps into a 1D vector.\n",
        "Dense layer with ReLU activation.\n",
        "Output layer with softmax activation (to output probabilities for each character).\n",
        "\n",
        "\n",
        "**Training and Evaluation**\n",
        "\n",
        "The model is trained using the training set and evaluated using the testing set.\n",
        "During training, the model learns to associate patterns in the input images with their corresponding labels.\n",
        "The test accuracy is calculated to assess the model's performance on unseen data."
      ]
    },
    {
      "cell_type": "code",
      "execution_count": null,
      "id": "39250985",
      "metadata": {
        "execution": {
          "iopub.execute_input": "2024-04-10T01:19:39.204196Z",
          "iopub.status.busy": "2024-04-10T01:19:39.203816Z",
          "iopub.status.idle": "2024-04-10T01:20:44.592437Z",
          "shell.execute_reply": "2024-04-10T01:20:44.591340Z"
        },
        "papermill": {
          "duration": 65.404812,
          "end_time": "2024-04-10T01:20:44.594716",
          "exception": false,
          "start_time": "2024-04-10T01:19:39.189904",
          "status": "completed"
        },
        "tags": [],
        "id": "39250985",
        "outputId": "40d42ba9-c5c4-491c-970f-2a6e70c8cd89"
      },
      "outputs": [
        {
          "name": "stderr",
          "output_type": "stream",
          "text": [
            "/opt/conda/lib/python3.10/site-packages/keras/src/layers/convolutional/base_conv.py:99: UserWarning: Do not pass an `input_shape`/`input_dim` argument to a layer. When using Sequential models, prefer using an `Input(shape)` object as the first layer in the model instead.\n",
            "  super().__init__(\n"
          ]
        },
        {
          "name": "stdout",
          "output_type": "stream",
          "text": [
            "Epoch 1/5\n",
            "\u001b[1m  31/1714\u001b[0m \u001b[37m━━━━━━━━━━━━━━━━━━━━\u001b[0m \u001b[1m8s\u001b[0m 5ms/step - accuracy: 0.2220 - loss: 3.7749"
          ]
        },
        {
          "name": "stderr",
          "output_type": "stream",
          "text": [
            "WARNING: All log messages before absl::InitializeLog() is called are written to STDERR\n",
            "I0000 00:00:1712711987.576239      77 device_compiler.h:186] Compiled cluster using XLA!  This line is logged at most once for the lifetime of the process.\n",
            "W0000 00:00:1712711987.594017      77 graph_launch.cc:671] Fallback to op-by-op mode because memset node breaks graph update\n"
          ]
        },
        {
          "name": "stdout",
          "output_type": "stream",
          "text": [
            "\u001b[1m1714/1714\u001b[0m \u001b[32m━━━━━━━━━━━━━━━━━━━━\u001b[0m\u001b[37m\u001b[0m \u001b[1m0s\u001b[0m 6ms/step - accuracy: 0.8057 - loss: 1.0654"
          ]
        },
        {
          "name": "stderr",
          "output_type": "stream",
          "text": [
            "W0000 00:00:1712711997.996021      77 graph_launch.cc:671] Fallback to op-by-op mode because memset node breaks graph update\n",
            "W0000 00:00:1712711999.098789      78 graph_launch.cc:671] Fallback to op-by-op mode because memset node breaks graph update\n"
          ]
        },
        {
          "name": "stdout",
          "output_type": "stream",
          "text": [
            "\u001b[1m1714/1714\u001b[0m \u001b[32m━━━━━━━━━━━━━━━━━━━━\u001b[0m\u001b[37m\u001b[0m \u001b[1m19s\u001b[0m 8ms/step - accuracy: 0.8057 - loss: 1.0651 - val_accuracy: 0.9222 - val_loss: 0.2791\n",
            "Epoch 2/5\n",
            "\u001b[1m  31/1714\u001b[0m \u001b[37m━━━━━━━━━━━━━━━━━━━━\u001b[0m \u001b[1m8s\u001b[0m 5ms/step - accuracy: 0.9289 - loss: 0.2431"
          ]
        },
        {
          "name": "stderr",
          "output_type": "stream",
          "text": [
            "W0000 00:00:1712712000.763537      75 graph_launch.cc:671] Fallback to op-by-op mode because memset node breaks graph update\n"
          ]
        },
        {
          "name": "stdout",
          "output_type": "stream",
          "text": [
            "\u001b[1m1714/1714\u001b[0m \u001b[32m━━━━━━━━━━━━━━━━━━━━\u001b[0m\u001b[37m\u001b[0m \u001b[1m10s\u001b[0m 6ms/step - accuracy: 0.9323 - loss: 0.2321 - val_accuracy: 0.9233 - val_loss: 0.2439\n",
            "Epoch 3/5\n",
            "\u001b[1m1714/1714\u001b[0m \u001b[32m━━━━━━━━━━━━━━━━━━━━\u001b[0m\u001b[37m\u001b[0m \u001b[1m10s\u001b[0m 6ms/step - accuracy: 0.9479 - loss: 0.1676 - val_accuracy: 0.9343 - val_loss: 0.2116\n",
            "Epoch 4/5\n",
            "\u001b[1m1714/1714\u001b[0m \u001b[32m━━━━━━━━━━━━━━━━━━━━\u001b[0m\u001b[37m\u001b[0m \u001b[1m10s\u001b[0m 6ms/step - accuracy: 0.9576 - loss: 0.1331 - val_accuracy: 0.9379 - val_loss: 0.2026\n",
            "Epoch 5/5\n",
            "\u001b[1m1714/1714\u001b[0m \u001b[32m━━━━━━━━━━━━━━━━━━━━\u001b[0m\u001b[37m\u001b[0m \u001b[1m10s\u001b[0m 6ms/step - accuracy: 0.9631 - loss: 0.1105 - val_accuracy: 0.9389 - val_loss: 0.2045\n",
            "\u001b[1m1714/1714\u001b[0m \u001b[32m━━━━━━━━━━━━━━━━━━━━\u001b[0m\u001b[37m\u001b[0m \u001b[1m4s\u001b[0m 2ms/step - accuracy: 0.9391 - loss: 0.2077\n",
            "Test accuracy: 93.89%\n"
          ]
        }
      ],
      "source": [
        "# Define the model\n",
        "model = Sequential([\n",
        "    Conv2D(32, kernel_size=(3, 3), activation='relu', input_shape=(28, 28, 1)),\n",
        "    Conv2D(64, (3, 3), activation='relu'),\n",
        "    MaxPooling2D(pool_size=(2, 2)),\n",
        "    Flatten(),\n",
        "    Dense(128),\n",
        "    BatchNormalization(),\n",
        "    ReLU(),\n",
        "    Dense(vocab_size, activation='softmax')\n",
        "])\n",
        "\n",
        "# Compile the model\n",
        "model.compile(optimizer=Adam(learning_rate=3e-4),\n",
        "              loss='categorical_crossentropy',\n",
        "              metrics=['accuracy'])\n",
        "\n",
        "# Train the model\n",
        "history = model.fit(X_train, y_train_one_hot, batch_size=128, epochs=5, validation_data=(X_test, y_test_one_hot))\n",
        "\n",
        "# Evaluate the model\n",
        "test_loss, test_accuracy = model.evaluate(X_test, y_test_one_hot)\n",
        "print(f\"Test accuracy: {test_accuracy * 100:.2f}%\")\n"
      ]
    },
    {
      "cell_type": "markdown",
      "id": "c4c0b8c4",
      "metadata": {
        "papermill": {
          "duration": 0.082365,
          "end_time": "2024-04-10T01:20:44.760809",
          "exception": false,
          "start_time": "2024-04-10T01:20:44.678444",
          "status": "completed"
        },
        "tags": [],
        "id": "c4c0b8c4"
      },
      "source": [
        " **Observation**\n",
        "\n",
        "From the training logs, we can observe the training progress of the neural network model over 5 epochs. Initially, the model starts with low accuracy (around 10%) and high loss (4.2390). This is expected in the early stages of training when the model weights are random.\n",
        "\n",
        "As the training progresses, both accuracy and loss improve significantly. By the end of the 5th epoch, the model achieves an accuracy of 96.36% on the training set and a loss of 0.1106. This indicates that the model has learned to correctly classify a large portion of the training data.\n",
        "\n",
        "The validation accuracy and loss are also monitored during training to ensure the model generalizes well to unseen data. The validation accuracy increases from 91.85% in the first epoch to 93.95% in the fifth epoch, indicating that the model is not overfitting to the training data.\n",
        "\n",
        "Overall, the model shows steady improvement in performance over the training epochs, achieving a test accuracy of 93.95%, which suggests that the model is effective in recognizing characters in the dataset."
      ]
    },
    {
      "cell_type": "markdown",
      "id": "15a8e2e2",
      "metadata": {
        "papermill": {
          "duration": 0.084074,
          "end_time": "2024-04-10T01:20:44.974445",
          "exception": false,
          "start_time": "2024-04-10T01:20:44.890371",
          "status": "completed"
        },
        "tags": [],
        "id": "15a8e2e2"
      },
      "source": [
        "Convolutional Neural Networks (CNNs) are a class of deep neural networks that are particularly effective for image recognition tasks. They work by learning spatial hierarchies of features from input images.\n",
        "\n",
        "In a CNN, each layer consists of a set of learnable filters (or kernels). These filters are convolved with the input image to produce feature maps, which highlight important regions and patterns in the input. The filters capture different aspects of the input, such as edges, textures, or more complex shapes, as they are applied across the entire image. This allows the network to learn hierarchical representations of increasing complexity, starting from simple features in the early layers to more abstract features in the deeper layers.\n",
        "\n",
        "ReLU (Rectified Linear Unit) is an activation function that introduces non-linearity to the CNN. It replaces all negative pixel values in the feature maps with zero, while leaving positive values unchanged. This simple operation has several benefits:\n",
        "- **Non-linearity:** ReLU introduces non-linearities to the model, allowing it to learn complex patterns and relationships in the data.\n",
        "- **Efficiency:** ReLU is computationally efficient compared to other activation functions like sigmoid or tanh, as it involves simple thresholding operations.\n",
        "- **Sparse Activation:** ReLU leads to sparse activations in the network, which can help prevent overfitting by encouraging the network to learn more robust and generalizable features.\n",
        "\n",
        "In my model, the CNN architecture, combined with ReLU activation functions, enables the network to effectively learn and extract features from the input character images. The convolutional layers learn to detect important patterns and structures in the characters, while the ReLU activation functions introduce non-linearities, allowing the model to capture complex relationships between these features. Overall, this helps my model achieve high accuracy in recognizing characters from the input images."
      ]
    },
    {
      "cell_type": "markdown",
      "id": "81972fe4",
      "metadata": {
        "papermill": {
          "duration": 0.084527,
          "end_time": "2024-04-10T01:20:45.143676",
          "exception": false,
          "start_time": "2024-04-10T01:20:45.059149",
          "status": "completed"
        },
        "tags": [],
        "id": "81972fe4"
      },
      "source": [
        "![image.png](attachment:440978e0-d06e-483c-9643-57e35f2de26b.png)![image.png](attachment:0bf95c27-00ad-41b6-a291-bf0f04cb61f4.png)"
      ]
    },
    {
      "cell_type": "markdown",
      "id": "93ebfabe",
      "metadata": {
        "papermill": {
          "duration": 0.087628,
          "end_time": "2024-04-10T01:20:45.314862",
          "exception": false,
          "start_time": "2024-04-10T01:20:45.227234",
          "status": "completed"
        },
        "tags": [],
        "id": "93ebfabe"
      },
      "source": [
        "In a Convolutional Neural Network (CNN), each layer applies a set of filters to the input image to produce a set of feature maps. Let's break down the math behind this process:\n",
        "\n",
        "1. **Convolution Operation:**\n",
        "   - Given an input image \\(I\\) and a filter \\(K\\) (also called a kernel), the convolution operation is performed by sliding the filter over the input image and computing the dot product between the filter and the corresponding region of the image.\n",
        "   - The result of this operation is a single value in the output feature map, which represents the degree of similarity between the filter and that region of the image.\n",
        "   - Mathematically, the convolution operation at position \\((i, j)\\) in the feature map \\(F\\) is given by:\n",
        "     \\[\n",
        "     F(i, j) = \\sum_{m}\\sum_{n} I(i+m, j+n) \\cdot K(m, n)\n",
        "     \\]\n",
        "     where \\(m\\) and \\(n\\) are the indices of the filter \\(K\\).\n",
        "\n",
        "2. **ReLU Activation Function:**\n",
        "   - After each convolution operation, a Rectified Linear Unit (ReLU) activation function is applied element-wise to the feature map.\n",
        "   - ReLU function is defined as \\(f(x) = \\max(0, x)\\), which means it replaces all negative values in the feature map with zero, leaving positive values unchanged.\n",
        "\n",
        "3. **Pooling Operation:**\n",
        "   - Pooling layers (e.g., MaxPooling) are often used to downsample the feature maps and reduce the spatial dimensions while retaining important information.\n",
        "   - MaxPooling, for example, selects the maximum value from a region of the feature map, effectively reducing its size.\n",
        "   - The pooling operation helps in reducing the number of parameters and computation in the network, as well as providing a degree of translation invariance.\n",
        "\n",
        "4. **Fully Connected Layers:**\n",
        "   - After several convolutional and pooling layers, the output is flattened into a vector and passed through one or more fully connected layers.\n",
        "   - These layers perform a linear transformation on the input, followed by an activation function (often ReLU), to produce the final output.\n",
        "\n",
        "In summary, the math behind a CNN involves convolving filters over the input image, applying ReLU activation, and optionally applying pooling to downsample the features. This process is repeated through multiple layers, allowing the network to learn hierarchical representations of the input data."
      ]
    },
    {
      "cell_type": "markdown",
      "id": "fb3c7bbf",
      "metadata": {
        "papermill": {
          "duration": 0.085242,
          "end_time": "2024-04-10T01:20:45.487834",
          "exception": false,
          "start_time": "2024-04-10T01:20:45.402592",
          "status": "completed"
        },
        "tags": [],
        "id": "fb3c7bbf"
      },
      "source": [
        "# Visualizing the Accuracy and Loss"
      ]
    },
    {
      "cell_type": "code",
      "execution_count": null,
      "id": "eb2d3468",
      "metadata": {
        "execution": {
          "iopub.execute_input": "2024-04-10T01:20:45.666089Z",
          "iopub.status.busy": "2024-04-10T01:20:45.665706Z",
          "iopub.status.idle": "2024-04-10T01:20:46.301206Z",
          "shell.execute_reply": "2024-04-10T01:20:46.300170Z"
        },
        "papermill": {
          "duration": 0.730159,
          "end_time": "2024-04-10T01:20:46.304781",
          "exception": false,
          "start_time": "2024-04-10T01:20:45.574622",
          "status": "completed"
        },
        "tags": [],
        "id": "eb2d3468",
        "outputId": "fafd3547-4392-4ad8-fecf-53511f7f89a8"
      },
      "outputs": [
        {
          "data": {
            "image/png": "[encoded data removed]",
            "text/plain": [
              "<Figure size 2000x700 with 2 Axes>"
            ]
          },
          "metadata": {},
          "output_type": "display_data"
        }
      ],
      "source": [
        "import matplotlib.pyplot as plt\n",
        "\n",
        "# Function for Plotting\n",
        "def Plott(data):\n",
        "    fig, ax = plt.subplots(1, 2, figsize=(20, 7))\n",
        "    # summarize history for accuracy\n",
        "    ax[0].plot(data.history['accuracy'])\n",
        "    ax[0].plot(data.history['val_accuracy'])\n",
        "    ax[0].set_title('model accuracy')\n",
        "    ax[0].legend(['train', 'test'], loc='upper left')\n",
        "\n",
        "    # summarize history for loss\n",
        "    ax[1].plot(data.history['loss'], label=['loss'])\n",
        "    ax[1].plot(data.history['val_loss'], label=['val_loss'])\n",
        "    ax[1].set_title('model loss')\n",
        "    ax[1].legend(['train', 'test'], loc='upper left')\n",
        "    plt.show()\n",
        "\n",
        "Plott(history)\n"
      ]
    },
    {
      "cell_type": "markdown",
      "id": "bb3d0892",
      "metadata": {
        "papermill": {
          "duration": 0.092285,
          "end_time": "2024-04-10T01:20:46.502434",
          "exception": false,
          "start_time": "2024-04-10T01:20:46.410149",
          "status": "completed"
        },
        "tags": [],
        "id": "bb3d0892"
      },
      "source": [
        "# AutoML"
      ]
    },
    {
      "cell_type": "markdown",
      "id": "51efc487",
      "metadata": {
        "papermill": {
          "duration": 0.089938,
          "end_time": "2024-04-10T01:20:46.683337",
          "exception": false,
          "start_time": "2024-04-10T01:20:46.593399",
          "status": "completed"
        },
        "tags": [],
        "id": "51efc487"
      },
      "source": [
        "In this section, I utilized H2O's AutoML functionality to streamline the process of model selection and evaluation for a classification task. By initializing an H2O cluster, converting the dataset into an H2OFrame, and splitting it into training and testing sets, I prepared the data for AutoML. The AutoML process then automatically trained and evaluated a variety of machine learning models, including neural networks, on the training data, and selected the best-performing model based on predefined metrics. This approach saves time and effort by automating the model selection process and providing insights into the performance of different models. Additionally, using AutoML with neural networks allows for the exploration of complex patterns in the data, leveraging the deep learning capabilities of neural networks to potentially improve classification accuracy compared to traditional machine learning models."
      ]
    },
    {
      "cell_type": "code",
      "execution_count": null,
      "id": "f7e42058",
      "metadata": {
        "execution": {
          "iopub.execute_input": "2024-04-10T01:20:46.858390Z",
          "iopub.status.busy": "2024-04-10T01:20:46.857973Z",
          "iopub.status.idle": "2024-04-10T01:24:34.749786Z",
          "shell.execute_reply": "2024-04-10T01:24:34.748567Z"
        },
        "id": "f7e42058",
        "papermill": {
          "duration": 227.98451,
          "end_time": "2024-04-10T01:24:34.752870",
          "exception": false,
          "start_time": "2024-04-10T01:20:46.768360",
          "status": "completed"
        },
        "tags": [],
        "outputId": "ce50966e-25c4-4593-ebb3-5f03b8f4d6dc"
      },
      "outputs": [
        {
          "name": "stdout",
          "output_type": "stream",
          "text": [
            "Checking whether there is an H2O instance running at http://localhost:54321..... not found.\n",
            "Attempting to start a local H2O server...\n",
            "  Java Version: openjdk version \"11.0.22\" 2024-01-16; OpenJDK Runtime Environment (build 11.0.22+7-post-Ubuntu-0ubuntu220.04.1); OpenJDK 64-Bit Server VM (build 11.0.22+7-post-Ubuntu-0ubuntu220.04.1, mixed mode, sharing)\n",
            "  Starting server from /opt/conda/lib/python3.10/site-packages/h2o/backend/bin/h2o.jar\n",
            "  Ice root: /tmp/tmprj_qp3lu\n",
            "  JVM stdout: /tmp/tmprj_qp3lu/h2o_unknownUser_started_from_python.out\n",
            "  JVM stderr: /tmp/tmprj_qp3lu/h2o_unknownUser_started_from_python.err\n",
            "  Server is running at http://127.0.0.1:54321\n",
            "Connecting to H2O server at http://127.0.0.1:54321 ... successful.\n"
          ]
        },
        {
          "data": {
            "text/html": [
              "\n",
              "<style>\n",
              "\n",
              "#h2o-table-1.h2o-container {\n",
              "  overflow-x: auto;\n",
              "}\n",
              "#h2o-table-1 .h2o-table {\n",
              "  /* width: 100%; */\n",
              "  margin-top: 1em;\n",
              "  margin-bottom: 1em;\n",
              "}\n",
              "#h2o-table-1 .h2o-table caption {\n",
              "  white-space: nowrap;\n",
              "  caption-side: top;\n",
              "  text-align: left;\n",
              "  /* margin-left: 1em; */\n",
              "  margin: 0;\n",
              "  font-size: larger;\n",
              "}\n",
              "#h2o-table-1 .h2o-table thead {\n",
              "  white-space: nowrap; \n",
              "  position: sticky;\n",
              "  top: 0;\n",
              "  box-shadow: 0 -1px inset;\n",
              "}\n",
              "#h2o-table-1 .h2o-table tbody {\n",
              "  overflow: auto;\n",
              "}\n",
              "#h2o-table-1 .h2o-table th,\n",
              "#h2o-table-1 .h2o-table td {\n",
              "  text-align: right;\n",
              "  /* border: 1px solid; */\n",
              "}\n",
              "#h2o-table-1 .h2o-table tr:nth-child(even) {\n",
              "  /* background: #F5F5F5 */\n",
              "}\n",
              "\n",
              "</style>      \n",
              "<div id=\"h2o-table-1\" class=\"h2o-container\">\n",
              "  <table class=\"h2o-table\">\n",
              "    <caption></caption>\n",
              "    <thead></thead>\n",
              "    <tbody><tr><td>H2O_cluster_uptime:</td>\n",
              "<td>03 secs</td></tr>\n",
              "<tr><td>H2O_cluster_timezone:</td>\n",
              "<td>Etc/UTC</td></tr>\n",
              "<tr><td>H2O_data_parsing_timezone:</td>\n",
              "<td>UTC</td></tr>\n",
              "<tr><td>H2O_cluster_version:</td>\n",
              "<td>3.46.0.1</td></tr>\n",
              "<tr><td>H2O_cluster_version_age:</td>\n",
              "<td>27 days</td></tr>\n",
              "<tr><td>H2O_cluster_name:</td>\n",
              "<td>H2O_from_python_unknownUser_wiho32</td></tr>\n",
              "<tr><td>H2O_cluster_total_nodes:</td>\n",
              "<td>1</td></tr>\n",
              "<tr><td>H2O_cluster_free_memory:</td>\n",
              "<td>7.250 Gb</td></tr>\n",
              "<tr><td>H2O_cluster_total_cores:</td>\n",
              "<td>4</td></tr>\n",
              "<tr><td>H2O_cluster_allowed_cores:</td>\n",
              "<td>4</td></tr>\n",
              "<tr><td>H2O_cluster_status:</td>\n",
              "<td>locked, healthy</td></tr>\n",
              "<tr><td>H2O_connection_url:</td>\n",
              "<td>http://127.0.0.1:54321</td></tr>\n",
              "<tr><td>H2O_connection_proxy:</td>\n",
              "<td>{\"http\": null, \"https\": null}</td></tr>\n",
              "<tr><td>H2O_internal_security:</td>\n",
              "<td>False</td></tr>\n",
              "<tr><td>Python_version:</td>\n",
              "<td>3.10.13 final</td></tr></tbody>\n",
              "  </table>\n",
              "</div>\n"
            ],
            "text/plain": [
              "--------------------------  ----------------------------------\n",
              "H2O_cluster_uptime:         03 secs\n",
              "H2O_cluster_timezone:       Etc/UTC\n",
              "H2O_data_parsing_timezone:  UTC\n",
              "H2O_cluster_version:        3.46.0.1\n",
              "H2O_cluster_version_age:    27 days\n",
              "H2O_cluster_name:           H2O_from_python_unknownUser_wiho32\n",
              "H2O_cluster_total_nodes:    1\n",
              "H2O_cluster_free_memory:    7.250 Gb\n",
              "H2O_cluster_total_cores:    4\n",
              "H2O_cluster_allowed_cores:  4\n",
              "H2O_cluster_status:         locked, healthy\n",
              "H2O_connection_url:         http://127.0.0.1:54321\n",
              "H2O_connection_proxy:       {\"http\": null, \"https\": null}\n",
              "H2O_internal_security:      False\n",
              "Python_version:             3.10.13 final\n",
              "--------------------------  ----------------------------------"
            ]
          },
          "metadata": {},
          "output_type": "display_data"
        },
        {
          "name": "stdout",
          "output_type": "stream",
          "text": [
            "Parse progress: |████████████████████████████████████████████████████████████████| (done) 100%\n"
          ]
        }
      ],
      "source": [
        "import h2o\n",
        "from h2o.automl import H2OAutoML\n",
        "\n",
        "# Initialize H2O cluster\n",
        "h2o.init()\n",
        "\n",
        "# Convert Pandas DataFrame to H2OFrame\n",
        "h2o_df = h2o.H2OFrame(df)\n",
        "\n",
        "# Define the target column as categorical\n",
        "h2o_df['labels'] = h2o_df['labels'].asfactor()\n",
        "\n",
        "# Split the data\n",
        "train, test = h2o_df.split_frame(ratios=[0.8], seed=1337)\n",
        "\n",
        "# Define predictor columns\n",
        "predictors = h2o_df.columns[:-1]"
      ]
    },
    {
      "cell_type": "code",
      "execution_count": null,
      "id": "ba0d6782",
      "metadata": {
        "execution": {
          "iopub.execute_input": "2024-04-10T01:24:34.960938Z",
          "iopub.status.busy": "2024-04-10T01:24:34.960166Z",
          "iopub.status.idle": "2024-04-10T01:54:50.294568Z",
          "shell.execute_reply": "2024-04-10T01:54:50.293362Z"
        },
        "id": "ba0d6782",
        "papermill": {
          "duration": 1815.433416,
          "end_time": "2024-04-10T01:54:50.297107",
          "exception": false,
          "start_time": "2024-04-10T01:24:34.863691",
          "status": "completed"
        },
        "tags": [],
        "outputId": "06fcea92-6f32-4150-b208-59b3338b6f4b"
      },
      "outputs": [
        {
          "name": "stdout",
          "output_type": "stream",
          "text": [
            "AutoML progress: |\n",
            "01:24:42.556: _train param, Dropping bad and constant columns: [24, 25, 26, 27, 28, 29, 673, 113, 477, 755, 756, 757, 758, 617, 30, 55, 56, 57, 58, 141, 1, 782, 2, 783, 3, 4, 5, 6, 7, 645, 700, 8, 701, 449, 505, 83, 84, 85, 728, 86, 729]\n",
            "\n",
            "███████████████████████████████████████████████████████████████| (done) 100%\n",
            "model_id                                               mean_per_class_error    logloss      rmse       mse\n",
            "DeepLearning_grid_1_AutoML_1_20240410_12435_model_1                0.186491    1.13317  0.421122  0.177344\n",
            "DeepLearning_grid_1_AutoML_1_20240410_12435_model_4                0.209104    1.71004  0.432867  0.187373\n",
            "DeepLearning_grid_1_AutoML_1_20240410_12435_model_3                0.232473    1.57463  0.46625   0.217389\n",
            "DeepLearning_1_AutoML_1_20240410_12435                             0.277085    1.16133  0.528457  0.279267\n",
            "DeepLearning_grid_1_AutoML_1_20240410_12435_model_2                0.688529    4.64329  0.826436  0.682996\n",
            "[5 rows x 5 columns]\n",
            "\n"
          ]
        }
      ],
      "source": [
        "# Run AutoML with increased max_runtime_secs\n",
        "aml = H2OAutoML(max_runtime_secs=1800, exclude_algos=[\"DRF\", \"GLM\", \"XGBoost\", \"GBM\", \"StackedEnsemble\"])\n",
        "aml.train(x=predictors, y='labels', training_frame=train)\n",
        "\n",
        "# View the AutoML leaderboard\n",
        "lb = aml.leaderboard\n",
        "print(lb)"
      ]
    },
    {
      "cell_type": "code",
      "execution_count": null,
      "id": "49c0957f",
      "metadata": {
        "execution": {
          "iopub.execute_input": "2024-04-10T01:54:50.506193Z",
          "iopub.status.busy": "2024-04-10T01:54:50.505081Z",
          "iopub.status.idle": "2024-04-10T01:55:03.993953Z",
          "shell.execute_reply": "2024-04-10T01:55:03.992906Z"
        },
        "id": "49c0957f",
        "papermill": {
          "duration": 13.592125,
          "end_time": "2024-04-10T01:55:03.997206",
          "exception": false,
          "start_time": "2024-04-10T01:54:50.405081",
          "status": "completed"
        },
        "tags": [],
        "outputId": "f4669ffd-60ee-4b22-9a6b-8e90c6bc393e"
      },
      "outputs": [
        {
          "name": "stdout",
          "output_type": "stream",
          "text": [
            "ModelMetricsMultinomial: deeplearning\n",
            "** Reported on test data. **\n",
            "\n",
            "MSE: 0.17775867665209907\n",
            "RMSE: 0.421614369598688\n",
            "LogLoss: 1.1171894765455879\n",
            "Mean Per-Class Error: 0.18849614493044903\n",
            "AUC table was not computed: it is either disabled (model parameter 'auc_type' was set to AUTO or NONE) or the domain size exceeds the limit (maximum is 50 domains).\n",
            "AUCPR table was not computed: it is either disabled (model parameter 'auc_type' was set to AUTO or NONE) or the domain size exceeds the limit (maximum is 50 domains).\n",
            "\n",
            "Confusion Matrix: Row labels: Actual class; Column labels: Predicted class\n",
            "!      \"      #      $      %      &      '      (      )      *      +      ,      -      .      /      0      1      2      3      4      5      6      7      8      9      :      ;      <      =      >      ?      @      A      B      C      D      E      F      G      H      I      J      K      L      M      N      O      P      Q      R      S      T      U      V      W      X      Y      Z      [      \\      ]      ^      _      `      a      b      c      d      e      f      g      h      i      j      k      l      m      n      o      p      q      r      s      t      u      v      w      x      y      z      {      |      }      ~      Error                Rate\n",
            "-----  -----  -----  -----  -----  -----  -----  -----  -----  -----  -----  -----  -----  -----  -----  -----  -----  -----  -----  -----  -----  -----  -----  -----  -----  -----  -----  -----  -----  -----  -----  -----  -----  -----  -----  -----  -----  -----  -----  -----  -----  -----  -----  -----  -----  -----  -----  -----  -----  -----  -----  -----  -----  -----  -----  -----  -----  -----  -----  -----  -----  -----  -----  -----  -----  -----  -----  -----  -----  -----  -----  -----  -----  -----  -----  -----  -----  -----  -----  -----  -----  -----  -----  -----  -----  -----  -----  -----  -----  -----  -----  -----  -----  -----  -------------------  ---------------\n",
            "556.0  0.0    0.0    0.0    0.0    0.0    2.0    1.0    0.0    0.0    0.0    0.0    0.0    0.0    6.0    1.0    0.0    0.0    0.0    0.0    0.0    0.0    0.0    0.0    0.0    0.0    0.0    0.0    0.0    0.0    0.0    0.0    0.0    0.0    0.0    0.0    0.0    0.0    0.0    0.0    0.0    0.0    0.0    1.0    0.0    0.0    0.0    0.0    0.0    0.0    0.0    0.0    0.0    0.0    1.0    0.0    0.0    0.0    1.0    0.0    0.0    0.0    0.0    0.0    0.0    0.0    0.0    2.0    0.0    2.0    0.0    0.0    0.0    2.0    0.0    1.0    1.0    1.0    0.0    1.0    0.0    0.0    1.0    3.0    0.0    0.0    0.0    0.0    0.0    0.0    0.0    15.0   0.0    0.0    0.07023411371237458  42 / 598\n",
            "0.0    475.0  6.0    0.0    0.0    0.0    6.0    0.0    0.0    1.0    0.0    0.0    3.0    9.0    10.0   0.0    0.0    0.0    0.0    0.0    0.0    0.0    0.0    0.0    0.0    0.0    0.0    0.0    0.0    0.0    0.0    0.0    1.0    3.0    0.0    0.0    0.0    0.0    0.0    23.0   0.0    0.0    0.0    0.0    3.0    0.0    0.0    0.0    0.0    0.0    0.0    0.0    2.0    0.0    5.0    0.0    0.0    0.0    0.0    0.0    0.0    3.0    2.0    0.0    0.0    1.0    0.0    0.0    1.0    0.0    0.0    1.0    0.0    0.0    0.0    0.0    0.0    5.0    1.0    1.0    0.0    0.0    0.0    0.0    6.0    2.0    14.0   0.0    0.0    1.0    0.0    0.0    0.0    0.0    0.18803418803418803  110 / 585\n",
            "0.0    5.0    573.0  0.0    0.0    0.0    6.0    0.0    0.0    3.0    0.0    1.0    1.0    1.0    3.0    0.0    0.0    0.0    0.0    0.0    1.0    0.0    0.0    0.0    0.0    0.0    0.0    0.0    0.0    0.0    0.0    1.0    0.0    0.0    0.0    0.0    0.0    0.0    0.0    0.0    0.0    0.0    1.0    0.0    1.0    0.0    0.0    0.0    1.0    0.0    0.0    1.0    0.0    0.0    0.0    0.0    0.0    0.0    0.0    0.0    0.0    0.0    0.0    0.0    0.0    0.0    0.0    0.0    0.0    0.0    0.0    0.0    0.0    0.0    0.0    0.0    0.0    0.0    0.0    0.0    0.0    1.0    0.0    0.0    0.0    0.0    1.0    0.0    0.0    0.0    0.0    0.0    0.0    0.0    0.04658901830282862  28 / 601\n",
            "0.0    0.0    0.0    523.0  1.0    0.0    12.0   0.0    0.0    2.0    0.0    2.0    0.0    2.0    4.0    1.0    1.0    0.0    0.0    0.0    3.0    1.0    0.0    0.0    0.0    0.0    0.0    0.0    0.0    0.0    0.0    0.0    0.0    0.0    0.0    0.0    0.0    0.0    0.0    0.0    0.0    0.0    0.0    0.0    0.0    0.0    0.0    0.0    0.0    0.0    3.0    0.0    0.0    0.0    0.0    0.0    0.0    0.0    0.0    4.0    0.0    0.0    0.0    0.0    0.0    0.0    0.0    0.0    1.0    0.0    0.0    0.0    0.0    4.0    0.0    0.0    0.0    0.0    1.0    0.0    0.0    0.0    22.0   0.0    0.0    0.0    0.0    0.0    0.0    0.0    2.0    1.0    0.0    0.0    0.1135593220338983   67 / 590\n",
            "0.0    2.0    0.0    0.0    579.0  0.0    0.0    1.0    0.0    1.0    0.0    1.0    1.0    1.0    2.0    0.0    0.0    0.0    0.0    0.0    0.0    1.0    0.0    0.0    0.0    0.0    0.0    0.0    1.0    0.0    0.0    1.0    0.0    0.0    0.0    0.0    0.0    0.0    0.0    0.0    0.0    0.0    0.0    0.0    1.0    1.0    0.0    0.0    1.0    0.0    0.0    0.0    0.0    0.0    0.0    2.0    0.0    1.0    0.0    1.0    0.0    0.0    0.0    6.0    0.0    0.0    0.0    0.0    0.0    0.0    0.0    2.0    1.0    0.0    1.0    0.0    0.0    1.0    0.0    0.0    0.0    0.0    2.0    0.0    0.0    0.0    0.0    4.0    0.0    0.0    1.0    2.0    0.0    0.0    0.06310679611650485  39 / 618\n",
            "0.0    1.0    0.0    0.0    0.0    489.0  2.0    0.0    0.0    1.0    2.0    1.0    1.0    4.0    0.0    2.0    0.0    0.0    0.0    3.0    1.0    6.0    0.0    3.0    0.0    0.0    0.0    0.0    0.0    0.0    0.0    0.0    1.0    1.0    3.0    0.0    3.0    0.0    3.0    0.0    0.0    0.0    2.0    2.0    0.0    0.0    2.0    0.0    0.0    1.0    0.0    0.0    2.0    0.0    3.0    1.0    0.0    0.0    0.0    1.0    0.0    1.0    0.0    0.0    8.0    1.0    1.0    0.0    3.0    0.0    0.0    2.0    0.0    0.0    3.0    0.0    0.0    1.0    1.0    0.0    0.0    0.0    3.0    1.0    0.0    2.0    1.0    0.0    0.0    0.0    0.0    0.0    0.0    0.0    0.140597539543058    80 / 569\n",
            "10.0   1.0    0.0    0.0    0.0    0.0    483.0  1.0    0.0    0.0    0.0    66.0   0.0    17.0   26.0   0.0    0.0    0.0    0.0    0.0    0.0    0.0    1.0    0.0    0.0    0.0    1.0    0.0    0.0    0.0    0.0    0.0    0.0    0.0    0.0    0.0    0.0    0.0    0.0    0.0    3.0    1.0    0.0    1.0    0.0    0.0    0.0    0.0    0.0    0.0    0.0    4.0    0.0    0.0    0.0    0.0    0.0    0.0    0.0    0.0    0.0    0.0    0.0    0.0    1.0    0.0    1.0    0.0    0.0    0.0    0.0    0.0    0.0    0.0    1.0    0.0    0.0    0.0    0.0    2.0    0.0    1.0    0.0    1.0    0.0    0.0    0.0    1.0    0.0    0.0    0.0    10.0   0.0    0.0    0.23696682464454977  150 / 633\n",
            "0.0    0.0    0.0    0.0    0.0    0.0    1.0    535.0  0.0    0.0    0.0    0.0    0.0    2.0    6.0    0.0    0.0    0.0    0.0    0.0    0.0    0.0    0.0    0.0    0.0    0.0    0.0    2.0    0.0    0.0    0.0    0.0    0.0    0.0    5.0    0.0    1.0    0.0    0.0    0.0    0.0    0.0    0.0    1.0    0.0    0.0    0.0    0.0    0.0    0.0    0.0    0.0    0.0    0.0    0.0    0.0    0.0    0.0    11.0   1.0    0.0    0.0    0.0    1.0    0.0    0.0    3.0    0.0    0.0    1.0    0.0    0.0    0.0    0.0    0.0    1.0    0.0    0.0    0.0    0.0    0.0    0.0    0.0    3.0    0.0    0.0    0.0    0.0    0.0    1.0    5.0    5.0    0.0    0.0    0.08547008547008547  50 / 585\n",
            "1.0    0.0    0.0    0.0    0.0    0.0    0.0    0.0    522.0  0.0    0.0    4.0    0.0    1.0    0.0    2.0    0.0    2.0    0.0    0.0    0.0    0.0    0.0    0.0    2.0    0.0    0.0    0.0    0.0    1.0    0.0    0.0    0.0    0.0    0.0    0.0    0.0    0.0    0.0    0.0    0.0    11.0   0.0    0.0    0.0    0.0    1.0    0.0    0.0    0.0    0.0    0.0    1.0    0.0    0.0    0.0    0.0    0.0    0.0    0.0    16.0   0.0    0.0    0.0    0.0    0.0    0.0    0.0    0.0    0.0    0.0    0.0    0.0    27.0   0.0    0.0    0.0    1.0    0.0    0.0    0.0    0.0    0.0    0.0    0.0    0.0    1.0    0.0    0.0    0.0    0.0    2.0    4.0    0.0    0.1285475792988314   77 / 599\n",
            "0.0    0.0    4.0    0.0    0.0    0.0    11.0   0.0    0.0    503.0  1.0    0.0    2.0    32.0   6.0    1.0    0.0    0.0    0.0    0.0    0.0    0.0    0.0    1.0    0.0    0.0    0.0    0.0    0.0    0.0    0.0    1.0    0.0    0.0    0.0    0.0    0.0    0.0    0.0    1.0    0.0    0.0    0.0    0.0    1.0    0.0    0.0    0.0    0.0    0.0    0.0    0.0    0.0    0.0    0.0    0.0    0.0    0.0    0.0    0.0    0.0    1.0    1.0    1.0    3.0    0.0    0.0    0.0    0.0    0.0    0.0    0.0    0.0    0.0    0.0    0.0    0.0    0.0    0.0    0.0    1.0    0.0    0.0    0.0    2.0    0.0    2.0    4.0    0.0    0.0    0.0    0.0    0.0    0.0    0.13126079447322972  76 / 579\n",
            "---    ---    ---    ---    ---    ---    ---    ---    ---    ---    ---    ---    ---    ---    ---    ---    ---    ---    ---    ---    ---    ---    ---    ---    ---    ---    ---    ---    ---    ---    ---    ---    ---    ---    ---    ---    ---    ---    ---    ---    ---    ---    ---    ---    ---    ---    ---    ---    ---    ---    ---    ---    ---    ---    ---    ---    ---    ---    ---    ---    ---    ---    ---    ---    ---    ---    ---    ---    ---    ---    ---    ---    ---    ---    ---    ---    ---    ---    ---    ---    ---    ---    ---    ---    ---    ---    ---    ---    ---    ---    ---    ---    ---    ---    ---                  ---\n",
            "1.0    2.0    0.0    0.0    0.0    0.0    0.0    0.0    0.0    0.0    0.0    0.0    1.0    3.0    1.0    0.0    0.0    0.0    0.0    0.0    0.0    0.0    1.0    0.0    0.0    0.0    0.0    0.0    0.0    0.0    0.0    0.0    0.0    0.0    0.0    4.0    0.0    1.0    0.0    0.0    0.0    0.0    0.0    2.0    0.0    0.0    0.0    0.0    0.0    0.0    0.0    0.0    11.0   176.0  0.0    0.0    1.0    0.0    0.0    0.0    0.0    0.0    0.0    1.0    0.0    0.0    1.0    0.0    2.0    0.0    0.0    0.0    0.0    0.0    0.0    0.0    0.0    0.0    0.0    2.0    1.0    4.0    0.0    0.0    3.0    368.0  4.0    0.0    1.0    0.0    0.0    0.0    0.0    0.0    0.377326565143824    223 / 591\n",
            "0.0    0.0    0.0    0.0    0.0    0.0    0.0    0.0    0.0    0.0    0.0    0.0    4.0    4.0    1.0    0.0    0.0    0.0    0.0    0.0    0.0    0.0    0.0    0.0    0.0    0.0    0.0    0.0    0.0    0.0    0.0    0.0    0.0    0.0    0.0    0.0    0.0    0.0    0.0    1.0    0.0    0.0    1.0    0.0    0.0    0.0    0.0    0.0    0.0    0.0    0.0    1.0    1.0    0.0    142.0  0.0    0.0    0.0    0.0    0.0    0.0    0.0    1.0    0.0    0.0    0.0    0.0    0.0    0.0    0.0    0.0    0.0    0.0    0.0    0.0    0.0    1.0    0.0    0.0    0.0    0.0    0.0    0.0    0.0    4.0    1.0    392.0  0.0    0.0    0.0    0.0    0.0    0.0    0.0    0.2924187725631769   162 / 554\n",
            "0.0    1.0    0.0    0.0    0.0    0.0    1.0    0.0    0.0    0.0    0.0    2.0    0.0    1.0    1.0    0.0    0.0    0.0    0.0    0.0    0.0    0.0    1.0    1.0    0.0    0.0    0.0    0.0    0.0    0.0    0.0    0.0    0.0    0.0    0.0    0.0    0.0    0.0    0.0    0.0    0.0    0.0    1.0    1.0    1.0    0.0    0.0    0.0    0.0    1.0    0.0    0.0    0.0    0.0    1.0    160.0  0.0    1.0    0.0    6.0    0.0    0.0    0.0    4.0    2.0    0.0    0.0    0.0    0.0    0.0    0.0    1.0    0.0    0.0    0.0    2.0    1.0    0.0    0.0    0.0    0.0    0.0    0.0    0.0    0.0    0.0    2.0    391.0  1.0    0.0    0.0    0.0    0.0    0.0    0.3304794520547945   193 / 584\n",
            "0.0    1.0    0.0    1.0    0.0    0.0    2.0    0.0    1.0    0.0    0.0    8.0    0.0    3.0    0.0    0.0    1.0    0.0    0.0    0.0    0.0    0.0    7.0    3.0    6.0    0.0    1.0    0.0    0.0    1.0    0.0    0.0    0.0    2.0    0.0    0.0    0.0    1.0    1.0    0.0    0.0    1.0    0.0    1.0    1.0    0.0    0.0    1.0    0.0    0.0    0.0    4.0    1.0    7.0    1.0    0.0    42.0   0.0    0.0    1.0    0.0    0.0    0.0    0.0    0.0    0.0    0.0    1.0    0.0    1.0    5.0    0.0    0.0    0.0    0.0    0.0    0.0    0.0    0.0    5.0    1.0    1.0    0.0    0.0    2.0    0.0    1.0    0.0    452.0  0.0    0.0    1.0    5.0    0.0    0.21254355400696864  122 / 574\n",
            "1.0    0.0    2.0    0.0    1.0    0.0    3.0    0.0    1.0    0.0    0.0    0.0    0.0    0.0    3.0    1.0    2.0    3.0    2.0    0.0    0.0    0.0    1.0    2.0    0.0    0.0    0.0    0.0    1.0    0.0    0.0    0.0    0.0    0.0    1.0    0.0    0.0    0.0    0.0    0.0    1.0    2.0    0.0    2.0    0.0    0.0    0.0    0.0    0.0    0.0    0.0    1.0    1.0    0.0    0.0    2.0    1.0    98.0   1.0    0.0    2.0    0.0    0.0    0.0    0.0    0.0    1.0    0.0    0.0    0.0    0.0    0.0    0.0    0.0    1.0    1.0    0.0    1.0    0.0    0.0    0.0    0.0    1.0    0.0    0.0    0.0    1.0    6.0    0.0    444.0  0.0    0.0    0.0    0.0    0.24873096446700507  147 / 591\n",
            "1.0    0.0    0.0    0.0    0.0    0.0    0.0    21.0   0.0    0.0    0.0    0.0    0.0    1.0    12.0   0.0    0.0    0.0    0.0    0.0    0.0    0.0    0.0    1.0    0.0    0.0    0.0    1.0    0.0    0.0    0.0    0.0    0.0    0.0    0.0    1.0    0.0    0.0    0.0    0.0    1.0    1.0    0.0    0.0    0.0    0.0    0.0    0.0    0.0    0.0    0.0    0.0    0.0    0.0    1.0    0.0    0.0    0.0    5.0    1.0    0.0    0.0    0.0    1.0    0.0    0.0    2.0    0.0    0.0    0.0    0.0    0.0    0.0    0.0    0.0    0.0    0.0    0.0    0.0    0.0    0.0    0.0    0.0    1.0    0.0    0.0    0.0    0.0    0.0    0.0    503.0  9.0    0.0    0.0    0.10657193605683836  60 / 563\n",
            "1.0    1.0    0.0    0.0    0.0    0.0    4.0    4.0    0.0    0.0    0.0    0.0    0.0    1.0    23.0   0.0    0.0    0.0    0.0    0.0    0.0    0.0    0.0    0.0    0.0    0.0    0.0    0.0    0.0    0.0    0.0    0.0    0.0    0.0    0.0    0.0    0.0    0.0    0.0    0.0    91.0   0.0    0.0    1.0    0.0    0.0    0.0    0.0    0.0    0.0    0.0    0.0    0.0    0.0    0.0    0.0    0.0    0.0    2.0    2.0    2.0    0.0    0.0    0.0    0.0    0.0    0.0    0.0    0.0    1.0    0.0    0.0    0.0    0.0    0.0    23.0   0.0    0.0    0.0    0.0    0.0    0.0    0.0    0.0    0.0    0.0    1.0    0.0    0.0    0.0    0.0    425.0  0.0    0.0    0.2697594501718213   157 / 582\n",
            "0.0    1.0    0.0    0.0    0.0    0.0    0.0    0.0    15.0   0.0    0.0    2.0    0.0    1.0    8.0    1.0    1.0    0.0    1.0    0.0    0.0    0.0    0.0    0.0    0.0    2.0    0.0    0.0    0.0    3.0    0.0    0.0    0.0    0.0    0.0    0.0    0.0    0.0    0.0    0.0    0.0    2.0    0.0    0.0    0.0    0.0    0.0    0.0    0.0    0.0    0.0    0.0    0.0    0.0    0.0    0.0    0.0    0.0    0.0    2.0    16.0   0.0    0.0    0.0    0.0    0.0    0.0    0.0    0.0    0.0    0.0    0.0    0.0    2.0    0.0    1.0    0.0    0.0    0.0    0.0    0.0    0.0    0.0    0.0    0.0    0.0    0.0    0.0    0.0    0.0    1.0    3.0    513.0  0.0    0.10782608695652174  62 / 575\n",
            "0.0    0.0    0.0    0.0    0.0    1.0    0.0    0.0    0.0    0.0    0.0    0.0    15.0   0.0    0.0    0.0    0.0    0.0    0.0    1.0    0.0    0.0    0.0    0.0    0.0    0.0    0.0    0.0    0.0    0.0    0.0    0.0    0.0    0.0    0.0    0.0    0.0    0.0    0.0    0.0    0.0    0.0    0.0    0.0    0.0    0.0    0.0    0.0    0.0    0.0    0.0    0.0    0.0    0.0    0.0    0.0    0.0    0.0    0.0    0.0    0.0    1.0    6.0    3.0    0.0    0.0    0.0    0.0    2.0    0.0    0.0    0.0    0.0    0.0    0.0    0.0    0.0    0.0    0.0    0.0    0.0    0.0    0.0    0.0    0.0    0.0    0.0    0.0    0.0    0.0    0.0    0.0    0.0    532.0  0.05169340463458111  29 / 561\n",
            "614.0  602.0  653.0  551.0  598.0  525.0  791.0  636.0  565.0  550.0  607.0  609.0  498.0  825.0  819.0  779.0  466.0  596.0  613.0  596.0  580.0  552.0  606.0  606.0  630.0  581.0  600.0  534.0  605.0  580.0  579.0  536.0  519.0  527.0  340.0  572.0  531.0  565.0  575.0  613.0  674.0  613.0  543.0  698.0  494.0  518.0  423.0  485.0  480.0  567.0  399.0  572.0  620.0  605.0  506.0  512.0  540.0  421.0  586.0  673.0  558.0  619.0  780.0  543.0  580.0  561.0  928.0  517.0  545.0  523.0  502.0  570.0  424.0  628.0  521.0  302.0  542.0  591.0  573.0  596.0  560.0  467.0  699.0  488.0  519.0  617.0  754.0  655.0  531.0  754.0  528.0  868.0  551.0  538.0  0.18743244481084548  10,231 / 54,585\n",
            "[95 rows x 96 columns]\n",
            "\n",
            "\n",
            "Top-10 Hit Ratios: \n",
            "k    hit_ratio\n",
            "---  -----------\n",
            "1    0.812568\n",
            "2    0.907044\n",
            "3    0.931685\n",
            "4    0.942493\n",
            "5    0.94984\n",
            "6    0.954383\n",
            "7    0.958652\n",
            "8    0.962151\n",
            "9    0.964624\n",
            "10   0.967024\n"
          ]
        }
      ],
      "source": [
        "# Get the best model from AutoML\n",
        "best_model = aml.leader\n",
        "\n",
        "# Evaluate the best model on the test set\n",
        "perf = best_model.model_performance(test)\n",
        "print(perf)\n"
      ]
    },
    {
      "cell_type": "code",
      "execution_count": null,
      "id": "cd4ad9bf",
      "metadata": {
        "execution": {
          "iopub.execute_input": "2024-04-10T01:55:04.293075Z",
          "iopub.status.busy": "2024-04-10T01:55:04.291901Z",
          "iopub.status.idle": "2024-04-10T01:55:19.929195Z",
          "shell.execute_reply": "2024-04-10T01:55:19.927929Z"
        },
        "id": "cd4ad9bf",
        "papermill": {
          "duration": 15.78703,
          "end_time": "2024-04-10T01:55:19.931565",
          "exception": false,
          "start_time": "2024-04-10T01:55:04.144535",
          "status": "completed"
        },
        "tags": [],
        "outputId": "ea5f54e7-923e-4c89-c241-403cb3bd933f"
      },
      "outputs": [
        {
          "name": "stdout",
          "output_type": "stream",
          "text": [
            "deeplearning prediction progress: |██████████████████████████████████████████████| (done) 100%\n",
            "Test accuracy: 81.26%\n"
          ]
        }
      ],
      "source": [
        "# Get the best model from AutoML\n",
        "best_model = aml.leader\n",
        "\n",
        "# Make predictions on the test set\n",
        "predictions = best_model.predict(test)\n",
        "\n",
        "# Calculate accuracy\n",
        "accuracy = (predictions['predict'] == test['labels']).mean()[0]\n",
        "print(f\"Test accuracy: {accuracy * 100:.2f}%\")\n"
      ]
    },
    {
      "cell_type": "markdown",
      "id": "a37300a1",
      "metadata": {
        "papermill": {
          "duration": 0.101649,
          "end_time": "2024-04-10T01:55:20.171884",
          "exception": false,
          "start_time": "2024-04-10T01:55:20.070235",
          "status": "completed"
        },
        "tags": [],
        "id": "a37300a1"
      },
      "source": [
        "we see the results of the AutoML process, which includes training various machine learning models on the dataset to find the best-performing one. The \"Top-10 Hit Ratios\" section shows the hit ratios for the top predictions, indicating the model's accuracy at predicting the correct label within the top k predictions. For example, a hit ratio of 0.8126 for k=1 means that the model predicted the correct label as the top choice 81.26%\n",
        " of the time.\n",
        "\n",
        "\n",
        "To improve the accuracy of your neural network while still using it, you can try the following approaches:\n",
        "- Increase Model Complexity: Add more layers or neurons to your neural network to increase its capacity to learn complex patterns in the data. Be careful not to overfit the model to the training data.\n",
        "- Hyperparameter Tuning: Experiment with different hyperparameters such as learning rate, batch size, and optimizer to find the best configuration for your model. You can use techniques like grid search or random search for hyperparameter tuning.\n",
        "- Regularization: Apply techniques like dropout or L2 regularization to prevent overfitting and improve generalization of your model.\n",
        "- Data Augmentation: Generate additional training data by applying transformations such as rotation, scaling, or flipping to the existing images. This can help the model learn more robust features.\n",
        "- Transfer Learning: Use a pre-trained neural network (e.g., from ImageNet) as a starting point and fine-tune it on your dataset. This can help leverage features learned from a larger dataset.\n",
        "- Ensemble Learning: Train multiple neural networks with different initializations or architectures and combine their predictions to improve performance.\n",
        "- Batch Normalization: Use batch normalization layers to normalize the inputs of each layer, which can help stabilize and speed up training.\n",
        "- Early Stopping: Monitor the validation loss during training and stop training when the loss starts to increase, indicating overfitting.\n",
        "\n",
        "By carefully implementing these techniques and experimenting with different approaches, you can improve the accuracy of your neural network model."
      ]
    },
    {
      "cell_type": "markdown",
      "id": "a9530c56",
      "metadata": {
        "papermill": {
          "duration": 0.098146,
          "end_time": "2024-04-10T01:55:20.367743",
          "exception": false,
          "start_time": "2024-04-10T01:55:20.269597",
          "status": "completed"
        },
        "tags": [],
        "id": "a9530c56"
      },
      "source": [
        "# TLDR"
      ]
    },
    {
      "cell_type": "markdown",
      "id": "c1b600e3",
      "metadata": {
        "papermill": {
          "duration": 0.09885,
          "end_time": "2024-04-10T01:55:20.564187",
          "exception": false,
          "start_time": "2024-04-10T01:55:20.465337",
          "status": "completed"
        },
        "tags": [],
        "id": "c1b600e3"
      },
      "source": [
        "From this project, several key learnings can be highlighted:\n",
        "\n",
        "1. **Data Preparation is Crucial**: Working with image data often requires careful preprocessing and formatting to ensure that the models can effectively learn from the data. Converting image data into a suitable format (such as CSV) and performing necessary transformations are critical steps.\n",
        "\n",
        "2. **Model Selection is Important**: Choosing the right model architecture and hyperparameters can significantly impact the performance of the final model. Exploring different models and tuning hyperparameters using techniques like AutoML can help identify the best-performing model for a given task.\n",
        "\n",
        "3. **Combining Techniques Can Yield Better Results**: Using a combination of deep learning (CNNs) and AutoML can lead to improved model performance. While CNNs are powerful for learning complex patterns in image data, AutoML can automate the process of model selection and hyperparameter tuning, saving time and effort.\n",
        "\n",
        "4. **Iterative Approach to Model Improvement**: Model development is often an iterative process that involves experimentation, evaluation, and refinement. Continuously refining models based on performance metrics and domain knowledge can lead to better outcomes.\n",
        "\n",
        "5. **Domain Knowledge is Key**: Understanding the domain and the characteristics of the dataset can guide the selection of appropriate models and preprocessing techniques. Domain expertise can help in interpreting model results and making informed decisions.\n",
        "\n",
        "Overall, this project underscores the importance of a systematic approach to model development, leveraging both deep learning and automated techniques to achieve better results in image-related tasks."
      ]
    },
    {
      "cell_type": "markdown",
      "id": "d59b7830",
      "metadata": {
        "papermill": {
          "duration": null,
          "end_time": null,
          "exception": null,
          "start_time": null,
          "status": "pending"
        },
        "tags": [],
        "id": "d59b7830"
      },
      "source": [
        "# Conclusion"
      ]
    },
    {
      "cell_type": "markdown",
      "id": "786540bd",
      "metadata": {
        "papermill": {
          "duration": null,
          "end_time": null,
          "exception": null,
          "start_time": null,
          "status": "pending"
        },
        "tags": [],
        "id": "786540bd"
      },
      "source": [
        "The project focused on developing and optimizing models for working with image data, particularly the Typography MNIST (TMNIST) dataset, which was provided in CSV format. The project employed two main approaches: a Convolutional Neural Network (CNN) model and Automated Machine Learning (AutoML) using H2O AutoML.\n",
        "For the CNN model, standard practices were followed, including data preprocessing, model training, and evaluation. The CNN model aimed to learn and extract features from the images to perform tasks such as classification or recognition. In parallel, AutoML was used to automate the model selection and hyperparameter tuning process. H2O AutoML was configured to train multiple models with different configurations, enabling the selection of the best-performing model based on specified metrics. The results of the project showcased the effectiveness of both approaches. The CNN model demonstrated its capability to learn and extract meaningful features from image data, achieving a certain level of accuracy on the test dataset. Similarly, the AutoML-selected model, which was optimized for performance, also showed competitive results. Moving forward, the project suggests potential areas for improvement. These include further fine-tuning of the models, exploring additional data augmentation techniques to enhance model robustness, and experimenting with different model architectures to potentially achieve higher accuracies.\n",
        "\n",
        "\n",
        "In conclusion, the project highlighted the value of combining deep learning techniques like CNNs with AutoML for efficient model development and optimization. This approach can be beneficial for various image-related tasks and provides a foundation for future work in this domain."
      ]
    },
    {
      "cell_type": "markdown",
      "id": "f747beb7",
      "metadata": {
        "papermill": {
          "duration": null,
          "end_time": null,
          "exception": null,
          "start_time": null,
          "status": "pending"
        },
        "tags": [],
        "id": "f747beb7"
      },
      "source": [
        "# License\n",
        "MIT License\n",
        "\n",
        "Copyright (c) 2023 Priyam Deepak Choksi\n",
        "\n",
        "Permission is hereby granted, free of charge, to any person obtaining a copy of this software and associated documentation files (the \"Software\"), to deal in the Software without restriction, including without limitation the rights to use, copy, modify, merge, publish, distribute, sublicense, and/or sell copies of the Software, and to permit persons to whom the Software is furnished to do so, subject to the following conditions:\n",
        "\n",
        "The above copyright notice and this permission notice shall be included in all copies or substantial portions of the Software.\n",
        "\n",
        "THE SOFTWARE IS PROVIDED \"AS IS\", WITHOUT WARRANTY OF ANY KIND, EXPRESS OR IMPLIED, INCLUDING BUT NOT LIMITED TO THE WARRANTIES OF MERCHANTABILITY, FITNESS FOR A PARTICULAR PURPOSE AND NONINFRINGEMENT. IN NO EVENT SHALL THE AUTHORS OR COPYRIGHT HOLDERS BE LIABLE FOR ANY CLAIM, DAMAGES OR OTHER LIABILITY, WHETHER IN AN ACTION OF CONTRACT, TORT OR OTHERWISE, ARISING FROM, OUT OF OR IN CONNECTION WITH THE SOFTWARE OR THE USE OR OTHER DEALINGS IN THE SOFTWARE."
      ]
    }
  ],
  "metadata": {
    "colab": {
      "provenance": []
    },
    "kaggle": {
      "accelerator": "nvidiaTeslaT4",
      "dataSources": [
        {
          "datasetId": 1564532,
          "sourceId": 2830968,
          "sourceType": "datasetVersion"
        }
      ],
      "dockerImageVersionId": 30683,
      "isGpuEnabled": true,
      "isInternetEnabled": true,
      "language": "python",
      "sourceType": "notebook"
    },
    "kernelspec": {
      "display_name": "Python 3",
      "language": "python",
      "name": "python3"
    },
    "language_info": {
      "codemirror_mode": {
        "name": "ipython",
        "version": 3
      },
      "file_extension": ".py",
      "mimetype": "text/x-python",
      "name": "python",
      "nbconvert_exporter": "python",
      "pygments_lexer": "ipython3",
      "version": "3.10.13"
    },
    "papermill": {
      "default_parameters": {},
      "duration": 2229.65988,
      "end_time": "2024-04-10T01:55:26.734447",
      "environment_variables": {},
      "exception": true,
      "input_path": "__notebook__.ipynb",
      "output_path": "__notebook__.ipynb",
      "parameters": {},
      "start_time": "2024-04-10T01:18:17.074567",
      "version": "2.5.0"
    }
  },
  "nbformat": 4,
  "nbformat_minor": 5
}